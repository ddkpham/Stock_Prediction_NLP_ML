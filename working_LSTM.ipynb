{
  "nbformat": 4,
  "nbformat_minor": 0,
  "metadata": {
    "colab": {
      "name": "working LSTM",
      "provenance": [],
      "collapsed_sections": [],
      "authorship_tag": "ABX9TyPQLttF1LAHYGk+1IgfsU6G",
      "include_colab_link": true
    },
    "kernelspec": {
      "name": "python3",
      "display_name": "Python 3"
    },
    "accelerator": "GPU"
  },
  "cells": [
    {
      "cell_type": "markdown",
      "metadata": {
        "id": "view-in-github",
        "colab_type": "text"
      },
      "source": [
        "<a href=\"https://colab.research.google.com/github/alik604/ok-boomer/blob/master/working_LSTM.ipynb\" target=\"_parent\"><img src=\"https://colab.research.google.com/assets/colab-badge.svg\" alt=\"Open In Colab\"/></a>"
      ]
    },
    {
      "cell_type": "markdown",
      "metadata": {
        "id": "XX5hPUg32w5U",
        "colab_type": "text"
      },
      "source": [
        "# Working LSTM example and smaple code"
      ]
    },
    {
      "cell_type": "markdown",
      "metadata": {
        "id": "_AMLidWD29aM",
        "colab_type": "text"
      },
      "source": [
        "there is one issue, do ctrl+F \"TODO\" to find it "
      ]
    },
    {
      "cell_type": "markdown",
      "metadata": {
        "id": "LZQI4n7P29ef",
        "colab_type": "text"
      },
      "source": [
        ""
      ]
    },
    {
      "cell_type": "code",
      "metadata": {
        "id": "6yemzOlo29nl",
        "colab_type": "code",
        "outputId": "4e8f60b5-b731-4a2a-e2c4-b377d0b2329d",
        "colab": {
          "base_uri": "https://localhost:8080/",
          "height": 34
        }
      },
      "source": [
        "from google.colab import drive\n",
        "drive.mount('/content/drive')"
      ],
      "execution_count": 560,
      "outputs": [
        {
          "output_type": "stream",
          "text": [
            "Drive already mounted at /content/drive; to attempt to forcibly remount, call drive.mount(\"/content/drive\", force_remount=True).\n"
          ],
          "name": "stdout"
        }
      ]
    },
    {
      "cell_type": "code",
      "metadata": {
        "id": "z33Acg1y29qh",
        "colab_type": "code",
        "colab": {}
      },
      "source": [
        "!cp '/content/drive/My Drive/CMPT 419 project/Data/tech1-agg.csv' tech1.csv\n",
        "!cp '/content/drive/My Drive/CMPT 419 project/Data/tech2-agg.csv' tech2.csv\n"
      ],
      "execution_count": 0,
      "outputs": []
    },
    {
      "cell_type": "code",
      "metadata": {
        "id": "7hBLiIwS29ty",
        "colab_type": "code",
        "outputId": "0931ce66-755c-46a2-ca13-829c7c784392",
        "colab": {
          "base_uri": "https://localhost:8080/",
          "height": 34
        }
      },
      "source": [
        "!ls"
      ],
      "execution_count": 562,
      "outputs": [
        {
          "output_type": "stream",
          "text": [
            "drive  sample_data  tech1.csv  tech2.csv\n"
          ],
          "name": "stdout"
        }
      ]
    },
    {
      "cell_type": "markdown",
      "metadata": {
        "id": "bT60E-vo-tnq",
        "colab_type": "text"
      },
      "source": [
        "# start coding "
      ]
    },
    {
      "cell_type": "code",
      "metadata": {
        "id": "Y6u4xcd929w7",
        "colab_type": "code",
        "colab": {}
      },
      "source": [
        "import numpy as np\n",
        "import pandas as pd\n",
        "import matplotlib\n",
        "import matplotlib.pyplot as plt\n",
        "%matplotlib notebook\n",
        "%matplotlib inline\n",
        "\n",
        "\n",
        "import tensorflow as tf\n",
        "\n",
        "from IPython.core.interactiveshell import InteractiveShell\n",
        "InteractiveShell.ast_node_interactivity = \"all\"\n",
        "\n",
        "from sklearn.model_selection import train_test_split\n",
        "from sklearn.preprocessing import MinMaxScaler\n",
        "\n",
        "import keras\n",
        "from keras import regularizers\n",
        "from keras.models import Sequential\n",
        "from keras.callbacks import ModelCheckpoint, TensorBoard\n",
        "from keras.constraints import max_norm\n",
        "from keras.layers import Dense, BatchNormalization\n",
        "from keras.layers import GRU, LSTM, CuDNNGRU, CuDNNLSTM\n",
        "from keras.utils import to_categorical\n",
        "from keras.preprocessing import sequence\n",
        "\n",
        "\n",
        "import os\n",
        "os.environ['TF_CPP_MIN_LOG_LEVEL'] = '3' \n",
        "os.environ[\"CUDA_VISIBLE_DEVICES\"]=\"3\""
      ],
      "execution_count": 0,
      "outputs": []
    },
    {
      "cell_type": "code",
      "metadata": {
        "id": "pW8WfuaW290G",
        "colab_type": "code",
        "outputId": "c8d240ce-66ed-40a7-cdde-75c97449ba00",
        "colab": {
          "base_uri": "https://localhost:8080/",
          "height": 204
        }
      },
      "source": [
        "df1 = pd.read_csv('tech1.csv')\n",
        "df2 = pd.read_csv('tech2.csv')\n",
        "\n",
        "df = pd.concat([df1,df2])\n",
        "df.tail()"
      ],
      "execution_count": 564,
      "outputs": [
        {
          "output_type": "execute_result",
          "data": {
            "text/html": [
              "<div>\n",
              "<style scoped>\n",
              "    .dataframe tbody tr th:only-of-type {\n",
              "        vertical-align: middle;\n",
              "    }\n",
              "\n",
              "    .dataframe tbody tr th {\n",
              "        vertical-align: top;\n",
              "    }\n",
              "\n",
              "    .dataframe thead th {\n",
              "        text-align: right;\n",
              "    }\n",
              "</style>\n",
              "<table border=\"1\" class=\"dataframe\">\n",
              "  <thead>\n",
              "    <tr style=\"text-align: right;\">\n",
              "      <th></th>\n",
              "      <th>Unnamed: 0</th>\n",
              "      <th>DATE</th>\n",
              "      <th>SYM_ROOT</th>\n",
              "      <th>SIZE</th>\n",
              "      <th>PRICE</th>\n",
              "    </tr>\n",
              "  </thead>\n",
              "  <tbody>\n",
              "    <tr>\n",
              "      <th>8196</th>\n",
              "      <td>140186193</td>\n",
              "      <td>2019-12-31 06:00:00</td>\n",
              "      <td>MSFT</td>\n",
              "      <td>77</td>\n",
              "      <td>157.50</td>\n",
              "    </tr>\n",
              "    <tr>\n",
              "      <th>8197</th>\n",
              "      <td>140186209</td>\n",
              "      <td>2019-12-31 07:00:00</td>\n",
              "      <td>MSFT</td>\n",
              "      <td>100</td>\n",
              "      <td>157.34</td>\n",
              "    </tr>\n",
              "    <tr>\n",
              "      <th>8198</th>\n",
              "      <td>140186493</td>\n",
              "      <td>2019-12-31 08:00:00</td>\n",
              "      <td>MSFT</td>\n",
              "      <td>2</td>\n",
              "      <td>157.16</td>\n",
              "    </tr>\n",
              "    <tr>\n",
              "      <th>8199</th>\n",
              "      <td>140201236</td>\n",
              "      <td>2019-12-31 09:00:00</td>\n",
              "      <td>MSFT</td>\n",
              "      <td>300</td>\n",
              "      <td>157.25</td>\n",
              "    </tr>\n",
              "    <tr>\n",
              "      <th>8200</th>\n",
              "      <td>140309303</td>\n",
              "      <td>2019-12-31 01:00:00</td>\n",
              "      <td>MSFT</td>\n",
              "      <td>200</td>\n",
              "      <td>157.85</td>\n",
              "    </tr>\n",
              "  </tbody>\n",
              "</table>\n",
              "</div>"
            ],
            "text/plain": [
              "      Unnamed: 0                 DATE SYM_ROOT  SIZE   PRICE\n",
              "8196   140186193  2019-12-31 06:00:00     MSFT    77  157.50\n",
              "8197   140186209  2019-12-31 07:00:00     MSFT   100  157.34\n",
              "8198   140186493  2019-12-31 08:00:00     MSFT     2  157.16\n",
              "8199   140201236  2019-12-31 09:00:00     MSFT   300  157.25\n",
              "8200   140309303  2019-12-31 01:00:00     MSFT   200  157.85"
            ]
          },
          "metadata": {
            "tags": []
          },
          "execution_count": 564
        }
      ]
    },
    {
      "cell_type": "code",
      "metadata": {
        "id": "kTYH7X0t293S",
        "colab_type": "code",
        "outputId": "0b43df18-949d-48a5-f24f-8a9f019b66be",
        "colab": {
          "base_uri": "https://localhost:8080/",
          "height": 235
        }
      },
      "source": [
        "df = df.drop(['Unnamed: 0'],axis=1)\n",
        "df.index = df.DATE\n",
        "df.tail()"
      ],
      "execution_count": 565,
      "outputs": [
        {
          "output_type": "execute_result",
          "data": {
            "text/html": [
              "<div>\n",
              "<style scoped>\n",
              "    .dataframe tbody tr th:only-of-type {\n",
              "        vertical-align: middle;\n",
              "    }\n",
              "\n",
              "    .dataframe tbody tr th {\n",
              "        vertical-align: top;\n",
              "    }\n",
              "\n",
              "    .dataframe thead th {\n",
              "        text-align: right;\n",
              "    }\n",
              "</style>\n",
              "<table border=\"1\" class=\"dataframe\">\n",
              "  <thead>\n",
              "    <tr style=\"text-align: right;\">\n",
              "      <th></th>\n",
              "      <th>DATE</th>\n",
              "      <th>SYM_ROOT</th>\n",
              "      <th>SIZE</th>\n",
              "      <th>PRICE</th>\n",
              "    </tr>\n",
              "    <tr>\n",
              "      <th>DATE</th>\n",
              "      <th></th>\n",
              "      <th></th>\n",
              "      <th></th>\n",
              "      <th></th>\n",
              "    </tr>\n",
              "  </thead>\n",
              "  <tbody>\n",
              "    <tr>\n",
              "      <th>2019-12-31 06:00:00</th>\n",
              "      <td>2019-12-31 06:00:00</td>\n",
              "      <td>MSFT</td>\n",
              "      <td>77</td>\n",
              "      <td>157.50</td>\n",
              "    </tr>\n",
              "    <tr>\n",
              "      <th>2019-12-31 07:00:00</th>\n",
              "      <td>2019-12-31 07:00:00</td>\n",
              "      <td>MSFT</td>\n",
              "      <td>100</td>\n",
              "      <td>157.34</td>\n",
              "    </tr>\n",
              "    <tr>\n",
              "      <th>2019-12-31 08:00:00</th>\n",
              "      <td>2019-12-31 08:00:00</td>\n",
              "      <td>MSFT</td>\n",
              "      <td>2</td>\n",
              "      <td>157.16</td>\n",
              "    </tr>\n",
              "    <tr>\n",
              "      <th>2019-12-31 09:00:00</th>\n",
              "      <td>2019-12-31 09:00:00</td>\n",
              "      <td>MSFT</td>\n",
              "      <td>300</td>\n",
              "      <td>157.25</td>\n",
              "    </tr>\n",
              "    <tr>\n",
              "      <th>2019-12-31 01:00:00</th>\n",
              "      <td>2019-12-31 01:00:00</td>\n",
              "      <td>MSFT</td>\n",
              "      <td>200</td>\n",
              "      <td>157.85</td>\n",
              "    </tr>\n",
              "  </tbody>\n",
              "</table>\n",
              "</div>"
            ],
            "text/plain": [
              "                                    DATE SYM_ROOT  SIZE   PRICE\n",
              "DATE                                                           \n",
              "2019-12-31 06:00:00  2019-12-31 06:00:00     MSFT    77  157.50\n",
              "2019-12-31 07:00:00  2019-12-31 07:00:00     MSFT   100  157.34\n",
              "2019-12-31 08:00:00  2019-12-31 08:00:00     MSFT     2  157.16\n",
              "2019-12-31 09:00:00  2019-12-31 09:00:00     MSFT   300  157.25\n",
              "2019-12-31 01:00:00  2019-12-31 01:00:00     MSFT   200  157.85"
            ]
          },
          "metadata": {
            "tags": []
          },
          "execution_count": 565
        }
      ]
    },
    {
      "cell_type": "code",
      "metadata": {
        "id": "GJkgYJec296o",
        "colab_type": "code",
        "outputId": "f3aa87dc-fc5f-4502-fe04-d8326ab1de2e",
        "colab": {
          "base_uri": "https://localhost:8080/",
          "height": 34
        }
      },
      "source": [
        "temp = df.SYM_ROOT.values\n",
        "temp = set(temp)\n",
        "print(temp)"
      ],
      "execution_count": 566,
      "outputs": [
        {
          "output_type": "stream",
          "text": [
            "{'MSFT', 'AMZN', 'AAPL', 'FNGU', 'GOOG'}\n"
          ],
          "name": "stdout"
        }
      ]
    },
    {
      "cell_type": "code",
      "metadata": {
        "id": "oHa7yW3E299-",
        "colab_type": "code",
        "outputId": "758515f2-a28e-4ff9-e56d-759934a21ae1",
        "colab": {
          "base_uri": "https://localhost:8080/",
          "height": 320
        }
      },
      "source": [
        "aapl = df[df.SYM_ROOT == 'AAPL']\n",
        "aapl.drop(['SYM_ROOT','SIZE'],axis=1,inplace=True)\n",
        "\n",
        "aapl.tail(5)"
      ],
      "execution_count": 567,
      "outputs": [
        {
          "output_type": "stream",
          "text": [
            "/usr/local/lib/python3.6/dist-packages/pandas/core/frame.py:4117: SettingWithCopyWarning: \n",
            "A value is trying to be set on a copy of a slice from a DataFrame\n",
            "\n",
            "See the caveats in the documentation: http://pandas.pydata.org/pandas-docs/stable/user_guide/indexing.html#returning-a-view-versus-a-copy\n",
            "  errors=errors,\n"
          ],
          "name": "stderr"
        },
        {
          "output_type": "execute_result",
          "data": {
            "text/html": [
              "<div>\n",
              "<style scoped>\n",
              "    .dataframe tbody tr th:only-of-type {\n",
              "        vertical-align: middle;\n",
              "    }\n",
              "\n",
              "    .dataframe tbody tr th {\n",
              "        vertical-align: top;\n",
              "    }\n",
              "\n",
              "    .dataframe thead th {\n",
              "        text-align: right;\n",
              "    }\n",
              "</style>\n",
              "<table border=\"1\" class=\"dataframe\">\n",
              "  <thead>\n",
              "    <tr style=\"text-align: right;\">\n",
              "      <th></th>\n",
              "      <th>DATE</th>\n",
              "      <th>PRICE</th>\n",
              "    </tr>\n",
              "    <tr>\n",
              "      <th>DATE</th>\n",
              "      <th></th>\n",
              "      <th></th>\n",
              "    </tr>\n",
              "  </thead>\n",
              "  <tbody>\n",
              "    <tr>\n",
              "      <th>2019-12-31 06:00:00</th>\n",
              "      <td>2019-12-31 06:00:00</td>\n",
              "      <td>291.00</td>\n",
              "    </tr>\n",
              "    <tr>\n",
              "      <th>2019-12-31 07:00:00</th>\n",
              "      <td>2019-12-31 07:00:00</td>\n",
              "      <td>290.61</td>\n",
              "    </tr>\n",
              "    <tr>\n",
              "      <th>2019-12-31 08:00:00</th>\n",
              "      <td>2019-12-31 08:00:00</td>\n",
              "      <td>290.30</td>\n",
              "    </tr>\n",
              "    <tr>\n",
              "      <th>2019-12-31 09:00:00</th>\n",
              "      <td>2019-12-31 09:00:00</td>\n",
              "      <td>292.16</td>\n",
              "    </tr>\n",
              "    <tr>\n",
              "      <th>2019-12-31 01:00:00</th>\n",
              "      <td>2019-12-31 01:00:00</td>\n",
              "      <td>293.70</td>\n",
              "    </tr>\n",
              "  </tbody>\n",
              "</table>\n",
              "</div>"
            ],
            "text/plain": [
              "                                    DATE   PRICE\n",
              "DATE                                            \n",
              "2019-12-31 06:00:00  2019-12-31 06:00:00  291.00\n",
              "2019-12-31 07:00:00  2019-12-31 07:00:00  290.61\n",
              "2019-12-31 08:00:00  2019-12-31 08:00:00  290.30\n",
              "2019-12-31 09:00:00  2019-12-31 09:00:00  292.16\n",
              "2019-12-31 01:00:00  2019-12-31 01:00:00  293.70"
            ]
          },
          "metadata": {
            "tags": []
          },
          "execution_count": 567
        }
      ]
    },
    {
      "cell_type": "code",
      "metadata": {
        "id": "pfXSSkaj2-Bu",
        "colab_type": "code",
        "colab": {}
      },
      "source": [
        "y = aapl.PRICE.values\n",
        "x = np.arange(len(y))"
      ],
      "execution_count": 0,
      "outputs": []
    },
    {
      "cell_type": "code",
      "metadata": {
        "id": "Bwh9wRjvyAv6",
        "colab_type": "code",
        "colab": {
          "base_uri": "https://localhost:8080/",
          "height": 34
        },
        "outputId": "aaa5e477-52c5-4b39-c386-bad643d707af"
      },
      "source": [
        "y[0]"
      ],
      "execution_count": 672,
      "outputs": [
        {
          "output_type": "execute_result",
          "data": {
            "text/plain": [
              "169.18"
            ]
          },
          "metadata": {
            "tags": []
          },
          "execution_count": 672
        }
      ]
    },
    {
      "cell_type": "code",
      "metadata": {
        "id": "eWXA-_HJroRI",
        "colab_type": "code",
        "colab": {
          "base_uri": "https://localhost:8080/",
          "height": 285
        },
        "outputId": "5e5b0093-a92e-4662-931c-a02e6690dc1c"
      },
      "source": [
        "plt.plot(range(len(y)),y)"
      ],
      "execution_count": 673,
      "outputs": [
        {
          "output_type": "execute_result",
          "data": {
            "text/plain": [
              "[<matplotlib.lines.Line2D at 0x7f71e3a37710>]"
            ]
          },
          "metadata": {
            "tags": []
          },
          "execution_count": 673
        },
        {
          "output_type": "display_data",
          "data": {
            "image/png": "[encoded data removed]",
            "text/plain": [
              "<Figure size 432x288 with 1 Axes>"
            ]
          },
          "metadata": {
            "tags": []
          }
        }
      ]
    },
    {
      "cell_type": "code",
      "metadata": {
        "id": "kfgPRQlf2-Ew",
        "colab_type": "code",
        "outputId": "c07ed956-2c13-4f0c-ede7-ff9b836753e5",
        "colab": {
          "base_uri": "https://localhost:8080/",
          "height": 34
        }
      },
      "source": [
        "print('Are X and Y the same size?: ', len(y) == len(x))"
      ],
      "execution_count": 674,
      "outputs": [
        {
          "output_type": "stream",
          "text": [
            "Are X and Y the same size?:  True\n"
          ],
          "name": "stdout"
        }
      ]
    },
    {
      "cell_type": "code",
      "metadata": {
        "id": "_vl2tCKV2-N5",
        "colab_type": "code",
        "colab": {}
      },
      "source": [
        "# scaler = MinMaxScaler(feature_range = (0, 1))\n",
        "# x = x.reshape(1,-1)\n",
        "# y = y.reshape(1,-1)\n",
        "# scaler = scaler.fit(x)\n",
        "# x = scaler.transform(x)\n"
      ],
      "execution_count": 0,
      "outputs": []
    },
    {
      "cell_type": "code",
      "metadata": {
        "id": "4qHw8eK82-QG",
        "colab_type": "code",
        "colab": {}
      },
      "source": [
        "# X_train, X_test, y_train, y_test = train_test_split(x, y, test_size=0.10, random_state=42, shuffle=False )\n"
      ],
      "execution_count": 0,
      "outputs": []
    },
    {
      "cell_type": "code",
      "metadata": {
        "id": "gLeW0kUJjkGY",
        "colab_type": "code",
        "outputId": "939f6874-7a78-4ec0-9e84-1f4c14e318f3",
        "colab": {
          "base_uri": "https://localhost:8080/",
          "height": 136
        }
      },
      "source": [
        "t = pd.DataFrame(aapl.PRICE.values)\n",
        "scaler = MinMaxScaler(feature_range = (0, 1))\n",
        "tt = scaler.fit_transform(t)\n",
        "tt"
      ],
      "execution_count": 707,
      "outputs": [
        {
          "output_type": "execute_result",
          "data": {
            "text/plain": [
              "array([[0.17814006],\n",
              "       [0.18018613],\n",
              "       [0.18137417],\n",
              "       ...,\n",
              "       [0.97755924],\n",
              "       [0.98983565],\n",
              "       [1.        ]])"
            ]
          },
          "metadata": {
            "tags": []
          },
          "execution_count": 707
        }
      ]
    },
    {
      "cell_type": "code",
      "metadata": {
        "id": "rjfdZKxsKJJ2",
        "colab_type": "code",
        "colab": {}
      },
      "source": [
        "X_train = []\n",
        "y_train = []\n",
        "maxlen = 60\n",
        "\n",
        "for i in range(maxlen, 3635):\n",
        "    X_train.append(tt[i-maxlen:i, 0])\n",
        "    y_train.append(tt[i, 0])\n",
        "X_train, y_train = np.array(X_train), np.array(y_train)\n",
        "\n",
        "X_train = np.reshape(X_train, (X_train.shape[0], X_train.shape[1], 1))"
      ],
      "execution_count": 0,
      "outputs": []
    },
    {
      "cell_type": "code",
      "metadata": {
        "id": "3otdI8z80FKk",
        "colab_type": "code",
        "colab": {
          "base_uri": "https://localhost:8080/",
          "height": 34
        },
        "outputId": "912b6db3-3811-4f0c-c5af-bd1d5231a4a5"
      },
      "source": [
        "X_train.shape"
      ],
      "execution_count": 711,
      "outputs": [
        {
          "output_type": "execute_result",
          "data": {
            "text/plain": [
              "(3575, 60, 1)"
            ]
          },
          "metadata": {
            "tags": []
          },
          "execution_count": 711
        }
      ]
    },
    {
      "cell_type": "code",
      "metadata": {
        "id": "5MOMf0zR0hWO",
        "colab_type": "code",
        "colab": {}
      },
      "source": [
        ""
      ],
      "execution_count": 0,
      "outputs": []
    },
    {
      "cell_type": "code",
      "metadata": {
        "id": "dmROFccq2-go",
        "colab_type": "code",
        "colab": {}
      },
      "source": [
        "# X_train, X_test, y_train, y_test = train_test_split(X_train, y_train, test_size=0.10, random_state=42, shuffle=False )"
      ],
      "execution_count": 0,
      "outputs": []
    },
    {
      "cell_type": "code",
      "metadata": {
        "id": "Jdq2QpRlG8Np",
        "colab_type": "code",
        "colab": {
          "base_uri": "https://localhost:8080/",
          "height": 221
        },
        "outputId": "116d2eb5-4d6f-4088-c283-b1135ddfd920"
      },
      "source": [
        "model = Sequential()\n",
        "model.add(CuDNNGRU(150, input_shape=(maxlen, 1)))\n",
        "model.add(Dense(1))\n",
        "model.compile(optimizer='adam', loss='mse',metrics=['mean_squared_error'])\n",
        "\n",
        "model.summary()"
      ],
      "execution_count": 713,
      "outputs": [
        {
          "output_type": "stream",
          "text": [
            "Model: \"sequential_72\"\n",
            "_________________________________________________________________\n",
            "Layer (type)                 Output Shape              Param #   \n",
            "=================================================================\n",
            "cu_dnngru_4 (CuDNNGRU)       (None, 150)               68850     \n",
            "_________________________________________________________________\n",
            "dense_112 (Dense)            (None, 1)                 151       \n",
            "=================================================================\n",
            "Total params: 69,001\n",
            "Trainable params: 69,001\n",
            "Non-trainable params: 0\n",
            "_________________________________________________________________\n"
          ],
          "name": "stdout"
        }
      ]
    },
    {
      "cell_type": "code",
      "metadata": {
        "id": "jJrvJ25LG8T1",
        "colab_type": "code",
        "outputId": "ba3c4abb-17d2-42e9-c12c-ee18cf095beb",
        "colab": {
          "base_uri": "https://localhost:8080/",
          "height": 1000
        }
      },
      "source": [
        "model.fit(X_train, y_train, epochs = 50, batch_size = 16, validation_split=0.25)"
      ],
      "execution_count": 714,
      "outputs": [
        {
          "output_type": "stream",
          "text": [
            "Train on 2681 samples, validate on 894 samples\n",
            "Epoch 1/50\n",
            "2681/2681 [==============================] - 3s 1ms/step - loss: 0.0030 - acc: 3.7300e-04 - mean_squared_error: 0.0030 - val_loss: 1.5275e-04 - val_acc: 0.0011 - val_mean_squared_error: 1.5275e-04\n",
            "Epoch 2/50\n",
            "2681/2681 [==============================] - 1s 418us/step - loss: 1.2562e-04 - acc: 3.7300e-04 - mean_squared_error: 1.2562e-04 - val_loss: 1.2427e-04 - val_acc: 0.0011 - val_mean_squared_error: 1.2427e-04\n",
            "Epoch 3/50\n",
            "2681/2681 [==============================] - 1s 407us/step - loss: 1.1418e-04 - acc: 3.7300e-04 - mean_squared_error: 1.1418e-04 - val_loss: 1.1747e-04 - val_acc: 0.0011 - val_mean_squared_error: 1.1747e-04\n",
            "Epoch 4/50\n",
            "2681/2681 [==============================] - 1s 461us/step - loss: 1.1157e-04 - acc: 3.7300e-04 - mean_squared_error: 1.1157e-04 - val_loss: 1.3979e-04 - val_acc: 0.0011 - val_mean_squared_error: 1.3979e-04\n",
            "Epoch 5/50\n",
            "2681/2681 [==============================] - 1s 414us/step - loss: 1.1799e-04 - acc: 3.7300e-04 - mean_squared_error: 1.1799e-04 - val_loss: 1.7001e-04 - val_acc: 0.0011 - val_mean_squared_error: 1.7001e-04\n",
            "Epoch 6/50\n",
            "2681/2681 [==============================] - 1s 400us/step - loss: 1.0294e-04 - acc: 3.7300e-04 - mean_squared_error: 1.0294e-04 - val_loss: 9.8886e-05 - val_acc: 0.0011 - val_mean_squared_error: 9.8886e-05\n",
            "Epoch 7/50\n",
            "2681/2681 [==============================] - 1s 422us/step - loss: 9.9404e-05 - acc: 3.7300e-04 - mean_squared_error: 9.9404e-05 - val_loss: 1.4717e-04 - val_acc: 0.0011 - val_mean_squared_error: 1.4717e-04\n",
            "Epoch 8/50\n",
            "2681/2681 [==============================] - 1s 416us/step - loss: 9.3797e-05 - acc: 3.7300e-04 - mean_squared_error: 9.3797e-05 - val_loss: 1.0741e-04 - val_acc: 0.0011 - val_mean_squared_error: 1.0741e-04\n",
            "Epoch 9/50\n",
            "2681/2681 [==============================] - 1s 463us/step - loss: 9.1674e-05 - acc: 3.7300e-04 - mean_squared_error: 9.1674e-05 - val_loss: 9.8758e-05 - val_acc: 0.0011 - val_mean_squared_error: 9.8758e-05\n",
            "Epoch 10/50\n",
            "2681/2681 [==============================] - 1s 410us/step - loss: 8.3450e-05 - acc: 3.7300e-04 - mean_squared_error: 8.3450e-05 - val_loss: 9.1682e-05 - val_acc: 0.0011 - val_mean_squared_error: 9.1682e-05\n",
            "Epoch 11/50\n",
            "2681/2681 [==============================] - 1s 445us/step - loss: 8.9000e-05 - acc: 3.7300e-04 - mean_squared_error: 8.9000e-05 - val_loss: 1.8316e-04 - val_acc: 0.0011 - val_mean_squared_error: 1.8316e-04\n",
            "Epoch 12/50\n",
            "2681/2681 [==============================] - 1s 434us/step - loss: 8.7861e-05 - acc: 3.7300e-04 - mean_squared_error: 8.7861e-05 - val_loss: 1.1087e-04 - val_acc: 0.0011 - val_mean_squared_error: 1.1087e-04\n",
            "Epoch 13/50\n",
            "2681/2681 [==============================] - 1s 443us/step - loss: 8.7251e-05 - acc: 3.7300e-04 - mean_squared_error: 8.7251e-05 - val_loss: 8.2576e-05 - val_acc: 0.0011 - val_mean_squared_error: 8.2576e-05\n",
            "Epoch 14/50\n",
            "2681/2681 [==============================] - 1s 448us/step - loss: 7.9804e-05 - acc: 3.7300e-04 - mean_squared_error: 7.9804e-05 - val_loss: 8.4476e-05 - val_acc: 0.0011 - val_mean_squared_error: 8.4476e-05\n",
            "Epoch 15/50\n",
            "2681/2681 [==============================] - 1s 437us/step - loss: 8.6645e-05 - acc: 3.7300e-04 - mean_squared_error: 8.6645e-05 - val_loss: 1.6192e-04 - val_acc: 0.0011 - val_mean_squared_error: 1.6192e-04\n",
            "Epoch 16/50\n",
            "2681/2681 [==============================] - 1s 457us/step - loss: 7.7865e-05 - acc: 3.7300e-04 - mean_squared_error: 7.7865e-05 - val_loss: 8.4825e-05 - val_acc: 0.0011 - val_mean_squared_error: 8.4825e-05\n",
            "Epoch 17/50\n",
            "2681/2681 [==============================] - 1s 457us/step - loss: 7.7986e-05 - acc: 3.7300e-04 - mean_squared_error: 7.7986e-05 - val_loss: 9.7591e-05 - val_acc: 0.0011 - val_mean_squared_error: 9.7591e-05\n",
            "Epoch 18/50\n",
            "2681/2681 [==============================] - 1s 408us/step - loss: 7.5081e-05 - acc: 3.7300e-04 - mean_squared_error: 7.5081e-05 - val_loss: 8.6280e-05 - val_acc: 0.0011 - val_mean_squared_error: 8.6280e-05\n",
            "Epoch 19/50\n",
            "2681/2681 [==============================] - 1s 410us/step - loss: 7.7535e-05 - acc: 3.7300e-04 - mean_squared_error: 7.7535e-05 - val_loss: 2.7239e-04 - val_acc: 0.0011 - val_mean_squared_error: 2.7239e-04\n",
            "Epoch 20/50\n",
            "2681/2681 [==============================] - 1s 434us/step - loss: 8.1190e-05 - acc: 3.7300e-04 - mean_squared_error: 8.1190e-05 - val_loss: 1.3746e-04 - val_acc: 0.0011 - val_mean_squared_error: 1.3746e-04\n",
            "Epoch 21/50\n",
            "2681/2681 [==============================] - 1s 412us/step - loss: 8.0323e-05 - acc: 3.7300e-04 - mean_squared_error: 8.0323e-05 - val_loss: 2.1904e-04 - val_acc: 0.0011 - val_mean_squared_error: 2.1904e-04\n",
            "Epoch 22/50\n",
            "2681/2681 [==============================] - 1s 431us/step - loss: 7.7775e-05 - acc: 3.7300e-04 - mean_squared_error: 7.7775e-05 - val_loss: 1.6282e-04 - val_acc: 0.0011 - val_mean_squared_error: 1.6282e-04\n",
            "Epoch 23/50\n",
            "2681/2681 [==============================] - 1s 406us/step - loss: 7.0369e-05 - acc: 3.7300e-04 - mean_squared_error: 7.0369e-05 - val_loss: 1.4608e-04 - val_acc: 0.0011 - val_mean_squared_error: 1.4608e-04\n",
            "Epoch 24/50\n",
            "2681/2681 [==============================] - 1s 469us/step - loss: 7.5908e-05 - acc: 3.7300e-04 - mean_squared_error: 7.5908e-05 - val_loss: 1.6690e-04 - val_acc: 0.0011 - val_mean_squared_error: 1.6690e-04\n",
            "Epoch 25/50\n",
            "2681/2681 [==============================] - 1s 429us/step - loss: 7.3063e-05 - acc: 3.7300e-04 - mean_squared_error: 7.3063e-05 - val_loss: 7.7482e-05 - val_acc: 0.0011 - val_mean_squared_error: 7.7482e-05\n",
            "Epoch 26/50\n",
            "2681/2681 [==============================] - 1s 409us/step - loss: 7.1175e-05 - acc: 3.7300e-04 - mean_squared_error: 7.1175e-05 - val_loss: 9.1316e-05 - val_acc: 0.0011 - val_mean_squared_error: 9.1316e-05\n",
            "Epoch 27/50\n",
            "2681/2681 [==============================] - 1s 415us/step - loss: 8.2966e-05 - acc: 3.7300e-04 - mean_squared_error: 8.2966e-05 - val_loss: 1.0175e-04 - val_acc: 0.0011 - val_mean_squared_error: 1.0175e-04\n",
            "Epoch 28/50\n",
            "2681/2681 [==============================] - 1s 390us/step - loss: 7.3133e-05 - acc: 3.7300e-04 - mean_squared_error: 7.3133e-05 - val_loss: 8.5788e-05 - val_acc: 0.0011 - val_mean_squared_error: 8.5788e-05\n",
            "Epoch 29/50\n",
            "2681/2681 [==============================] - 1s 405us/step - loss: 7.8015e-05 - acc: 3.7300e-04 - mean_squared_error: 7.8015e-05 - val_loss: 2.6873e-04 - val_acc: 0.0011 - val_mean_squared_error: 2.6873e-04\n",
            "Epoch 30/50\n",
            "2681/2681 [==============================] - 1s 400us/step - loss: 7.6117e-05 - acc: 3.7300e-04 - mean_squared_error: 7.6117e-05 - val_loss: 3.1025e-04 - val_acc: 0.0011 - val_mean_squared_error: 3.1025e-04\n",
            "Epoch 31/50\n",
            "2681/2681 [==============================] - 1s 400us/step - loss: 7.5088e-05 - acc: 3.7300e-04 - mean_squared_error: 7.5088e-05 - val_loss: 1.0062e-04 - val_acc: 0.0011 - val_mean_squared_error: 1.0062e-04\n",
            "Epoch 32/50\n",
            "2681/2681 [==============================] - 1s 418us/step - loss: 7.8500e-05 - acc: 3.7300e-04 - mean_squared_error: 7.8500e-05 - val_loss: 8.1485e-05 - val_acc: 0.0011 - val_mean_squared_error: 8.1485e-05\n",
            "Epoch 33/50\n",
            "2681/2681 [==============================] - 1s 416us/step - loss: 8.0814e-05 - acc: 3.7300e-04 - mean_squared_error: 8.0814e-05 - val_loss: 7.9509e-05 - val_acc: 0.0011 - val_mean_squared_error: 7.9509e-05\n",
            "Epoch 34/50\n",
            "2681/2681 [==============================] - 1s 432us/step - loss: 7.7252e-05 - acc: 3.7300e-04 - mean_squared_error: 7.7252e-05 - val_loss: 1.8218e-04 - val_acc: 0.0011 - val_mean_squared_error: 1.8218e-04\n",
            "Epoch 35/50\n",
            "2681/2681 [==============================] - 1s 412us/step - loss: 7.2703e-05 - acc: 3.7300e-04 - mean_squared_error: 7.2703e-05 - val_loss: 1.1336e-04 - val_acc: 0.0011 - val_mean_squared_error: 1.1336e-04\n",
            "Epoch 36/50\n",
            "2681/2681 [==============================] - 1s 438us/step - loss: 7.5517e-05 - acc: 3.7300e-04 - mean_squared_error: 7.5517e-05 - val_loss: 1.3947e-04 - val_acc: 0.0011 - val_mean_squared_error: 1.3947e-04\n",
            "Epoch 37/50\n",
            "2681/2681 [==============================] - 1s 414us/step - loss: 7.7665e-05 - acc: 3.7300e-04 - mean_squared_error: 7.7665e-05 - val_loss: 1.4396e-04 - val_acc: 0.0011 - val_mean_squared_error: 1.4396e-04\n",
            "Epoch 38/50\n",
            "2681/2681 [==============================] - 1s 402us/step - loss: 7.5064e-05 - acc: 3.7300e-04 - mean_squared_error: 7.5064e-05 - val_loss: 7.9277e-05 - val_acc: 0.0011 - val_mean_squared_error: 7.9277e-05\n",
            "Epoch 39/50\n",
            "2681/2681 [==============================] - 1s 406us/step - loss: 7.4386e-05 - acc: 3.7300e-04 - mean_squared_error: 7.4386e-05 - val_loss: 1.1354e-04 - val_acc: 0.0011 - val_mean_squared_error: 1.1354e-04\n",
            "Epoch 40/50\n",
            "2681/2681 [==============================] - 1s 414us/step - loss: 6.9546e-05 - acc: 3.7300e-04 - mean_squared_error: 6.9546e-05 - val_loss: 2.0283e-04 - val_acc: 0.0011 - val_mean_squared_error: 2.0283e-04\n",
            "Epoch 41/50\n",
            "2681/2681 [==============================] - 1s 433us/step - loss: 7.1662e-05 - acc: 3.7300e-04 - mean_squared_error: 7.1662e-05 - val_loss: 1.0994e-04 - val_acc: 0.0011 - val_mean_squared_error: 1.0994e-04\n",
            "Epoch 42/50\n",
            "2681/2681 [==============================] - 1s 406us/step - loss: 7.5452e-05 - acc: 3.7300e-04 - mean_squared_error: 7.5452e-05 - val_loss: 2.0167e-04 - val_acc: 0.0011 - val_mean_squared_error: 2.0167e-04\n",
            "Epoch 43/50\n",
            "2681/2681 [==============================] - 1s 399us/step - loss: 7.0958e-05 - acc: 3.7300e-04 - mean_squared_error: 7.0958e-05 - val_loss: 7.7241e-05 - val_acc: 0.0011 - val_mean_squared_error: 7.7241e-05\n",
            "Epoch 44/50\n",
            "2681/2681 [==============================] - 1s 406us/step - loss: 8.1639e-05 - acc: 3.7300e-04 - mean_squared_error: 8.1639e-05 - val_loss: 1.1652e-04 - val_acc: 0.0011 - val_mean_squared_error: 1.1652e-04\n",
            "Epoch 45/50\n",
            "2681/2681 [==============================] - 1s 407us/step - loss: 7.4080e-05 - acc: 3.7300e-04 - mean_squared_error: 7.4080e-05 - val_loss: 1.7582e-04 - val_acc: 0.0011 - val_mean_squared_error: 1.7582e-04\n",
            "Epoch 46/50\n",
            "2681/2681 [==============================] - 1s 398us/step - loss: 7.5693e-05 - acc: 3.7300e-04 - mean_squared_error: 7.5693e-05 - val_loss: 8.4531e-05 - val_acc: 0.0011 - val_mean_squared_error: 8.4531e-05\n",
            "Epoch 47/50\n",
            "2681/2681 [==============================] - 1s 399us/step - loss: 7.2272e-05 - acc: 3.7300e-04 - mean_squared_error: 7.2272e-05 - val_loss: 1.0496e-04 - val_acc: 0.0011 - val_mean_squared_error: 1.0496e-04\n",
            "Epoch 48/50\n",
            "2681/2681 [==============================] - 1s 414us/step - loss: 7.5857e-05 - acc: 3.7300e-04 - mean_squared_error: 7.5857e-05 - val_loss: 1.5253e-04 - val_acc: 0.0011 - val_mean_squared_error: 1.5253e-04\n",
            "Epoch 49/50\n",
            "2681/2681 [==============================] - 1s 410us/step - loss: 7.6023e-05 - acc: 3.7300e-04 - mean_squared_error: 7.6023e-05 - val_loss: 7.8541e-05 - val_acc: 0.0011 - val_mean_squared_error: 7.8541e-05\n",
            "Epoch 50/50\n",
            "2681/2681 [==============================] - 1s 407us/step - loss: 8.0203e-05 - acc: 3.7300e-04 - mean_squared_error: 8.0203e-05 - val_loss: 8.3723e-05 - val_acc: 0.0011 - val_mean_squared_error: 8.3723e-05\n"
          ],
          "name": "stdout"
        },
        {
          "output_type": "execute_result",
          "data": {
            "text/plain": [
              "<keras.callbacks.History at 0x7f71e2df3358>"
            ]
          },
          "metadata": {
            "tags": []
          },
          "execution_count": 714
        }
      ]
    },
    {
      "cell_type": "code",
      "metadata": {
        "id": "d4gOeA9boDkF",
        "colab_type": "code",
        "colab": {
          "base_uri": "https://localhost:8080/",
          "height": 393
        },
        "outputId": "149bf682-47bc-4259-9c73-b17f686fd7d6"
      },
      "source": [
        "results = model.predict(X_train)\n",
        "\n",
        "resultss = scaler.inverse_transform(results.reshape(-1,1))\n",
        "resultss = resultss.reshape(1,-1)[0]\n",
        "output = np.concatenate([np.ones(maxlen)*200,resultss], axis=0)\n",
        "\n",
        "plt.figure(figsize = (18,6))\n",
        "plt.plot(range(len(aapl.PRICE.values)),aapl.PRICE.values,color='b', label=\"y_train\")\n",
        "plt.plot(range(len(output)), output,color='r', label=\"predict\")\n",
        "plt.ylabel('price')\n",
        "plt.show()"
      ],
      "execution_count": 715,
      "outputs": [
        {
          "output_type": "execute_result",
          "data": {
            "text/plain": [
              "<Figure size 1296x432 with 0 Axes>"
            ]
          },
          "metadata": {
            "tags": []
          },
          "execution_count": 715
        },
        {
          "output_type": "execute_result",
          "data": {
            "text/plain": [
              "[<matplotlib.lines.Line2D at 0x7f71e2c50cf8>]"
            ]
          },
          "metadata": {
            "tags": []
          },
          "execution_count": 715
        },
        {
          "output_type": "execute_result",
          "data": {
            "text/plain": [
              "[<matplotlib.lines.Line2D at 0x7f71e2caecf8>]"
            ]
          },
          "metadata": {
            "tags": []
          },
          "execution_count": 715
        },
        {
          "output_type": "execute_result",
          "data": {
            "text/plain": [
              "Text(0, 0.5, 'price')"
            ]
          },
          "metadata": {
            "tags": []
          },
          "execution_count": 715
        },
        {
          "output_type": "display_data",
          "data": {
            "image/png": "[encoded data removed]",
            "text/plain": [
              "<Figure size 1296x432 with 1 Axes>"
            ]
          },
          "metadata": {
            "tags": []
          }
        }
      ]
    },
    {
      "cell_type": "code",
      "metadata": {
        "id": "RhFKFX7TpPsl",
        "colab_type": "code",
        "colab": {
          "base_uri": "https://localhost:8080/",
          "height": 391
        },
        "outputId": "135c22bf-f8a5-4bd0-d9a1-332a124077a6"
      },
      "source": [
        "plt.figure(figsize = (18,6))\n",
        "plt.plot(range(len(aapl.PRICE[:len(results)])), aapl.PRICE[:len(results)],color='b', label=\"y_train\")\n"
      ],
      "execution_count": 716,
      "outputs": [
        {
          "output_type": "execute_result",
          "data": {
            "text/plain": [
              "<Figure size 1296x432 with 0 Axes>"
            ]
          },
          "metadata": {
            "tags": []
          },
          "execution_count": 716
        },
        {
          "output_type": "execute_result",
          "data": {
            "text/plain": [
              "[<matplotlib.lines.Line2D at 0x7f71e2c37d30>]"
            ]
          },
          "metadata": {
            "tags": []
          },
          "execution_count": 716
        },
        {
          "output_type": "display_data",
          "data": {
            "image/png": "[encoded data removed]",
            "text/plain": [
              "<Figure size 1296x432 with 1 Axes>"
            ]
          },
          "metadata": {
            "tags": []
          }
        }
      ]
    },
    {
      "cell_type": "code",
      "metadata": {
        "id": "UYLLg1NX2-jL",
        "colab_type": "code",
        "colab": {}
      },
      "source": [
        ""
      ],
      "execution_count": 0,
      "outputs": []
    },
    {
      "cell_type": "code",
      "metadata": {
        "id": "b3k8RXcJ2-mL",
        "colab_type": "code",
        "colab": {}
      },
      "source": [
        ""
      ],
      "execution_count": 0,
      "outputs": []
    },
    {
      "cell_type": "code",
      "metadata": {
        "id": "aTV1TVCs2-rD",
        "colab_type": "code",
        "colab": {}
      },
      "source": [
        ""
      ],
      "execution_count": 0,
      "outputs": []
    },
    {
      "cell_type": "code",
      "metadata": {
        "id": "ULoIMebR2-uC",
        "colab_type": "code",
        "colab": {}
      },
      "source": [
        ""
      ],
      "execution_count": 0,
      "outputs": []
    },
    {
      "cell_type": "code",
      "metadata": {
        "id": "X2vV2p4X2-zF",
        "colab_type": "code",
        "colab": {}
      },
      "source": [
        ""
      ],
      "execution_count": 0,
      "outputs": []
    },
    {
      "cell_type": "code",
      "metadata": {
        "id": "PD93DRme2-1z",
        "colab_type": "code",
        "colab": {}
      },
      "source": [
        "# import keras\n",
        "# from keras import regularizers\n",
        "# from keras.models import Model, load_model, Sequential\n",
        "# from keras.layers import *\n",
        "# from keras.preprocessing import sequence"
      ],
      "execution_count": 0,
      "outputs": []
    },
    {
      "cell_type": "code",
      "metadata": {
        "id": "Hff2FHs32-4b",
        "colab_type": "code",
        "colab": {}
      },
      "source": [
        ""
      ],
      "execution_count": 0,
      "outputs": []
    },
    {
      "cell_type": "code",
      "metadata": {
        "id": "hDr8ZPAt2-7m",
        "colab_type": "code",
        "colab": {
          "base_uri": "https://localhost:8080/",
          "height": 34
        },
        "outputId": "4387b1be-e5b6-4083-fb37-7ec6b6e460ae"
      },
      "source": [
        "y = aapl.PRICE.values\n",
        "y = y.reshape(-1, 1)\n",
        "\n",
        "x = np.arange(len(y))\n",
        "x = x.reshape(-1, 1)\n",
        "\n",
        "scaler_x = MinMaxScaler()\n",
        "x = scaler_x.fit_transform(x)\n",
        "\n",
        "scaler_y = MinMaxScaler()\n",
        "y = scaler_y.fit_transform(y)\n",
        "# X_train_trans = mms.fit_transform(X_train)\n",
        "# X_test_trans = mms.transform(X_test)\n",
        "\n",
        "maxlen = 150#100#240\n",
        "\n",
        "# seqTrain=sequence.pad_sequences(sequences = x, maxlen=maxlen, padding='post', dtype='float32', truncating='post')\n",
        "\n",
        "X_train = []\n",
        "y_train = []\n",
        "for i in range(maxlen, 3635):\n",
        "    X_train.append(tt[i-maxlen:i, 0])\n",
        "    y_train.append(tt[i, 0])\n",
        "X_train, y_train = np.array(X_train), np.array(y_train)\n",
        "\n",
        "seqTrain = np.reshape(X_train, (X_train.shape[0], X_train.shape[1], 1))\n",
        "\n",
        "seqTrain.shape"
      ],
      "execution_count": 718,
      "outputs": [
        {
          "output_type": "execute_result",
          "data": {
            "text/plain": [
              "(3485, 150, 1)"
            ]
          },
          "metadata": {
            "tags": []
          },
          "execution_count": 718
        }
      ]
    },
    {
      "cell_type": "code",
      "metadata": {
        "id": "njCzdjPYUuiJ",
        "colab_type": "code",
        "colab": {}
      },
      "source": [
        ""
      ],
      "execution_count": 0,
      "outputs": []
    },
    {
      "cell_type": "code",
      "metadata": {
        "id": "4CAX25fd2--f",
        "colab_type": "code",
        "colab": {
          "base_uri": "https://localhost:8080/",
          "height": 34
        },
        "outputId": "f4ba293c-b26f-4e11-fa71-378a742c89dc"
      },
      "source": [
        "seqTrain = seqTrain.reshape((seqTrain.shape[0], maxlen,1))\n",
        "seqTrain.shape"
      ],
      "execution_count": 719,
      "outputs": [
        {
          "output_type": "execute_result",
          "data": {
            "text/plain": [
              "(3485, 150, 1)"
            ]
          },
          "metadata": {
            "tags": []
          },
          "execution_count": 719
        }
      ]
    },
    {
      "cell_type": "code",
      "metadata": {
        "id": "xV-JCZkV2_L6",
        "colab_type": "code",
        "colab": {}
      },
      "source": [
        "RMSprop_low_LR = keras.optimizers.RMSprop(lr=0.0001)\n",
        "\n",
        "model = Sequential()\n",
        "model.add(CuDNNLSTM(160, return_sequences=True))\n",
        "model.add(CuDNNLSTM(160, return_sequences=False))\n",
        "\n",
        "# model.add(GRU(150, input_shape=(seqTrain.shape[0],maxlen)))\n",
        "model.add(Dense(160, activation='relu'))\n",
        "model.add(Dense(80, activation='relu'))\n",
        "model.add(Dense(40, activation='relu'))\n",
        "model.add(Dense(1))\n",
        "\n",
        "model.compile(optimizer = RMSprop_low_LR, loss='mean_squared_error', metrics =['mean_squared_error'])\n",
        "\n"
      ],
      "execution_count": 0,
      "outputs": []
    },
    {
      "cell_type": "code",
      "metadata": {
        "id": "pB-aoh3i6kfX",
        "colab_type": "code",
        "colab": {
          "base_uri": "https://localhost:8080/",
          "height": 1000
        },
        "outputId": "543b55fc-81e2-4809-c595-81859e236fe5"
      },
      "source": [
        "c = model.fit(seqTrain, y_train, batch_size=64, epochs=30, validation_split=0.15)# .history\n",
        "# for manual padding \n",
        "\n",
        "# c = model.fit(seqTrain, y, batch_size=64, epochs=30, validation_split=0.15)# .history"
      ],
      "execution_count": 606,
      "outputs": [
        {
          "output_type": "stream",
          "text": [
            "Train on 2962 samples, validate on 523 samples\n",
            "Epoch 1/30\n",
            "2962/2962 [==============================] - 3s 1ms/step - loss: 0.0249 - acc: 3.3761e-04 - val_loss: 0.0075 - val_acc: 0.0019\n",
            "Epoch 2/30\n",
            "2962/2962 [==============================] - 1s 431us/step - loss: 0.0013 - acc: 3.3761e-04 - val_loss: 8.1146e-04 - val_acc: 0.0019\n",
            "Epoch 3/30\n",
            "2962/2962 [==============================] - 1s 428us/step - loss: 0.0011 - acc: 3.3761e-04 - val_loss: 0.0023 - val_acc: 0.0019\n",
            "Epoch 4/30\n",
            "2962/2962 [==============================] - 1s 429us/step - loss: 0.0011 - acc: 3.3761e-04 - val_loss: 5.2954e-04 - val_acc: 0.0019\n",
            "Epoch 5/30\n",
            "2962/2962 [==============================] - 1s 432us/step - loss: 0.0010 - acc: 3.3761e-04 - val_loss: 6.7479e-04 - val_acc: 0.0019\n",
            "Epoch 6/30\n",
            "2962/2962 [==============================] - 1s 432us/step - loss: 8.2563e-04 - acc: 3.3761e-04 - val_loss: 0.0015 - val_acc: 0.0019\n",
            "Epoch 7/30\n",
            "2962/2962 [==============================] - 1s 429us/step - loss: 8.3121e-04 - acc: 3.3761e-04 - val_loss: 7.5686e-04 - val_acc: 0.0019\n",
            "Epoch 8/30\n",
            "2962/2962 [==============================] - 1s 431us/step - loss: 7.4565e-04 - acc: 3.3761e-04 - val_loss: 4.4517e-04 - val_acc: 0.0019\n",
            "Epoch 9/30\n",
            "2962/2962 [==============================] - 1s 429us/step - loss: 6.9888e-04 - acc: 3.3761e-04 - val_loss: 0.0040 - val_acc: 0.0019\n",
            "Epoch 10/30\n",
            "2962/2962 [==============================] - 1s 428us/step - loss: 6.9376e-04 - acc: 3.3761e-04 - val_loss: 4.1041e-04 - val_acc: 0.0019\n",
            "Epoch 11/30\n",
            "2962/2962 [==============================] - 1s 420us/step - loss: 6.2159e-04 - acc: 3.3761e-04 - val_loss: 0.0013 - val_acc: 0.0019\n",
            "Epoch 12/30\n",
            "2962/2962 [==============================] - 1s 435us/step - loss: 5.6459e-04 - acc: 3.3761e-04 - val_loss: 3.4391e-04 - val_acc: 0.0019\n",
            "Epoch 13/30\n",
            "2962/2962 [==============================] - 1s 433us/step - loss: 6.0185e-04 - acc: 3.3761e-04 - val_loss: 4.0955e-04 - val_acc: 0.0019\n",
            "Epoch 14/30\n",
            "2962/2962 [==============================] - 1s 430us/step - loss: 5.0607e-04 - acc: 3.3761e-04 - val_loss: 0.0011 - val_acc: 0.0019\n",
            "Epoch 15/30\n",
            "2962/2962 [==============================] - 1s 420us/step - loss: 5.4382e-04 - acc: 3.3761e-04 - val_loss: 3.2582e-04 - val_acc: 0.0019\n",
            "Epoch 16/30\n",
            "2962/2962 [==============================] - 1s 427us/step - loss: 4.6734e-04 - acc: 3.3761e-04 - val_loss: 0.0034 - val_acc: 0.0019\n",
            "Epoch 17/30\n",
            "2962/2962 [==============================] - 1s 429us/step - loss: 4.7670e-04 - acc: 3.3761e-04 - val_loss: 3.3778e-04 - val_acc: 0.0019\n",
            "Epoch 18/30\n",
            "2962/2962 [==============================] - 1s 430us/step - loss: 4.7936e-04 - acc: 3.3761e-04 - val_loss: 6.7620e-04 - val_acc: 0.0019\n",
            "Epoch 19/30\n",
            "2962/2962 [==============================] - 1s 423us/step - loss: 4.2191e-04 - acc: 3.3761e-04 - val_loss: 0.0049 - val_acc: 0.0019\n",
            "Epoch 20/30\n",
            "2962/2962 [==============================] - 1s 430us/step - loss: 4.4499e-04 - acc: 3.3761e-04 - val_loss: 0.0023 - val_acc: 0.0019\n",
            "Epoch 21/30\n",
            "2962/2962 [==============================] - 1s 427us/step - loss: 4.2600e-04 - acc: 3.3761e-04 - val_loss: 5.5115e-04 - val_acc: 0.0019\n",
            "Epoch 22/30\n",
            "2962/2962 [==============================] - 1s 427us/step - loss: 4.1418e-04 - acc: 3.3761e-04 - val_loss: 3.1352e-04 - val_acc: 0.0019\n",
            "Epoch 23/30\n",
            "2962/2962 [==============================] - 1s 424us/step - loss: 3.9429e-04 - acc: 3.3761e-04 - val_loss: 2.9153e-04 - val_acc: 0.0019\n",
            "Epoch 24/30\n",
            "2962/2962 [==============================] - 1s 427us/step - loss: 4.0309e-04 - acc: 3.3761e-04 - val_loss: 0.0017 - val_acc: 0.0019\n",
            "Epoch 25/30\n",
            "2962/2962 [==============================] - 1s 426us/step - loss: 3.7767e-04 - acc: 3.3761e-04 - val_loss: 5.8618e-04 - val_acc: 0.0019\n",
            "Epoch 26/30\n",
            "2962/2962 [==============================] - 1s 435us/step - loss: 3.6715e-04 - acc: 3.3761e-04 - val_loss: 9.0565e-04 - val_acc: 0.0019\n",
            "Epoch 27/30\n",
            "2962/2962 [==============================] - 1s 433us/step - loss: 3.5351e-04 - acc: 3.3761e-04 - val_loss: 5.5829e-04 - val_acc: 0.0019\n",
            "Epoch 28/30\n",
            "2962/2962 [==============================] - 1s 436us/step - loss: 3.6038e-04 - acc: 3.3761e-04 - val_loss: 2.7561e-04 - val_acc: 0.0019\n",
            "Epoch 29/30\n",
            "2962/2962 [==============================] - 1s 436us/step - loss: 3.3122e-04 - acc: 3.3761e-04 - val_loss: 3.4493e-04 - val_acc: 0.0019\n",
            "Epoch 30/30\n",
            "2962/2962 [==============================] - 1s 425us/step - loss: 3.3873e-04 - acc: 3.3761e-04 - val_loss: 2.8681e-04 - val_acc: 0.0019\n"
          ],
          "name": "stdout"
        }
      ]
    },
    {
      "cell_type": "code",
      "metadata": {
        "id": "fXnGBifu2_Os",
        "colab_type": "code",
        "colab": {
          "base_uri": "https://localhost:8080/",
          "height": 393
        },
        "outputId": "a1f1e992-67f4-4261-aff2-6d1cc2b16173"
      },
      "source": [
        "results = model.predict(seqTrain)\n",
        "\n",
        "resultss = scaler.inverse_transform(results.reshape(-1,1))\n",
        "resultss = resultss.reshape(1,-1)[0]\n",
        "output = np.concatenate([np.ones(maxlen)*200,resultss], axis=0)\n",
        "\n",
        "plt.figure(figsize = (18,6))\n",
        "plt.plot(range(len(aapl.PRICE.values)),aapl.PRICE.values,color='b', label=\"y_train\")\n",
        "plt.plot(range(len(output)), output,color='r', label=\"predict\")\n",
        "\n",
        "# plt.ylabel('price')\n",
        "plt.show()"
      ],
      "execution_count": 669,
      "outputs": [
        {
          "output_type": "execute_result",
          "data": {
            "text/plain": [
              "<Figure size 1296x432 with 0 Axes>"
            ]
          },
          "metadata": {
            "tags": []
          },
          "execution_count": 669
        },
        {
          "output_type": "execute_result",
          "data": {
            "text/plain": [
              "[<matplotlib.lines.Line2D at 0x7f71fb9d68d0>]"
            ]
          },
          "metadata": {
            "tags": []
          },
          "execution_count": 669
        },
        {
          "output_type": "execute_result",
          "data": {
            "text/plain": [
              "[<matplotlib.lines.Line2D at 0x7f71fb5aba58>]"
            ]
          },
          "metadata": {
            "tags": []
          },
          "execution_count": 669
        },
        {
          "output_type": "display_data",
          "data": {
            "image/png": "[encoded data removed]",
            "text/plain": [
              "<Figure size 1296x432 with 1 Axes>"
            ]
          },
          "metadata": {
            "tags": []
          }
        }
      ]
    },
    {
      "cell_type": "code",
      "metadata": {
        "id": "pNpheCTN2_Uk",
        "colab_type": "code",
        "colab": {
          "base_uri": "https://localhost:8080/",
          "height": 393
        },
        "outputId": "a4f3f3b7-582a-4834-fa70-fcf31a7651eb"
      },
      "source": [
        "plt.figure(figsize = (18,6))\n",
        "plt.plot(range(len(aapl.PRICE)), aapl.PRICE,color='b', label=\"y_train\")\n"
      ],
      "execution_count": 623,
      "outputs": [
        {
          "output_type": "execute_result",
          "data": {
            "text/plain": [
              "<Figure size 1296x432 with 0 Axes>"
            ]
          },
          "metadata": {
            "tags": []
          },
          "execution_count": 623
        },
        {
          "output_type": "execute_result",
          "data": {
            "text/plain": [
              "[<matplotlib.lines.Line2D at 0x7f71e3d60f98>]"
            ]
          },
          "metadata": {
            "tags": []
          },
          "execution_count": 623
        },
        {
          "output_type": "display_data",
          "data": {
            "image/png": "[encoded data removed]",
            "text/plain": [
              "<Figure size 1296x432 with 1 Axes>"
            ]
          },
          "metadata": {
            "tags": []
          }
        }
      ]
    },
    {
      "cell_type": "code",
      "metadata": {
        "id": "Z8yjmXuM2_X1",
        "colab_type": "code",
        "colab": {}
      },
      "source": [
        ""
      ],
      "execution_count": 0,
      "outputs": []
    },
    {
      "cell_type": "code",
      "metadata": {
        "id": "65PluIng2_ay",
        "colab_type": "code",
        "colab": {}
      },
      "source": [
        ""
      ],
      "execution_count": 0,
      "outputs": []
    },
    {
      "cell_type": "code",
      "metadata": {
        "id": "OBHiyOPh2_fv",
        "colab_type": "code",
        "colab": {}
      },
      "source": [
        ""
      ],
      "execution_count": 0,
      "outputs": []
    },
    {
      "cell_type": "code",
      "metadata": {
        "id": "JYH5mzNQ2_kd",
        "colab_type": "code",
        "colab": {}
      },
      "source": [
        ""
      ],
      "execution_count": 0,
      "outputs": []
    },
    {
      "cell_type": "code",
      "metadata": {
        "id": "VtuoAhH92_nQ",
        "colab_type": "code",
        "colab": {}
      },
      "source": [
        ""
      ],
      "execution_count": 0,
      "outputs": []
    },
    {
      "cell_type": "code",
      "metadata": {
        "id": "5avheigk2_qV",
        "colab_type": "code",
        "colab": {}
      },
      "source": [
        ""
      ],
      "execution_count": 0,
      "outputs": []
    },
    {
      "cell_type": "code",
      "metadata": {
        "id": "Tz1UrQ9h2_it",
        "colab_type": "code",
        "colab": {}
      },
      "source": [
        ""
      ],
      "execution_count": 0,
      "outputs": []
    },
    {
      "cell_type": "code",
      "metadata": {
        "id": "QiA2lwPk2_d3",
        "colab_type": "code",
        "colab": {}
      },
      "source": [
        ""
      ],
      "execution_count": 0,
      "outputs": []
    },
    {
      "cell_type": "markdown",
      "metadata": {
        "id": "2shZmuTiaqkH",
        "colab_type": "text"
      },
      "source": [
        "# benchmarking hyper-prams"
      ]
    },
    {
      "cell_type": "code",
      "metadata": {
        "id": "zZpMvyvD2_Rk",
        "colab_type": "code",
        "colab": {
          "base_uri": "https://localhost:8080/",
          "height": 1000
        },
        "outputId": "382145e4-e108-408f-81e6-f48bd5db6b06"
      },
      "source": [
        "RMSprop_low_LR = keras.optimizers.RMSprop(lr=0.0001)\n",
        "\n",
        "model = Sequential()\n",
        "model.add(CuDNNLSTM(160, return_sequences=True))\n",
        "model.add(CuDNNLSTM(160, return_sequences=False))\n",
        "model.add(Dense(160, activation='relu'))\n",
        "model.add(Dense(80, activation='relu'))\n",
        "model.add(Dense(40, activation='relu'))\n",
        "model.add(Dense(1))\n",
        "\n",
        "model.compile(optimizer = RMSprop_low_LR, loss='mean_squared_error', metrics =['mean_squared_error'])\n",
        "c = model.fit(seqTrain, y_train, batch_size=64, epochs=30, validation_split=0.15)# .history"
      ],
      "execution_count": 720,
      "outputs": [
        {
          "output_type": "stream",
          "text": [
            "Train on 2962 samples, validate on 523 samples\n",
            "Epoch 1/30\n",
            "2962/2962 [==============================] - 4s 1ms/step - loss: 0.0222 - acc: 3.3761e-04 - val_loss: 0.0036 - val_acc: 0.0019\n",
            "Epoch 2/30\n",
            "2962/2962 [==============================] - 1s 435us/step - loss: 0.0012 - acc: 3.3761e-04 - val_loss: 0.0011 - val_acc: 0.0019\n",
            "Epoch 3/30\n",
            "2962/2962 [==============================] - 1s 428us/step - loss: 9.7286e-04 - acc: 3.3761e-04 - val_loss: 4.5275e-04 - val_acc: 0.0019\n",
            "Epoch 4/30\n",
            "2962/2962 [==============================] - 1s 430us/step - loss: 8.7404e-04 - acc: 3.3761e-04 - val_loss: 0.0119 - val_acc: 0.0019\n",
            "Epoch 5/30\n",
            "2962/2962 [==============================] - 1s 426us/step - loss: 8.4635e-04 - acc: 3.3761e-04 - val_loss: 0.0025 - val_acc: 0.0019\n",
            "Epoch 6/30\n",
            "2962/2962 [==============================] - 1s 426us/step - loss: 7.6177e-04 - acc: 3.3761e-04 - val_loss: 3.1464e-04 - val_acc: 0.0019\n",
            "Epoch 7/30\n",
            "2962/2962 [==============================] - 1s 427us/step - loss: 6.7593e-04 - acc: 3.3761e-04 - val_loss: 3.3565e-04 - val_acc: 0.0019\n",
            "Epoch 8/30\n",
            "2962/2962 [==============================] - 1s 429us/step - loss: 7.0950e-04 - acc: 3.3761e-04 - val_loss: 0.0010 - val_acc: 0.0019\n",
            "Epoch 9/30\n",
            "2962/2962 [==============================] - 1s 428us/step - loss: 6.3216e-04 - acc: 3.3761e-04 - val_loss: 4.2035e-04 - val_acc: 0.0019\n",
            "Epoch 10/30\n",
            "2962/2962 [==============================] - 1s 433us/step - loss: 5.9214e-04 - acc: 3.3761e-04 - val_loss: 0.0014 - val_acc: 0.0019\n",
            "Epoch 11/30\n",
            "2962/2962 [==============================] - 1s 423us/step - loss: 5.6295e-04 - acc: 3.3761e-04 - val_loss: 2.7876e-04 - val_acc: 0.0019\n",
            "Epoch 12/30\n",
            "2962/2962 [==============================] - 1s 433us/step - loss: 5.5615e-04 - acc: 3.3761e-04 - val_loss: 7.5121e-04 - val_acc: 0.0019\n",
            "Epoch 13/30\n",
            "2962/2962 [==============================] - 1s 428us/step - loss: 5.4543e-04 - acc: 3.3761e-04 - val_loss: 0.0038 - val_acc: 0.0019\n",
            "Epoch 14/30\n",
            "2962/2962 [==============================] - 1s 428us/step - loss: 4.8534e-04 - acc: 3.3761e-04 - val_loss: 2.5967e-04 - val_acc: 0.0019\n",
            "Epoch 15/30\n",
            "2962/2962 [==============================] - 1s 429us/step - loss: 5.2716e-04 - acc: 3.3761e-04 - val_loss: 0.0019 - val_acc: 0.0019\n",
            "Epoch 16/30\n",
            "2962/2962 [==============================] - 1s 431us/step - loss: 4.7066e-04 - acc: 3.3761e-04 - val_loss: 0.0024 - val_acc: 0.0019\n",
            "Epoch 17/30\n",
            "2962/2962 [==============================] - 1s 426us/step - loss: 4.6291e-04 - acc: 3.3761e-04 - val_loss: 9.9062e-04 - val_acc: 0.0019\n",
            "Epoch 18/30\n",
            "2962/2962 [==============================] - 1s 429us/step - loss: 4.6063e-04 - acc: 3.3761e-04 - val_loss: 3.7606e-04 - val_acc: 0.0019\n",
            "Epoch 19/30\n",
            "2962/2962 [==============================] - 1s 432us/step - loss: 4.4977e-04 - acc: 3.3761e-04 - val_loss: 5.3737e-04 - val_acc: 0.0019\n",
            "Epoch 20/30\n",
            "2962/2962 [==============================] - 1s 423us/step - loss: 4.2353e-04 - acc: 3.3761e-04 - val_loss: 6.6280e-04 - val_acc: 0.0019\n",
            "Epoch 21/30\n",
            "2962/2962 [==============================] - 1s 431us/step - loss: 4.2966e-04 - acc: 3.3761e-04 - val_loss: 9.2368e-04 - val_acc: 0.0019\n",
            "Epoch 22/30\n",
            "2962/2962 [==============================] - 1s 429us/step - loss: 4.0453e-04 - acc: 3.3761e-04 - val_loss: 3.3708e-04 - val_acc: 0.0019\n",
            "Epoch 23/30\n",
            "2962/2962 [==============================] - 1s 430us/step - loss: 3.8177e-04 - acc: 3.3761e-04 - val_loss: 2.4496e-04 - val_acc: 0.0019\n",
            "Epoch 24/30\n",
            "2962/2962 [==============================] - 1s 427us/step - loss: 3.7456e-04 - acc: 3.3761e-04 - val_loss: 0.0011 - val_acc: 0.0019\n",
            "Epoch 25/30\n",
            "2962/2962 [==============================] - 1s 427us/step - loss: 3.8171e-04 - acc: 3.3761e-04 - val_loss: 0.0010 - val_acc: 0.0019\n",
            "Epoch 26/30\n",
            "2962/2962 [==============================] - 1s 422us/step - loss: 3.6838e-04 - acc: 3.3761e-04 - val_loss: 0.0054 - val_acc: 0.0019\n",
            "Epoch 27/30\n",
            "2962/2962 [==============================] - 1s 432us/step - loss: 3.3618e-04 - acc: 3.3761e-04 - val_loss: 3.3404e-04 - val_acc: 0.0019\n",
            "Epoch 28/30\n",
            "2962/2962 [==============================] - 1s 431us/step - loss: 3.6851e-04 - acc: 3.3761e-04 - val_loss: 2.4617e-04 - val_acc: 0.0019\n",
            "Epoch 29/30\n",
            "2962/2962 [==============================] - 1s 432us/step - loss: 3.4044e-04 - acc: 3.3761e-04 - val_loss: 1.9936e-04 - val_acc: 0.0019\n",
            "Epoch 30/30\n",
            "2962/2962 [==============================] - 1s 428us/step - loss: 3.3580e-04 - acc: 3.3761e-04 - val_loss: 2.6737e-04 - val_acc: 0.0019\n"
          ],
          "name": "stdout"
        }
      ]
    },
    {
      "cell_type": "code",
      "metadata": {
        "id": "KvRsWFmr2_Do",
        "colab_type": "code",
        "colab": {
          "base_uri": "https://localhost:8080/",
          "height": 1000
        },
        "outputId": "9567c318-0f69-47cb-b5bb-f43c17627cb0"
      },
      "source": [
        "RMSprop_low_LR = keras.optimizers.RMSprop(lr=0.0001)\n",
        "\n",
        "model = Sequential()\n",
        "model.add(CuDNNLSTM(160, return_sequences=True))\n",
        "model.add(CuDNNLSTM(160, return_sequences=False))\n",
        "\n",
        "# model.add(GRU(150, input_shape=(seqTrain.shape[0],maxlen)))\n",
        "model.add(Dense(160, activation='relu'))\n",
        "model.add(Dense(80, activation='relu'))\n",
        "model.add(Dense(40, activation='relu'))\n",
        "model.add(Dense(1))\n",
        "\n",
        "model.compile(optimizer = 'adam', loss='mean_absolute_error', metrics =['mean_squared_error'])\n",
        "c = model.fit(seqTrain, y_train, batch_size=64, epochs=30, validation_split=0.15)# .history"
      ],
      "execution_count": 723,
      "outputs": [
        {
          "output_type": "stream",
          "text": [
            "Train on 2962 samples, validate on 523 samples\n",
            "Epoch 1/30\n",
            "2962/2962 [==============================] - 5s 2ms/step - loss: 0.0705 - acc: 3.3761e-04 - val_loss: 0.0276 - val_acc: 0.0019\n",
            "Epoch 2/30\n",
            "2962/2962 [==============================] - 1s 452us/step - loss: 0.0200 - acc: 3.3761e-04 - val_loss: 0.0136 - val_acc: 0.0019\n",
            "Epoch 3/30\n",
            "2962/2962 [==============================] - 1s 451us/step - loss: 0.0138 - acc: 3.3761e-04 - val_loss: 0.0267 - val_acc: 0.0019\n",
            "Epoch 4/30\n",
            "2962/2962 [==============================] - 1s 451us/step - loss: 0.0147 - acc: 3.3761e-04 - val_loss: 0.0221 - val_acc: 0.0019\n",
            "Epoch 5/30\n",
            "2962/2962 [==============================] - 1s 458us/step - loss: 0.0138 - acc: 3.3761e-04 - val_loss: 0.0144 - val_acc: 0.0019\n",
            "Epoch 6/30\n",
            "2962/2962 [==============================] - 1s 447us/step - loss: 0.0122 - acc: 3.3761e-04 - val_loss: 0.0289 - val_acc: 0.0019\n",
            "Epoch 7/30\n",
            "2962/2962 [==============================] - 1s 448us/step - loss: 0.0115 - acc: 3.3761e-04 - val_loss: 0.0163 - val_acc: 0.0019\n",
            "Epoch 8/30\n",
            "2962/2962 [==============================] - 1s 443us/step - loss: 0.0117 - acc: 3.3761e-04 - val_loss: 0.0096 - val_acc: 0.0019\n",
            "Epoch 9/30\n",
            "2962/2962 [==============================] - 1s 443us/step - loss: 0.0114 - acc: 3.3761e-04 - val_loss: 0.0270 - val_acc: 0.0019\n",
            "Epoch 10/30\n",
            "2962/2962 [==============================] - 1s 456us/step - loss: 0.0106 - acc: 3.3761e-04 - val_loss: 0.0261 - val_acc: 0.0019\n",
            "Epoch 11/30\n",
            "2962/2962 [==============================] - 1s 452us/step - loss: 0.0114 - acc: 3.3761e-04 - val_loss: 0.0285 - val_acc: 0.0019\n",
            "Epoch 12/30\n",
            "2962/2962 [==============================] - 1s 447us/step - loss: 0.0103 - acc: 3.3761e-04 - val_loss: 0.0213 - val_acc: 0.0019\n",
            "Epoch 13/30\n",
            "2962/2962 [==============================] - 1s 445us/step - loss: 0.0098 - acc: 3.3761e-04 - val_loss: 0.0190 - val_acc: 0.0019\n",
            "Epoch 14/30\n",
            "2962/2962 [==============================] - 1s 454us/step - loss: 0.0084 - acc: 3.3761e-04 - val_loss: 0.0093 - val_acc: 0.0019\n",
            "Epoch 15/30\n",
            "2962/2962 [==============================] - 1s 461us/step - loss: 0.0088 - acc: 3.3761e-04 - val_loss: 0.0078 - val_acc: 0.0019\n",
            "Epoch 16/30\n",
            "2962/2962 [==============================] - 1s 451us/step - loss: 0.0111 - acc: 3.3761e-04 - val_loss: 0.0076 - val_acc: 0.0019\n",
            "Epoch 17/30\n",
            "2962/2962 [==============================] - 1s 452us/step - loss: 0.0090 - acc: 3.3761e-04 - val_loss: 0.0146 - val_acc: 0.0019\n",
            "Epoch 18/30\n",
            "2962/2962 [==============================] - 1s 454us/step - loss: 0.0092 - acc: 3.3761e-04 - val_loss: 0.0070 - val_acc: 0.0019\n",
            "Epoch 19/30\n",
            "2962/2962 [==============================] - 1s 453us/step - loss: 0.0083 - acc: 3.3761e-04 - val_loss: 0.0202 - val_acc: 0.0019\n",
            "Epoch 20/30\n",
            "2962/2962 [==============================] - 1s 450us/step - loss: 0.0090 - acc: 3.3761e-04 - val_loss: 0.0066 - val_acc: 0.0019\n",
            "Epoch 21/30\n",
            "2962/2962 [==============================] - 1s 449us/step - loss: 0.0082 - acc: 3.3761e-04 - val_loss: 0.0065 - val_acc: 0.0019\n",
            "Epoch 22/30\n",
            "2962/2962 [==============================] - 1s 452us/step - loss: 0.0069 - acc: 3.3761e-04 - val_loss: 0.0066 - val_acc: 0.0019\n",
            "Epoch 23/30\n",
            "2962/2962 [==============================] - 1s 460us/step - loss: 0.0091 - acc: 3.3761e-04 - val_loss: 0.0133 - val_acc: 0.0019\n",
            "Epoch 24/30\n",
            "2962/2962 [==============================] - 1s 449us/step - loss: 0.0069 - acc: 3.3761e-04 - val_loss: 0.0190 - val_acc: 0.0019\n",
            "Epoch 25/30\n",
            "2962/2962 [==============================] - 1s 449us/step - loss: 0.0081 - acc: 3.3761e-04 - val_loss: 0.0139 - val_acc: 0.0019\n",
            "Epoch 26/30\n",
            "2962/2962 [==============================] - 1s 457us/step - loss: 0.0072 - acc: 3.3761e-04 - val_loss: 0.0186 - val_acc: 0.0019\n",
            "Epoch 27/30\n",
            "2962/2962 [==============================] - 1s 455us/step - loss: 0.0075 - acc: 3.3761e-04 - val_loss: 0.0192 - val_acc: 0.0019\n",
            "Epoch 28/30\n",
            "2962/2962 [==============================] - 1s 444us/step - loss: 0.0072 - acc: 3.3761e-04 - val_loss: 0.0199 - val_acc: 0.0019\n",
            "Epoch 29/30\n",
            "2962/2962 [==============================] - 1s 450us/step - loss: 0.0069 - acc: 3.3761e-04 - val_loss: 0.0070 - val_acc: 0.0019\n",
            "Epoch 30/30\n",
            "2962/2962 [==============================] - 1s 454us/step - loss: 0.0067 - acc: 3.3761e-04 - val_loss: 0.0088 - val_acc: 0.0019\n"
          ],
          "name": "stdout"
        }
      ]
    },
    {
      "cell_type": "code",
      "metadata": {
        "id": "ZQ421Lxf2_BX",
        "colab_type": "code",
        "colab": {}
      },
      "source": [
        ""
      ],
      "execution_count": 0,
      "outputs": []
    },
    {
      "cell_type": "code",
      "metadata": {
        "id": "qW2io5tS2-wy",
        "colab_type": "code",
        "colab": {}
      },
      "source": [
        ""
      ],
      "execution_count": 0,
      "outputs": []
    },
    {
      "cell_type": "code",
      "metadata": {
        "id": "ApKztIb22-oz",
        "colab_type": "code",
        "colab": {}
      },
      "source": [
        ""
      ],
      "execution_count": 0,
      "outputs": []
    },
    {
      "cell_type": "code",
      "metadata": {
        "id": "v_1aPx3B2-br",
        "colab_type": "code",
        "colab": {}
      },
      "source": [
        ""
      ],
      "execution_count": 0,
      "outputs": []
    },
    {
      "cell_type": "code",
      "metadata": {
        "id": "cnp7h9Ab2-Z6",
        "colab_type": "code",
        "colab": {}
      },
      "source": [
        ""
      ],
      "execution_count": 0,
      "outputs": []
    },
    {
      "cell_type": "code",
      "metadata": {
        "id": "md8aaa7J2-Ur",
        "colab_type": "code",
        "colab": {}
      },
      "source": [
        ""
      ],
      "execution_count": 0,
      "outputs": []
    }
  ]
}