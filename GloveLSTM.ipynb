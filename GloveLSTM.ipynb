{
  "nbformat": 4,
  "nbformat_minor": 0,
  "metadata": {
    "colab": {
      "name": "GloveLSTM.ipynb",
      "provenance": [],
      "collapsed_sections": [],
      "authorship_tag": "ABX9TyP6hvh/ozhdgrXJHyJhzYCx",
      "include_colab_link": true
    },
    "kernelspec": {
      "name": "python3",
      "display_name": "Python 3"
    }
  },
  "cells": [
    {
      "cell_type": "markdown",
      "metadata": {
        "id": "view-in-github",
        "colab_type": "text"
      },
      "source": [
        "<a href=\"https://colab.research.google.com/github/ddkpham/Stock_Prediction_NLP_ML/blob/master/GloveLSTM.ipynb\" target=\"_parent\"><img src=\"https://colab.research.google.com/assets/colab-badge.svg\" alt=\"Open In Colab\"/></a>"
      ]
    },
    {
      "cell_type": "code",
      "metadata": {
        "id": "TWU7zxhGVrxS",
        "colab_type": "code",
        "outputId": "31bc9d14-5d59-4668-b9ce-e96dcbe39bb2",
        "colab": {
          "base_uri": "https://localhost:8080/",
          "height": 55
        }
      },
      "source": [
        "from google.colab import drive\n",
        "drive.mount('/content/drive/')"
      ],
      "execution_count": 107,
      "outputs": [
        {
          "output_type": "stream",
          "text": [
            "Drive already mounted at /content/drive/; to attempt to forcibly remount, call drive.mount(\"/content/drive/\", force_remount=True).\n"
          ],
          "name": "stdout"
        }
      ]
    },
    {
      "cell_type": "code",
      "metadata": {
        "id": "kbNX2bOPVxIW",
        "colab_type": "code",
        "outputId": "46e3739d-bd59-4c8d-8864-b160d859e620",
        "colab": {
          "base_uri": "https://localhost:8080/",
          "height": 217
        }
      },
      "source": [
        "# Import required Libraries\n",
        "!pip install fastparquet\n",
        "import math\n",
        "import pandas_datareader as web\n",
        "import numpy as np \n",
        "import pandas as pd\n",
        "from sklearn.preprocessing import MinMaxScaler\n",
        "from tensorflow.keras.models import Sequential \n",
        "from tensorflow.keras.layers import Dense, LSTM\n",
        "import matplotlib.pyplot as plt\n",
        "import datetime"
      ],
      "execution_count": 108,
      "outputs": [
        {
          "output_type": "stream",
          "text": [
            "Requirement already satisfied: fastparquet in /usr/local/lib/python3.6/dist-packages (0.3.3)\n",
            "Requirement already satisfied: numpy>=1.11 in /usr/local/lib/python3.6/dist-packages (from fastparquet) (1.18.2)\n",
            "Requirement already satisfied: pandas>=0.19 in /usr/local/lib/python3.6/dist-packages (from fastparquet) (1.0.3)\n",
            "Requirement already satisfied: numba>=0.28 in /usr/local/lib/python3.6/dist-packages (from fastparquet) (0.48.0)\n",
            "Requirement already satisfied: thrift>=0.11.0 in /usr/local/lib/python3.6/dist-packages (from fastparquet) (0.13.0)\n",
            "Requirement already satisfied: six in /usr/local/lib/python3.6/dist-packages (from fastparquet) (1.12.0)\n",
            "Requirement already satisfied: pytz>=2017.2 in /usr/local/lib/python3.6/dist-packages (from pandas>=0.19->fastparquet) (2018.9)\n",
            "Requirement already satisfied: python-dateutil>=2.6.1 in /usr/local/lib/python3.6/dist-packages (from pandas>=0.19->fastparquet) (2.8.1)\n",
            "Requirement already satisfied: setuptools in /usr/local/lib/python3.6/dist-packages (from numba>=0.28->fastparquet) (46.1.3)\n",
            "Requirement already satisfied: llvmlite<0.32.0,>=0.31.0dev0 in /usr/local/lib/python3.6/dist-packages (from numba>=0.28->fastparquet) (0.31.0)\n"
          ],
          "name": "stdout"
        }
      ]
    },
    {
      "cell_type": "code",
      "metadata": {
        "id": "S7CcdnvpWCAC",
        "colab_type": "code",
        "outputId": "6ca0ec3d-d428-4b84-dab5-b2518894466b",
        "colab": {
          "base_uri": "https://localhost:8080/",
          "height": 701
        }
      },
      "source": [
        " !ls /content/drive/My\\ Drive"
      ],
      "execution_count": 0,
      "outputs": [
        {
          "output_type": "stream",
          "text": [
            "'15 feature for Thrive Mind.gdoc'\n",
            "'2315&2310 textbook_exercise.gsheet'\n",
            "'275-Final Report'\n",
            "'Bacterial Pathogenesis - A Molecular Approach 3rd ed. - B. Wilson, et. al.[Bellatrix].pdf'\n",
            "'Cheap and or free date ideas for Fiona and David.gdoc'\n",
            "'CMPT 295 Assignment 2.gdoc'\n",
            "'CMPT 310 Lectures'\n",
            " CMPT310PROJ3\n",
            "'CMPT 365'\n",
            " CMPT365website\n",
            " CMPT405\n",
            " code.zip\n",
            "'Colab Notebooks'\n",
            "'COOP cover letters.gdoc'\n",
            "'co op work term record.gdoc'\n",
            "'Co-Post-translational protein folding in the ER Notes.gdoc'\n",
            " Cracking-the-Coding-Interview-150-Programming-Questions-and-Solutions.pdf\n",
            "'David Pham .gslides'\n",
            " fantasy_wizard\n",
            " Friends\n",
            " Grid-Iron\n",
            " IMG_0138.MOV\n",
            "'Internship   Co-op description + requirements.gdoc'\n",
            "'Kathy Sierra, Bert Bates - Head First Java, 2nd Edition (2005, O'\\''Reilly Media).pdf'\n",
            "'Manning Park Beer Pong Tournament 2018'\n",
            "'Messaging Service User Research Survey .gform'\n",
            "'ML Project Notes.gdoc'\n",
            "'ML Project Proposal .gdoc'\n",
            "'Oregon Bike Trip!'\n",
            " Report.pdf\n",
            "'SLA SLO.gdoc'\n",
            " Style-Lessons-in-Clarity-and-Grace.pdf\n",
            "'Thrive Mind.gdoc'\n",
            "'To-do list (1).gsheet'\n",
            "'To-do list (2).gsheet'\n",
            "'To-do list.gsheet'\n",
            "'User Research Plan'\n",
            " wsb.daily.joined.parquet.gz\n"
          ],
          "name": "stdout"
        }
      ]
    },
    {
      "cell_type": "code",
      "metadata": {
        "id": "0_BwnKjgWGKf",
        "colab_type": "code",
        "colab": {}
      },
      "source": [
        "stocks = pd.read_parquet('https://github.com/alik604/CMPT-419/blob/master/data/wsb.daily.joined.parquet.gz?raw=true', engine=\"fastparquet\")"
      ],
      "execution_count": 0,
      "outputs": []
    },
    {
      "cell_type": "code",
      "metadata": {
        "id": "9ARCPWbzWqhO",
        "colab_type": "code",
        "outputId": "96d2f518-d3a0-4cf0-c384-60a1453ef7f3",
        "colab": {
          "base_uri": "https://localhost:8080/",
          "height": 224
        }
      },
      "source": [
        "stocks.head(5)\n",
        "stocks.tail(5)"
      ],
      "execution_count": 195,
      "outputs": [
        {
          "output_type": "execute_result",
          "data": {
            "text/html": [
              "<div>\n",
              "<style scoped>\n",
              "    .dataframe tbody tr th:only-of-type {\n",
              "        vertical-align: middle;\n",
              "    }\n",
              "\n",
              "    .dataframe tbody tr th {\n",
              "        vertical-align: top;\n",
              "    }\n",
              "\n",
              "    .dataframe thead th {\n",
              "        text-align: right;\n",
              "    }\n",
              "</style>\n",
              "<table border=\"1\" class=\"dataframe\">\n",
              "  <thead>\n",
              "    <tr style=\"text-align: right;\">\n",
              "      <th></th>\n",
              "      <th>created_utc</th>\n",
              "      <th>score</th>\n",
              "      <th>gilded</th>\n",
              "      <th>wordcount</th>\n",
              "      <th>0</th>\n",
              "      <th>1</th>\n",
              "      <th>2</th>\n",
              "      <th>3</th>\n",
              "      <th>4</th>\n",
              "      <th>5</th>\n",
              "      <th>6</th>\n",
              "      <th>7</th>\n",
              "      <th>8</th>\n",
              "      <th>9</th>\n",
              "      <th>10</th>\n",
              "      <th>11</th>\n",
              "      <th>12</th>\n",
              "      <th>13</th>\n",
              "      <th>14</th>\n",
              "      <th>15</th>\n",
              "      <th>16</th>\n",
              "      <th>17</th>\n",
              "      <th>18</th>\n",
              "      <th>19</th>\n",
              "      <th>20</th>\n",
              "      <th>21</th>\n",
              "      <th>22</th>\n",
              "      <th>23</th>\n",
              "      <th>24</th>\n",
              "      <th>AAPL_CPrc</th>\n",
              "      <th>AAPL_OPrc</th>\n",
              "      <th>AMZN_CPrc</th>\n",
              "      <th>AMZN_OPrc</th>\n",
              "      <th>BA_CPrc</th>\n",
              "      <th>BA_OPrc</th>\n",
              "      <th>SPY_CPrc</th>\n",
              "      <th>SPY_OPrc</th>\n",
              "      <th>TSLA_CPrc</th>\n",
              "      <th>TSLA_OPrc</th>\n",
              "    </tr>\n",
              "  </thead>\n",
              "  <tbody>\n",
              "    <tr>\n",
              "      <th>708</th>\n",
              "      <td>2019-10-25</td>\n",
              "      <td>5.419186</td>\n",
              "      <td>0.000254</td>\n",
              "      <td>15.673863</td>\n",
              "      <td>-0.015092</td>\n",
              "      <td>0.086603</td>\n",
              "      <td>-0.009423</td>\n",
              "      <td>-0.018914</td>\n",
              "      <td>-0.037407</td>\n",
              "      <td>-0.022757</td>\n",
              "      <td>0.150014</td>\n",
              "      <td>-0.074765</td>\n",
              "      <td>-0.021758</td>\n",
              "      <td>-0.006170</td>\n",
              "      <td>-0.043355</td>\n",
              "      <td>0.060446</td>\n",
              "      <td>-0.667465</td>\n",
              "      <td>-0.029348</td>\n",
              "      <td>0.042688</td>\n",
              "      <td>0.020240</td>\n",
              "      <td>0.046672</td>\n",
              "      <td>-0.046239</td>\n",
              "      <td>-0.001512</td>\n",
              "      <td>-0.014393</td>\n",
              "      <td>0.006396</td>\n",
              "      <td>0.018746</td>\n",
              "      <td>0.037486</td>\n",
              "      <td>0.030975</td>\n",
              "      <td>-0.051407</td>\n",
              "      <td>246.58</td>\n",
              "      <td>243.16</td>\n",
              "      <td>1761.33</td>\n",
              "      <td>1698.01</td>\n",
              "      <td>339.83</td>\n",
              "      <td>342.99</td>\n",
              "      <td>301.60</td>\n",
              "      <td>299.74</td>\n",
              "      <td>328.13</td>\n",
              "      <td>297.72</td>\n",
              "    </tr>\n",
              "    <tr>\n",
              "      <th>709</th>\n",
              "      <td>2019-10-28</td>\n",
              "      <td>5.501885</td>\n",
              "      <td>0.000092</td>\n",
              "      <td>16.153627</td>\n",
              "      <td>-0.012493</td>\n",
              "      <td>0.088967</td>\n",
              "      <td>-0.010182</td>\n",
              "      <td>-0.019853</td>\n",
              "      <td>-0.039271</td>\n",
              "      <td>-0.024242</td>\n",
              "      <td>0.149202</td>\n",
              "      <td>-0.081592</td>\n",
              "      <td>-0.018510</td>\n",
              "      <td>-0.005629</td>\n",
              "      <td>-0.040943</td>\n",
              "      <td>0.060828</td>\n",
              "      <td>-0.669622</td>\n",
              "      <td>-0.026370</td>\n",
              "      <td>0.043762</td>\n",
              "      <td>0.021522</td>\n",
              "      <td>0.047934</td>\n",
              "      <td>-0.044034</td>\n",
              "      <td>0.000773</td>\n",
              "      <td>-0.018675</td>\n",
              "      <td>0.005929</td>\n",
              "      <td>0.016296</td>\n",
              "      <td>0.038137</td>\n",
              "      <td>0.029383</td>\n",
              "      <td>-0.054537</td>\n",
              "      <td>249.05</td>\n",
              "      <td>247.50</td>\n",
              "      <td>1777.08</td>\n",
              "      <td>1750.70</td>\n",
              "      <td>340.88</td>\n",
              "      <td>341.49</td>\n",
              "      <td>303.30</td>\n",
              "      <td>302.91</td>\n",
              "      <td>327.71</td>\n",
              "      <td>327.35</td>\n",
              "    </tr>\n",
              "    <tr>\n",
              "      <th>710</th>\n",
              "      <td>2019-10-29</td>\n",
              "      <td>4.831472</td>\n",
              "      <td>0.000162</td>\n",
              "      <td>15.053424</td>\n",
              "      <td>-0.013019</td>\n",
              "      <td>0.089879</td>\n",
              "      <td>-0.008358</td>\n",
              "      <td>-0.017215</td>\n",
              "      <td>-0.038393</td>\n",
              "      <td>-0.022216</td>\n",
              "      <td>0.151195</td>\n",
              "      <td>-0.074344</td>\n",
              "      <td>-0.021114</td>\n",
              "      <td>-0.003404</td>\n",
              "      <td>-0.043528</td>\n",
              "      <td>0.062134</td>\n",
              "      <td>-0.665775</td>\n",
              "      <td>-0.031624</td>\n",
              "      <td>0.043718</td>\n",
              "      <td>0.024438</td>\n",
              "      <td>0.046891</td>\n",
              "      <td>-0.044923</td>\n",
              "      <td>0.001078</td>\n",
              "      <td>-0.015523</td>\n",
              "      <td>0.009790</td>\n",
              "      <td>0.019005</td>\n",
              "      <td>0.038384</td>\n",
              "      <td>0.031873</td>\n",
              "      <td>-0.050217</td>\n",
              "      <td>243.29</td>\n",
              "      <td>248.97</td>\n",
              "      <td>1762.71</td>\n",
              "      <td>1775.00</td>\n",
              "      <td>348.93</td>\n",
              "      <td>340.15</td>\n",
              "      <td>303.21</td>\n",
              "      <td>303.03</td>\n",
              "      <td>316.22</td>\n",
              "      <td>319.99</td>\n",
              "    </tr>\n",
              "    <tr>\n",
              "      <th>711</th>\n",
              "      <td>2019-10-30</td>\n",
              "      <td>5.048346</td>\n",
              "      <td>0.000181</td>\n",
              "      <td>14.314462</td>\n",
              "      <td>-0.006399</td>\n",
              "      <td>0.089110</td>\n",
              "      <td>-0.016125</td>\n",
              "      <td>-0.019654</td>\n",
              "      <td>-0.033241</td>\n",
              "      <td>-0.019550</td>\n",
              "      <td>0.140450</td>\n",
              "      <td>-0.045746</td>\n",
              "      <td>-0.022562</td>\n",
              "      <td>-0.003709</td>\n",
              "      <td>-0.045547</td>\n",
              "      <td>0.050558</td>\n",
              "      <td>-0.656832</td>\n",
              "      <td>-0.030471</td>\n",
              "      <td>0.037854</td>\n",
              "      <td>0.018806</td>\n",
              "      <td>0.033313</td>\n",
              "      <td>-0.042526</td>\n",
              "      <td>-0.004206</td>\n",
              "      <td>-0.004015</td>\n",
              "      <td>0.004740</td>\n",
              "      <td>0.010254</td>\n",
              "      <td>0.037975</td>\n",
              "      <td>0.031479</td>\n",
              "      <td>-0.046712</td>\n",
              "      <td>243.26</td>\n",
              "      <td>244.76</td>\n",
              "      <td>1779.99</td>\n",
              "      <td>1760.10</td>\n",
              "      <td>346.06</td>\n",
              "      <td>346.63</td>\n",
              "      <td>304.14</td>\n",
              "      <td>303.43</td>\n",
              "      <td>315.01</td>\n",
              "      <td>313.00</td>\n",
              "    </tr>\n",
              "    <tr>\n",
              "      <th>712</th>\n",
              "      <td>2019-10-31</td>\n",
              "      <td>9.800924</td>\n",
              "      <td>0.000872</td>\n",
              "      <td>17.253552</td>\n",
              "      <td>-0.013783</td>\n",
              "      <td>0.088982</td>\n",
              "      <td>-0.012983</td>\n",
              "      <td>-0.012372</td>\n",
              "      <td>-0.036133</td>\n",
              "      <td>-0.023620</td>\n",
              "      <td>0.154619</td>\n",
              "      <td>-0.076849</td>\n",
              "      <td>-0.023294</td>\n",
              "      <td>-0.003048</td>\n",
              "      <td>-0.041251</td>\n",
              "      <td>0.061375</td>\n",
              "      <td>-0.663991</td>\n",
              "      <td>-0.028172</td>\n",
              "      <td>0.043660</td>\n",
              "      <td>0.026479</td>\n",
              "      <td>0.046957</td>\n",
              "      <td>-0.043210</td>\n",
              "      <td>0.002582</td>\n",
              "      <td>-0.017126</td>\n",
              "      <td>0.007530</td>\n",
              "      <td>0.019177</td>\n",
              "      <td>0.033687</td>\n",
              "      <td>0.031406</td>\n",
              "      <td>-0.051298</td>\n",
              "      <td>248.76</td>\n",
              "      <td>247.20</td>\n",
              "      <td>1776.66</td>\n",
              "      <td>1775.99</td>\n",
              "      <td>339.91</td>\n",
              "      <td>344.70</td>\n",
              "      <td>303.33</td>\n",
              "      <td>304.11</td>\n",
              "      <td>314.92</td>\n",
              "      <td>313.10</td>\n",
              "    </tr>\n",
              "  </tbody>\n",
              "</table>\n",
              "</div>"
            ],
            "text/plain": [
              "    created_utc     score    gilded  ...  SPY_OPrc  TSLA_CPrc  TSLA_OPrc\n",
              "708  2019-10-25  5.419186  0.000254  ...    299.74     328.13     297.72\n",
              "709  2019-10-28  5.501885  0.000092  ...    302.91     327.71     327.35\n",
              "710  2019-10-29  4.831472  0.000162  ...    303.03     316.22     319.99\n",
              "711  2019-10-30  5.048346  0.000181  ...    303.43     315.01     313.00\n",
              "712  2019-10-31  9.800924  0.000872  ...    304.11     314.92     313.10\n",
              "\n",
              "[5 rows x 39 columns]"
            ]
          },
          "metadata": {
            "tags": []
          },
          "execution_count": 195
        }
      ]
    },
    {
      "cell_type": "code",
      "metadata": {
        "id": "ABx22CiAXalK",
        "colab_type": "code",
        "colab": {}
      },
      "source": [
        "# Drop created date \n",
        "data = stocks.drop(['created_utc', 'AAPL_CPrc','AMZN_CPrc','BA_CPrc', 'SPY_CPrc', 'TSLA_CPrc' ] , axis=1)\n",
        "\n",
        "# Closing Price dataset\n",
        "plotData = stocks.filter(['created_utc','AAPL_CPrc', 'AMZN_CPrc', 'BA_CPrc', 'SPY_CPrc', 'TSLA_CPrc'])\n",
        "dataCPrc = stocks.filter(['AAPL_CPrc', 'AMZN_CPrc', 'BA_CPrc', 'SPY_CPrc', 'TSLA_CPrc'])\n",
        "datasetCPrc = dataCPrc.values\n"
      ],
      "execution_count": 0,
      "outputs": []
    },
    {
      "cell_type": "code",
      "metadata": {
        "id": "d7BKqI90X45t",
        "colab_type": "code",
        "outputId": "48d1a67c-b937-4905-a9ac-cd7617d5b3ff",
        "colab": {
          "base_uri": "https://localhost:8080/",
          "height": 251
        }
      },
      "source": [
        "dataset = data.values\n",
        "print(dataset)"
      ],
      "execution_count": 197,
      "outputs": [
        {
          "output_type": "stream",
          "text": [
            "[[4.62113587e+00 0.00000000e+00 1.72465852e+01 ... 1.56300000e+02\n",
            "  2.25070000e+02 2.15610000e+02]\n",
            " [5.84415584e+00 0.00000000e+00 1.69265951e+01 ... 1.57780000e+02\n",
            "  2.25640000e+02 2.14300000e+02]\n",
            " [6.36900369e+00 0.00000000e+00 1.79852399e+01 ... 1.58410000e+02\n",
            "  2.26280000e+02 2.26600000e+02]\n",
            " ...\n",
            " [4.83147159e+00 1.61890886e-04 1.50534240e+01 ... 3.40150000e+02\n",
            "  3.03030000e+02 3.19990000e+02]\n",
            " [5.04834621e+00 1.81071946e-04 1.43144616e+01 ... 3.46630000e+02\n",
            "  3.03430000e+02 3.13000000e+02]\n",
            " [9.80092391e+00 8.71611610e-04 1.72535518e+01 ... 3.44700000e+02\n",
            "  3.04110000e+02 3.13100000e+02]]\n"
          ],
          "name": "stdout"
        }
      ]
    },
    {
      "cell_type": "code",
      "metadata": {
        "id": "XdJqirKIX9eP",
        "colab_type": "code",
        "outputId": "3cf847e2-b6ee-4661-97e4-8d8a6cb35a82",
        "colab": {
          "base_uri": "https://localhost:8080/",
          "height": 35
        }
      },
      "source": [
        "# set training set len\n",
        "training_data_len = math.ceil(len(dataset) * 0.8) \n",
        "training_data_len"
      ],
      "execution_count": 198,
      "outputs": [
        {
          "output_type": "execute_result",
          "data": {
            "text/plain": [
              "571"
            ]
          },
          "metadata": {
            "tags": []
          },
          "execution_count": 198
        }
      ]
    },
    {
      "cell_type": "code",
      "metadata": {
        "id": "EAOTCb4eYXlB",
        "colab_type": "code",
        "outputId": "a069ac13-afca-437d-d2da-c53fb0b2ffd1",
        "colab": {
          "base_uri": "https://localhost:8080/",
          "height": 251
        }
      },
      "source": [
        "# Scale data \n",
        "scaler = MinMaxScaler(feature_range=(0,1))\n",
        "scaled_data = scaler.fit_transform(dataset)\n",
        "\n",
        "scalerCPrc = MinMaxScaler(feature_range=(0,1))\n",
        "scaledCPrc_data = scalerCPrc.fit_transform(datasetCPrc)\n",
        "scaledCPrc_data"
      ],
      "execution_count": 199,
      "outputs": [
        {
          "output_type": "execute_result",
          "data": {
            "text/plain": [
              "array([[9.77223183e-04, 0.00000000e+00, 0.00000000e+00, 0.00000000e+00,\n",
              "        1.84536233e-01],\n",
              "       [0.00000000e+00, 2.73748882e-03, 5.81702803e-03, 1.69835234e-02,\n",
              "        2.33072853e-01],\n",
              "       [4.43508983e-03, 2.08344675e-02, 6.13432047e-03, 1.47021546e-02,\n",
              "        2.31907975e-01],\n",
              "       ...,\n",
              "       [9.56701496e-01, 7.84733834e-01, 6.76749515e-01, 9.88212928e-01,\n",
              "        6.66165122e-01],\n",
              "       [9.56475983e-01, 7.98172415e-01, 6.66631412e-01, 1.00000000e+00,\n",
              "        6.60292190e-01],\n",
              "       [9.97820041e-01, 7.95582688e-01, 6.44949762e-01, 9.89733840e-01,\n",
              "        6.59855361e-01]])"
            ]
          },
          "metadata": {
            "tags": []
          },
          "execution_count": 199
        }
      ]
    },
    {
      "cell_type": "code",
      "metadata": {
        "id": "Fo4YosvZYqu0",
        "colab_type": "code",
        "outputId": "1283b5a3-8bcc-42f9-faa7-5ce11f17b788",
        "colab": {
          "base_uri": "https://localhost:8080/",
          "height": 287
        }
      },
      "source": [
        "# Create training set from scaled data \n",
        "train_data = scaled_data[0:training_data_len, :]\n",
        "train_y = scaledCPrc_data[0:training_data_len, :]\n",
        "print(train_data)\n",
        "print(type(train_data))\n",
        "print((train_data[0]))\n",
        "print(len(train_data[0]))\n",
        "\n"
      ],
      "execution_count": 200,
      "outputs": [
        {
          "output_type": "stream",
          "text": [
            "[[0.11721898 0.         0.50658098 ... 0.         0.         0.16842362]\n",
            " [0.16899881 0.         0.49176719 ... 0.00510856 0.00721154 0.16203026]\n",
            " [0.19121965 0.         0.54077665 ... 0.00728315 0.0153087  0.22205954]\n",
            " ...\n",
            " [0.1558692  0.01751648 0.48099883 ... 0.7584481  0.79744433 0.47252318]\n",
            " [0.14085828 0.00808342 0.49171596 ... 0.73849712 0.79263664 0.44192289]\n",
            " [0.10757699 0.0097961  0.43383977 ... 0.73204239 0.79326923 0.46739873]]\n",
            "<class 'numpy.ndarray'>\n",
            "[0.11721898 0.         0.50658098 0.74202113 0.59295279 0.49048344\n",
            " 0.3155961  0.83934588 0.21538652 0.63005073 0.1929212  0.64774439\n",
            " 0.35566698 0.84632938 0.92806713 0.19534091 0.84200131 0.50608581\n",
            " 0.61900035 0.39982882 0.77273146 0.75702323 0.15305746 0.26371901\n",
            " 0.4116461  0.49412037 0.11712242 0.20198729 0.         0.\n",
            " 0.         0.         0.16842362]\n",
            "33\n"
          ],
          "name": "stdout"
        }
      ]
    },
    {
      "cell_type": "code",
      "metadata": {
        "id": "tR39LbGWY8lG",
        "colab_type": "code",
        "colab": {}
      },
      "source": [
        "# Split data into x_train, y_train\n",
        "x_train = []\n",
        "y_train = []"
      ],
      "execution_count": 0,
      "outputs": []
    },
    {
      "cell_type": "code",
      "metadata": {
        "id": "FJOXMynkZ9L5",
        "colab_type": "code",
        "outputId": "6bf3cd55-99e3-4118-fee5-ae07ae91d148",
        "colab": {
          "base_uri": "https://localhost:8080/",
          "height": 107
        }
      },
      "source": [
        "for i in range(60, len(train_data)):\n",
        "  x_train.append(train_data[i-60:i, :])\n",
        "  y_train.append(train_y[i:i+1,:][0].tolist())\n",
        "  if(i < 65):\n",
        "    print(train_y[i:i+1,:][0], type(train_y[i:i+1,:][0]))"
      ],
      "execution_count": 202,
      "outputs": [
        {
          "output_type": "stream",
          "text": [
            "[0.20972713 0.09540771 0.07407016 0.1400507  0.47959035] <class 'numpy.ndarray'>\n",
            "[0.20777268 0.10334798 0.07012163 0.13307985 0.48211426] <class 'numpy.ndarray'>\n",
            "[0.20807337 0.10720535 0.06938128 0.1278834  0.5802553 ] <class 'numpy.ndarray'>\n",
            "[0.21604149 0.11914298 0.0766085  0.12978454 0.60539727] <class 'numpy.ndarray'>\n",
            "[0.21047884 0.121025   0.07089723 0.12091255 0.56205407] <class 'numpy.ndarray'>\n"
          ],
          "name": "stdout"
        }
      ]
    },
    {
      "cell_type": "code",
      "metadata": {
        "id": "ACnTHF1XdJpY",
        "colab_type": "code",
        "outputId": "4c3f1d62-3765-4043-ce88-8fc119233387",
        "colab": {
          "base_uri": "https://localhost:8080/",
          "height": 161
        }
      },
      "source": [
        "# Convert both x, y training sets to np array \n",
        "x_train, y_train = np.array(x_train), np.array(y_train)\n",
        "print(y_train, type(y_train))\n",
        "# Reshape the data // LSTM network expects 3 dimensional input in the form of \n",
        "# (number of samples, number of timesteps, number of features)\n",
        "x_train = np.reshape(x_train, (x_train.shape[0], x_train.shape[1], 33))\n",
        "x_train.shape"
      ],
      "execution_count": 203,
      "outputs": [
        {
          "output_type": "stream",
          "text": [
            "[[0.20972713 0.09540771 0.07407016 0.1400507  0.47959035]\n",
            " [0.20777268 0.10334798 0.07012163 0.13307985 0.48211426]\n",
            " [0.20807337 0.10720535 0.06938128 0.1278834  0.5802553 ]\n",
            " ...\n",
            " [0.63188754 0.85251001 0.76696633 0.80544994 0.45736058]\n",
            " [0.62752763 0.84160672 0.74764675 0.78669202 0.45304082]\n",
            " [0.63594678 0.85054244 0.73319231 0.7991128  0.47124205]] <class 'numpy.ndarray'>\n"
          ],
          "name": "stdout"
        },
        {
          "output_type": "execute_result",
          "data": {
            "text/plain": [
              "(511, 60, 33)"
            ]
          },
          "metadata": {
            "tags": []
          },
          "execution_count": 203
        }
      ]
    },
    {
      "cell_type": "code",
      "metadata": {
        "id": "IKVNbH_GeA8u",
        "colab_type": "code",
        "colab": {}
      },
      "source": [
        "# Declare the LSTM model architecture \n",
        "model = Sequential()\n",
        "\n",
        "# Add layers , input shape expected is (number of timesteps, number of features)\n",
        "model.add(LSTM(75, return_sequences=True, input_shape=(x_train.shape[1], 33)))\n",
        "model.add(LSTM(50, return_sequences=False))\n",
        "model.add(Dense(25))\n",
        "model.add(Dense(5))"
      ],
      "execution_count": 0,
      "outputs": []
    },
    {
      "cell_type": "code",
      "metadata": {
        "id": "rfiNSgYqeHTG",
        "colab_type": "code",
        "colab": {}
      },
      "source": [
        "# Compile Model \n",
        "model.compile(optimizer='adam', loss='mean_squared_error')"
      ],
      "execution_count": 0,
      "outputs": []
    },
    {
      "cell_type": "markdown",
      "metadata": {
        "id": "AGFe80-GQ08x",
        "colab_type": "text"
      },
      "source": [
        ""
      ]
    },
    {
      "cell_type": "code",
      "metadata": {
        "id": "R_3Q9445eJSt",
        "colab_type": "code",
        "outputId": "42909065-e3a1-4da0-91d1-8b8f539196d4",
        "colab": {
          "base_uri": "https://localhost:8080/",
          "height": 1000
        }
      },
      "source": [
        "# Train the model \n",
        "model.fit(x_train, y_train, batch_size=16, epochs=100)"
      ],
      "execution_count": 206,
      "outputs": [
        {
          "output_type": "stream",
          "text": [
            "Epoch 1/100\n",
            "32/32 [==============================] - 2s 57ms/step - loss: 0.0604\n",
            "Epoch 2/100\n",
            "32/32 [==============================] - 2s 56ms/step - loss: 0.0106\n",
            "Epoch 3/100\n",
            "32/32 [==============================] - 2s 54ms/step - loss: 0.0076\n",
            "Epoch 4/100\n",
            "32/32 [==============================] - 2s 56ms/step - loss: 0.0061\n",
            "Epoch 5/100\n",
            "32/32 [==============================] - 2s 56ms/step - loss: 0.0056\n",
            "Epoch 6/100\n",
            "32/32 [==============================] - 2s 56ms/step - loss: 0.0049\n",
            "Epoch 7/100\n",
            "32/32 [==============================] - 2s 58ms/step - loss: 0.0044\n",
            "Epoch 8/100\n",
            "32/32 [==============================] - 2s 58ms/step - loss: 0.0043\n",
            "Epoch 9/100\n",
            "32/32 [==============================] - 2s 57ms/step - loss: 0.0039\n",
            "Epoch 10/100\n",
            "32/32 [==============================] - 2s 57ms/step - loss: 0.0041\n",
            "Epoch 11/100\n",
            "32/32 [==============================] - 2s 59ms/step - loss: 0.0039\n",
            "Epoch 12/100\n",
            "32/32 [==============================] - 3s 87ms/step - loss: 0.0037\n",
            "Epoch 13/100\n",
            "32/32 [==============================] - 3s 92ms/step - loss: 0.0036\n",
            "Epoch 14/100\n",
            "32/32 [==============================] - 3s 93ms/step - loss: 0.0031\n",
            "Epoch 15/100\n",
            "32/32 [==============================] - 2s 60ms/step - loss: 0.0030\n",
            "Epoch 16/100\n",
            "32/32 [==============================] - 2s 58ms/step - loss: 0.0030\n",
            "Epoch 17/100\n",
            "32/32 [==============================] - 2s 58ms/step - loss: 0.0030\n",
            "Epoch 18/100\n",
            "32/32 [==============================] - 2s 58ms/step - loss: 0.0033\n",
            "Epoch 19/100\n",
            "32/32 [==============================] - 2s 56ms/step - loss: 0.0028\n",
            "Epoch 20/100\n",
            "32/32 [==============================] - 2s 57ms/step - loss: 0.0029\n",
            "Epoch 21/100\n",
            "32/32 [==============================] - 2s 56ms/step - loss: 0.0029\n",
            "Epoch 22/100\n",
            "32/32 [==============================] - 2s 59ms/step - loss: 0.0029\n",
            "Epoch 23/100\n",
            "32/32 [==============================] - 2s 57ms/step - loss: 0.0026\n",
            "Epoch 24/100\n",
            "32/32 [==============================] - 2s 58ms/step - loss: 0.0029\n",
            "Epoch 25/100\n",
            "32/32 [==============================] - 2s 56ms/step - loss: 0.0025\n",
            "Epoch 26/100\n",
            "32/32 [==============================] - 2s 58ms/step - loss: 0.0023\n",
            "Epoch 27/100\n",
            "32/32 [==============================] - 2s 57ms/step - loss: 0.0025\n",
            "Epoch 28/100\n",
            "32/32 [==============================] - 2s 57ms/step - loss: 0.0027\n",
            "Epoch 29/100\n",
            "32/32 [==============================] - 2s 59ms/step - loss: 0.0023\n",
            "Epoch 30/100\n",
            "32/32 [==============================] - 2s 56ms/step - loss: 0.0021\n",
            "Epoch 31/100\n",
            "32/32 [==============================] - 2s 56ms/step - loss: 0.0021\n",
            "Epoch 32/100\n",
            "32/32 [==============================] - 2s 59ms/step - loss: 0.0020\n",
            "Epoch 33/100\n",
            "32/32 [==============================] - 2s 59ms/step - loss: 0.0020\n",
            "Epoch 34/100\n",
            "32/32 [==============================] - 2s 58ms/step - loss: 0.0019\n",
            "Epoch 35/100\n",
            "32/32 [==============================] - 2s 58ms/step - loss: 0.0022\n",
            "Epoch 36/100\n",
            "32/32 [==============================] - 2s 60ms/step - loss: 0.0019\n",
            "Epoch 37/100\n",
            "32/32 [==============================] - 2s 58ms/step - loss: 0.0019\n",
            "Epoch 38/100\n",
            "32/32 [==============================] - 2s 56ms/step - loss: 0.0019\n",
            "Epoch 39/100\n",
            "32/32 [==============================] - 2s 55ms/step - loss: 0.0017\n",
            "Epoch 40/100\n",
            "32/32 [==============================] - 2s 57ms/step - loss: 0.0017\n",
            "Epoch 41/100\n",
            "32/32 [==============================] - 2s 57ms/step - loss: 0.0018\n",
            "Epoch 42/100\n",
            "32/32 [==============================] - 2s 58ms/step - loss: 0.0020\n",
            "Epoch 43/100\n",
            "32/32 [==============================] - 2s 54ms/step - loss: 0.0019\n",
            "Epoch 44/100\n",
            "32/32 [==============================] - 2s 58ms/step - loss: 0.0018\n",
            "Epoch 45/100\n",
            "32/32 [==============================] - 2s 57ms/step - loss: 0.0017\n",
            "Epoch 46/100\n",
            "32/32 [==============================] - 2s 57ms/step - loss: 0.0017\n",
            "Epoch 47/100\n",
            "32/32 [==============================] - 2s 57ms/step - loss: 0.0018\n",
            "Epoch 48/100\n",
            "32/32 [==============================] - 2s 56ms/step - loss: 0.0015\n",
            "Epoch 49/100\n",
            "32/32 [==============================] - 2s 57ms/step - loss: 0.0014\n",
            "Epoch 50/100\n",
            "32/32 [==============================] - 2s 57ms/step - loss: 0.0014\n",
            "Epoch 51/100\n",
            "32/32 [==============================] - 2s 57ms/step - loss: 0.0016\n",
            "Epoch 52/100\n",
            "32/32 [==============================] - 2s 60ms/step - loss: 0.0014\n",
            "Epoch 53/100\n",
            "32/32 [==============================] - 2s 58ms/step - loss: 0.0014\n",
            "Epoch 54/100\n",
            "32/32 [==============================] - 2s 58ms/step - loss: 0.0014\n",
            "Epoch 55/100\n",
            "32/32 [==============================] - 2s 56ms/step - loss: 0.0015\n",
            "Epoch 56/100\n",
            "32/32 [==============================] - 2s 57ms/step - loss: 0.0014\n",
            "Epoch 57/100\n",
            "32/32 [==============================] - 2s 57ms/step - loss: 0.0013\n",
            "Epoch 58/100\n",
            "32/32 [==============================] - 2s 58ms/step - loss: 0.0013\n",
            "Epoch 59/100\n",
            "32/32 [==============================] - 2s 58ms/step - loss: 0.0013\n",
            "Epoch 60/100\n",
            "32/32 [==============================] - 2s 59ms/step - loss: 0.0014\n",
            "Epoch 61/100\n",
            "32/32 [==============================] - 2s 59ms/step - loss: 0.0014\n",
            "Epoch 62/100\n",
            "32/32 [==============================] - 2s 56ms/step - loss: 0.0013\n",
            "Epoch 63/100\n",
            "32/32 [==============================] - 2s 57ms/step - loss: 0.0012\n",
            "Epoch 64/100\n",
            "32/32 [==============================] - 2s 58ms/step - loss: 0.0012\n",
            "Epoch 65/100\n",
            "32/32 [==============================] - 2s 57ms/step - loss: 0.0012\n",
            "Epoch 66/100\n",
            "32/32 [==============================] - 2s 59ms/step - loss: 0.0011\n",
            "Epoch 67/100\n",
            "32/32 [==============================] - 2s 56ms/step - loss: 0.0012\n",
            "Epoch 68/100\n",
            "32/32 [==============================] - 2s 57ms/step - loss: 0.0011\n",
            "Epoch 69/100\n",
            "32/32 [==============================] - 2s 58ms/step - loss: 0.0011\n",
            "Epoch 70/100\n",
            "32/32 [==============================] - 2s 58ms/step - loss: 0.0011\n",
            "Epoch 71/100\n",
            "32/32 [==============================] - 2s 60ms/step - loss: 0.0011\n",
            "Epoch 72/100\n",
            "32/32 [==============================] - 2s 57ms/step - loss: 0.0011\n",
            "Epoch 73/100\n",
            "32/32 [==============================] - 2s 58ms/step - loss: 0.0012\n",
            "Epoch 74/100\n",
            "32/32 [==============================] - 2s 57ms/step - loss: 0.0012\n",
            "Epoch 75/100\n",
            "32/32 [==============================] - 2s 59ms/step - loss: 0.0011\n",
            "Epoch 76/100\n",
            "32/32 [==============================] - 2s 61ms/step - loss: 0.0011\n",
            "Epoch 77/100\n",
            "32/32 [==============================] - 2s 56ms/step - loss: 0.0011\n",
            "Epoch 78/100\n",
            "32/32 [==============================] - 2s 59ms/step - loss: 0.0012\n",
            "Epoch 79/100\n",
            "32/32 [==============================] - 2s 55ms/step - loss: 0.0012\n",
            "Epoch 80/100\n",
            "32/32 [==============================] - 2s 59ms/step - loss: 0.0012\n",
            "Epoch 81/100\n",
            "32/32 [==============================] - 2s 59ms/step - loss: 0.0012\n",
            "Epoch 82/100\n",
            "32/32 [==============================] - 2s 57ms/step - loss: 0.0011\n",
            "Epoch 83/100\n",
            "32/32 [==============================] - 2s 55ms/step - loss: 0.0011\n",
            "Epoch 84/100\n",
            "32/32 [==============================] - 2s 57ms/step - loss: 0.0011\n",
            "Epoch 85/100\n",
            "32/32 [==============================] - 2s 58ms/step - loss: 0.0010\n",
            "Epoch 86/100\n",
            "32/32 [==============================] - 2s 56ms/step - loss: 0.0011\n",
            "Epoch 87/100\n",
            "32/32 [==============================] - 2s 58ms/step - loss: 0.0011\n",
            "Epoch 88/100\n",
            "32/32 [==============================] - 2s 59ms/step - loss: 0.0011\n",
            "Epoch 89/100\n",
            "32/32 [==============================] - 2s 58ms/step - loss: 0.0011\n",
            "Epoch 90/100\n",
            "32/32 [==============================] - 2s 59ms/step - loss: 0.0012\n",
            "Epoch 91/100\n",
            "32/32 [==============================] - 2s 61ms/step - loss: 0.0011\n",
            "Epoch 92/100\n",
            "32/32 [==============================] - 2s 61ms/step - loss: 0.0011\n",
            "Epoch 93/100\n",
            "32/32 [==============================] - 2s 56ms/step - loss: 0.0010\n",
            "Epoch 94/100\n",
            "32/32 [==============================] - 2s 56ms/step - loss: 0.0010\n",
            "Epoch 95/100\n",
            "32/32 [==============================] - 2s 57ms/step - loss: 0.0010\n",
            "Epoch 96/100\n",
            "32/32 [==============================] - 2s 57ms/step - loss: 9.7355e-04\n",
            "Epoch 97/100\n",
            "32/32 [==============================] - 2s 60ms/step - loss: 0.0011\n",
            "Epoch 98/100\n",
            "32/32 [==============================] - 2s 61ms/step - loss: 9.4772e-04\n",
            "Epoch 99/100\n",
            "32/32 [==============================] - 2s 57ms/step - loss: 0.0012\n",
            "Epoch 100/100\n",
            "32/32 [==============================] - 2s 58ms/step - loss: 9.1165e-04\n"
          ],
          "name": "stdout"
        },
        {
          "output_type": "execute_result",
          "data": {
            "text/plain": [
              "<tensorflow.python.keras.callbacks.History at 0x7f0d4ad17cf8>"
            ]
          },
          "metadata": {
            "tags": []
          },
          "execution_count": 206
        }
      ]
    },
    {
      "cell_type": "code",
      "metadata": {
        "id": "zMBz4Q63eKu9",
        "colab_type": "code",
        "colab": {}
      },
      "source": [
        "# Create the testing data set\n",
        "test_data = scaled_data[training_data_len - 60: , :]\n",
        "test_y = scaledCPrc_data[training_data_len-60:,:]\n",
        "# Create the data sets x_test and y_test\n",
        "x_test = []\n",
        "y_test = []\n",
        "\n",
        "for i in range(60, len(test_data)):\n",
        "  x_test.append(test_data[i-60:i, :])\n",
        "  y_test.append(train_y[i:i+1,:][0].tolist())\n",
        "\n",
        "print(len(test))"
      ],
      "execution_count": 0,
      "outputs": []
    },
    {
      "cell_type": "code",
      "metadata": {
        "id": "R8zY8JdFflgS",
        "colab_type": "code",
        "colab": {}
      },
      "source": [
        "# Convert the data into a np array\n",
        "x_test = np.array(x_test)\n",
        "\n",
        "# Reshape data into 3 dimensions ( num samples, timesteps, num features )\n",
        "x_test = np.reshape(x_test, (x_test.shape[0], x_test.shape[1], 33))"
      ],
      "execution_count": 0,
      "outputs": []
    },
    {
      "cell_type": "code",
      "metadata": {
        "id": "tyGEr_xjfm_n",
        "colab_type": "code",
        "colab": {}
      },
      "source": [
        "# Get the models predicted price values \n",
        "predictions = model.predict(x_test)\n",
        "\n",
        "# Inverse transform \n",
        "predictions = scalerCPrc.inverse_transform(predictions)\n"
      ],
      "execution_count": 0,
      "outputs": []
    },
    {
      "cell_type": "code",
      "metadata": {
        "id": "-aEJ2RyOfop3",
        "colab_type": "code",
        "outputId": "839ec772-bfde-42e8-e70c-3908c99ea41f",
        "colab": {
          "base_uri": "https://localhost:8080/",
          "height": 35
        }
      },
      "source": [
        "# Evaluate model with root mean square error (RMSE)\n",
        "rmse = np.sqrt(np.mean((predictions-y_test)**2))\n",
        "rmse"
      ],
      "execution_count": 125,
      "outputs": [
        {
          "output_type": "execute_result",
          "data": {
            "text/plain": [
              "878.2621720539609"
            ]
          },
          "metadata": {
            "tags": []
          },
          "execution_count": 125
        }
      ]
    },
    {
      "cell_type": "code",
      "metadata": {
        "id": "3cpsmjVBjF8_",
        "colab_type": "code",
        "outputId": "f946aefb-a6f2-4068-f5f4-374df03ad5e2",
        "colab": {
          "base_uri": "https://localhost:8080/",
          "height": 775
        }
      },
      "source": [
        "# Set up ploting dataset\n",
        "plotData = stocks.filter(['created_utc','AAPL_CPrc', 'AMZN_CPrc', 'BA_CPrc', 'SPY_CPrc', 'TSLA_CPrc'])\n",
        "plotData = plotData.set_index(\"created_utc\")\n",
        "print(plotData, type(plotData))\n",
        "\n",
        "# This is so it graphs nicely with dates \n",
        "AAPL = plotData[\"AAPL_CPrc\"]\n",
        "AAPL = AAPL.to_frame()\n",
        "AMZN = plotData[\"AMZN_CPrc\"]\n",
        "AMZN = AMZN.to_frame()\n",
        "BA = plotData[\"BA_CPrc\"]\n",
        "BA = BA.to_frame();\n",
        "SPY = plotData[\"SPY_CPrc\"]\n",
        "SPY = SPY.to_frame();\n",
        "TSLA = plotData[\"TSLA_CPrc\"]\n",
        "TSLA = TSLA.to_frame()\n",
        "\n",
        "appleTest = AAPL[0:training_data_len]\n",
        "amazonTest = AMZN[0:training_data_len]\n",
        "boeTest = BA[0:training_data_len]\n",
        "spyTest = SPY[0: training_data_len]\n",
        "teslaTest = TSLA[0: training_data_len]\n",
        "\n",
        "appleValid = AAPL[training_data_len:]\n",
        "amazonValid = AMZN[training_data_len:]\n",
        "boeValid = BA[training_data_len:]\n",
        "spyValid = SPY[training_data_len:]\n",
        "teslaValid = TSLA[training_data_len:]\n",
        "# print(appleValid)\n",
        "\n",
        "appleValid['Predictions'] = predictions[:,:1]\n",
        "amazonValid[\"Predictions\"] = predictions[:,1:2]\n",
        "boeValid['Predictions'] = predictions[:, 2:3]\n",
        "spyValid[\"Predictions\"] = predictions[:, 3:4]\n",
        "teslaValid[\"Predictions\"] = predictions[:, 4:5]\n",
        "print(len(appleValid), len(predictions))\n"
      ],
      "execution_count": 147,
      "outputs": [
        {
          "output_type": "stream",
          "text": [
            "             AAPL_CPrc  AMZN_CPrc  BA_CPrc  SPY_CPrc  TSLA_CPrc\n",
            "created_utc                                                    \n",
            "2017-01-03      116.15     753.66   156.97    225.24     216.99\n",
            "2017-01-04      116.02     757.18   158.62    226.58     226.99\n",
            "2017-01-05      116.61     780.45   158.71    226.40     226.75\n",
            "2017-01-06      117.91     795.99   159.10    227.21     229.01\n",
            "2017-01-09      118.99     796.92   158.32    226.46     231.25\n",
            "...                ...        ...      ...       ...        ...\n",
            "2019-10-25      246.58    1761.33   339.83    301.60     328.13\n",
            "2019-10-28      249.05    1777.08   340.88    303.30     327.71\n",
            "2019-10-29      243.29    1762.71   348.93    303.21     316.22\n",
            "2019-10-30      243.26    1779.99   346.06    304.14     315.01\n",
            "2019-10-31      248.76    1776.66   339.91    303.33     314.92\n",
            "\n",
            "[713 rows x 5 columns] <class 'pandas.core.frame.DataFrame'>\n",
            "142 142\n"
          ],
          "name": "stdout"
        },
        {
          "output_type": "stream",
          "text": [
            "/usr/local/lib/python3.6/dist-packages/ipykernel_launcher.py:30: SettingWithCopyWarning: \n",
            "A value is trying to be set on a copy of a slice from a DataFrame.\n",
            "Try using .loc[row_indexer,col_indexer] = value instead\n",
            "\n",
            "See the caveats in the documentation: https://pandas.pydata.org/pandas-docs/stable/user_guide/indexing.html#returning-a-view-versus-a-copy\n",
            "/usr/local/lib/python3.6/dist-packages/ipykernel_launcher.py:31: SettingWithCopyWarning: \n",
            "A value is trying to be set on a copy of a slice from a DataFrame.\n",
            "Try using .loc[row_indexer,col_indexer] = value instead\n",
            "\n",
            "See the caveats in the documentation: https://pandas.pydata.org/pandas-docs/stable/user_guide/indexing.html#returning-a-view-versus-a-copy\n",
            "/usr/local/lib/python3.6/dist-packages/ipykernel_launcher.py:32: SettingWithCopyWarning: \n",
            "A value is trying to be set on a copy of a slice from a DataFrame.\n",
            "Try using .loc[row_indexer,col_indexer] = value instead\n",
            "\n",
            "See the caveats in the documentation: https://pandas.pydata.org/pandas-docs/stable/user_guide/indexing.html#returning-a-view-versus-a-copy\n",
            "/usr/local/lib/python3.6/dist-packages/ipykernel_launcher.py:33: SettingWithCopyWarning: \n",
            "A value is trying to be set on a copy of a slice from a DataFrame.\n",
            "Try using .loc[row_indexer,col_indexer] = value instead\n",
            "\n",
            "See the caveats in the documentation: https://pandas.pydata.org/pandas-docs/stable/user_guide/indexing.html#returning-a-view-versus-a-copy\n",
            "/usr/local/lib/python3.6/dist-packages/ipykernel_launcher.py:34: SettingWithCopyWarning: \n",
            "A value is trying to be set on a copy of a slice from a DataFrame.\n",
            "Try using .loc[row_indexer,col_indexer] = value instead\n",
            "\n",
            "See the caveats in the documentation: https://pandas.pydata.org/pandas-docs/stable/user_guide/indexing.html#returning-a-view-versus-a-copy\n"
          ],
          "name": "stderr"
        }
      ]
    },
    {
      "cell_type": "code",
      "metadata": {
        "id": "T5YFXuL2jXN8",
        "colab_type": "code",
        "outputId": "696e8d9c-cf46-4e34-c348-3d52417c3a85",
        "colab": {
          "base_uri": "https://localhost:8080/",
          "height": 521
        }
      },
      "source": [
        "# Visualize data\n",
        "plt.figure(figsize=(16,8))\n",
        "plt.title('Model')\n",
        "plt.xlabel('Date', fontsize=18)\n",
        "plt.ylabel('Close Price USD ($)', fontsize=18)\n",
        "plt.plot(appleTest)\n",
        "plt.plot(appleValid)\n",
        "plt.plot(appleValid['Predictions'])\n",
        "# plt.plot(amazonTest)\n",
        "# plt.plot(amazonValid)\n",
        "# plt.plot(amazonValid['Predictions'])\n",
        "# plt.plot(boeTest)\n",
        "# plt.plot(boeValid)\n",
        "# plt.plot(boeValid['Predictions'])\n",
        "# plt.plot(spyTest)\n",
        "# plt.plot(spyValid)\n",
        "# plt.plot(spyValid['Predictions'])\n",
        "# plt.plot(teslaTest)\n",
        "# plt.plot(teslaValid)\n",
        "# plt.plot(teslaValid['Predictions'])\n",
        "plt.legend(['Train', 'Validation', 'Prediction'])\n",
        "plt.show()"
      ],
      "execution_count": 127,
      "outputs": [
        {
          "output_type": "display_data",
          "data": {
            "image/png": "[encoded data removed]",
            "text/plain": [
              "<Figure size 1152x576 with 1 Axes>"
            ]
          },
          "metadata": {
            "tags": [],
            "needs_background": "light"
          }
        }
      ]
    },
    {
      "cell_type": "code",
      "metadata": {
        "id": "3cbZiMQYmrbR",
        "colab_type": "code",
        "colab": {}
      },
      "source": [
        "# Lets train a model without reddit posts to see how it performs \n",
        "opening_prices = stocks.filter(['created_utc','AAPL_OPrc', 'AMZN_OPrc', 'BA_OPrc', 'SPY_OPrc', 'TSLA_OPrc'])\n",
        "opening_prices = opening_prices.set_index('created_utc')\n",
        "# PlotData contains closing prices "
      ],
      "execution_count": 0,
      "outputs": []
    },
    {
      "cell_type": "code",
      "metadata": {
        "id": "1T3BOippD7Bs",
        "colab_type": "code",
        "colab": {
          "base_uri": "https://localhost:8080/",
          "height": 269
        },
        "outputId": "8952f591-f01a-41f8-9642-360867aabb10"
      },
      "source": [
        "opening_dataset = opening_prices.values\n",
        "closing_dataset = plotData.values\n",
        "print(opening_dataset)\n",
        "print(closing_dataset)"
      ],
      "execution_count": 129,
      "outputs": [
        {
          "output_type": "stream",
          "text": [
            "[[ 115.8   758.    156.3   225.07  215.61]\n",
            " [ 115.8   758.39  157.78  225.64  214.3 ]\n",
            " [ 115.93  761.55  158.41  226.28  226.6 ]\n",
            " ...\n",
            " [ 248.97 1775.    340.15  303.03  319.99]\n",
            " [ 244.76 1760.1   346.63  303.43  313.  ]\n",
            " [ 247.2  1775.99  344.7   304.11  313.1 ]]\n",
            "[[ 116.15  753.66  156.97  225.24  216.99]\n",
            " [ 116.02  757.18  158.62  226.58  226.99]\n",
            " [ 116.61  780.45  158.71  226.4   226.75]\n",
            " ...\n",
            " [ 243.29 1762.71  348.93  303.21  316.22]\n",
            " [ 243.26 1779.99  346.06  304.14  315.01]\n",
            " [ 248.76 1776.66  339.91  303.33  314.92]]\n"
          ],
          "name": "stdout"
        }
      ]
    },
    {
      "cell_type": "code",
      "metadata": {
        "id": "h52vWQxYEqn1",
        "colab_type": "code",
        "colab": {}
      },
      "source": [
        "# set training set len\n",
        "train_data_len = math.ceil(len(opening_dataset) * 0.80) "
      ],
      "execution_count": 0,
      "outputs": []
    },
    {
      "cell_type": "code",
      "metadata": {
        "id": "Lt1W734XFBpD",
        "colab_type": "code",
        "colab": {}
      },
      "source": [
        "openScaler = MinMaxScaler(feature_range=(0,1))\n",
        "scaled_open_prices = openScaler.fit_transform(opening_dataset)"
      ],
      "execution_count": 0,
      "outputs": []
    },
    {
      "cell_type": "code",
      "metadata": {
        "id": "qOvvI5bmFLLE",
        "colab_type": "code",
        "colab": {}
      },
      "source": [
        "closeScaler = MinMaxScaler(feature_range=(0,1))\n",
        "scaled_close_prices = closeScaler.fit_transform(closing_dataset)"
      ],
      "execution_count": 0,
      "outputs": []
    },
    {
      "cell_type": "code",
      "metadata": {
        "id": "PkBSzN9dFVBn",
        "colab_type": "code",
        "colab": {
          "base_uri": "https://localhost:8080/",
          "height": 377
        },
        "outputId": "de7db11f-b372-4faa-ebf4-3c3a7d353bcd"
      },
      "source": [
        "o_train_data = scaled_open_prices[0:train_data_len, :]\n",
        "c_train_data = scaled_close_prices[0:train_data_len,:]\n",
        "print(o_train_data, len(o_train_data))\n",
        "c_train_data"
      ],
      "execution_count": 153,
      "outputs": [
        {
          "output_type": "stream",
          "text": [
            "[[0.00000000e+00 0.00000000e+00 0.00000000e+00 0.00000000e+00\n",
            "  1.68423621e-01]\n",
            " [0.00000000e+00 3.04152856e-04 5.10855683e-03 7.21153846e-03\n",
            "  1.62030259e-01]\n",
            " [9.76195840e-04 2.76857087e-03 7.28314521e-03 1.53087045e-02\n",
            "  2.22059541e-01]\n",
            " ...\n",
            " [2.75587595e-01 6.90247612e-01 6.56518588e-01 3.95242915e-01\n",
            "  7.49389946e-01]\n",
            " [2.78441090e-01 6.88282316e-01 6.62973318e-01 4.12196356e-01\n",
            "  7.85700342e-01]\n",
            " [2.63197417e-01 6.68364204e-01 6.60073867e-01 4.02327935e-01\n",
            "  7.87701318e-01]] 511\n"
          ],
          "name": "stdout"
        },
        {
          "output_type": "execute_result",
          "data": {
            "text/plain": [
              "array([[0.00097722, 0.        , 0.        , 0.        , 0.18453623],\n",
              "       [0.        , 0.00273749, 0.00581703, 0.01698352, 0.23307285],\n",
              "       [0.00443509, 0.02083447, 0.00613432, 0.01470215, 0.23190797],\n",
              "       ...,\n",
              "       [0.28399609, 0.70191702, 0.68972325, 0.42636248, 0.80570791],\n",
              "       [0.27264527, 0.68973831, 0.69074564, 0.42762991, 0.81682279],\n",
              "       [0.25543111, 0.67157911, 0.68179094, 0.40760456, 0.7544047 ]])"
            ]
          },
          "metadata": {
            "tags": []
          },
          "execution_count": 153
        }
      ]
    },
    {
      "cell_type": "code",
      "metadata": {
        "id": "GGIyaEwwFb5_",
        "colab_type": "code",
        "colab": {
          "base_uri": "https://localhost:8080/",
          "height": 71
        },
        "outputId": "237d975c-3f8c-41df-ed94-eeec1863b44f"
      },
      "source": [
        "o_x_train = []\n",
        "c_y_train = []\n",
        "print(len(o_x_train))\n",
        "\n",
        "for i in range(60, len(o_train_data)):\n",
        "  o_x_train.append(o_train_data[i-60:i, :])\n",
        "  c_y_train.append(c_train_data[i,:].tolist())\n",
        "  if(i<62):\n",
        "    print(c_train_data[i,:].tolist())\n"
      ],
      "execution_count": 134,
      "outputs": [
        {
          "output_type": "stream",
          "text": [
            "0\n",
            "[0.20972712921897307, 0.09540770696426493, 0.07407015688348317, 0.14005069708491735, 0.47959035091976887]\n",
            "[0.2077726828534916, 0.1033479799354513, 0.07012162876784778, 0.13307984790874539, 0.48211425520555273]\n"
          ],
          "name": "stdout"
        }
      ]
    },
    {
      "cell_type": "code",
      "metadata": {
        "id": "FhVJ3AoaGAqj",
        "colab_type": "code",
        "colab": {
          "base_uri": "https://localhost:8080/",
          "height": 35
        },
        "outputId": "e46c1d20-3e2d-4b09-e1ea-591842392c6b"
      },
      "source": [
        "x_train2, y_train2 = np.array(o_x_train), np.array(c_y_train)\n",
        "x_train2 = np.reshape(x_train2, (x_train2.shape[0], x_train2.shape[1], 5))\n",
        "x_train2.shape"
      ],
      "execution_count": 135,
      "outputs": [
        {
          "output_type": "execute_result",
          "data": {
            "text/plain": [
              "(511, 60, 5)"
            ]
          },
          "metadata": {
            "tags": []
          },
          "execution_count": 135
        }
      ]
    },
    {
      "cell_type": "code",
      "metadata": {
        "id": "NeOf2hP1HWn2",
        "colab_type": "code",
        "colab": {}
      },
      "source": [
        "# Declare the LSTM model architecture \n",
        "model2 = Sequential()\n",
        "\n",
        "# Add layers , input shape expected is (number of timesteps, number of features)\n",
        "model2.add(LSTM(75, return_sequences=True, input_shape=(x_train2.shape[1], 5)))\n",
        "model2.add(LSTM(50, return_sequences=False))\n",
        "model2.add(Dense(25))\n",
        "model2.add(Dense(5))"
      ],
      "execution_count": 0,
      "outputs": []
    },
    {
      "cell_type": "code",
      "metadata": {
        "id": "EZIWdGiTHpRP",
        "colab_type": "code",
        "colab": {}
      },
      "source": [
        "# Compile Model \n",
        "model2.compile(optimizer='adam', loss='mean_squared_error')"
      ],
      "execution_count": 0,
      "outputs": []
    },
    {
      "cell_type": "code",
      "metadata": {
        "id": "saqgNNGNHryQ",
        "colab_type": "code",
        "colab": {
          "base_uri": "https://localhost:8080/",
          "height": 1000
        },
        "outputId": "e58db65d-2779-43ae-c354-ebcfa834fa6c"
      },
      "source": [
        "# Train the model \n",
        "model2.fit(x_train2, y_train2, batch_size=16, epochs=100)"
      ],
      "execution_count": 138,
      "outputs": [
        {
          "output_type": "stream",
          "text": [
            "Epoch 1/100\n",
            "32/32 [==============================] - 2s 56ms/step - loss: 0.0495\n",
            "Epoch 2/100\n",
            "32/32 [==============================] - 2s 57ms/step - loss: 0.0082\n",
            "Epoch 3/100\n",
            "32/32 [==============================] - 2s 55ms/step - loss: 0.0062\n",
            "Epoch 4/100\n",
            "32/32 [==============================] - 2s 54ms/step - loss: 0.0055\n",
            "Epoch 5/100\n",
            "32/32 [==============================] - 2s 55ms/step - loss: 0.0053\n",
            "Epoch 6/100\n",
            "32/32 [==============================] - 2s 55ms/step - loss: 0.0054\n",
            "Epoch 7/100\n",
            "32/32 [==============================] - 2s 56ms/step - loss: 0.0045\n",
            "Epoch 8/100\n",
            "32/32 [==============================] - 2s 56ms/step - loss: 0.0042\n",
            "Epoch 9/100\n",
            "32/32 [==============================] - 2s 55ms/step - loss: 0.0040\n",
            "Epoch 10/100\n",
            "32/32 [==============================] - 2s 56ms/step - loss: 0.0040\n",
            "Epoch 11/100\n",
            "32/32 [==============================] - 2s 54ms/step - loss: 0.0039\n",
            "Epoch 12/100\n",
            "32/32 [==============================] - 2s 56ms/step - loss: 0.0035\n",
            "Epoch 13/100\n",
            "32/32 [==============================] - 2s 57ms/step - loss: 0.0036\n",
            "Epoch 14/100\n",
            "32/32 [==============================] - 2s 56ms/step - loss: 0.0034\n",
            "Epoch 15/100\n",
            "32/32 [==============================] - 2s 56ms/step - loss: 0.0034\n",
            "Epoch 16/100\n",
            "32/32 [==============================] - 2s 56ms/step - loss: 0.0035\n",
            "Epoch 17/100\n",
            "32/32 [==============================] - 2s 55ms/step - loss: 0.0033\n",
            "Epoch 18/100\n",
            "32/32 [==============================] - 2s 58ms/step - loss: 0.0030\n",
            "Epoch 19/100\n",
            "32/32 [==============================] - 2s 57ms/step - loss: 0.0031\n",
            "Epoch 20/100\n",
            "32/32 [==============================] - 2s 54ms/step - loss: 0.0031\n",
            "Epoch 21/100\n",
            "32/32 [==============================] - 2s 55ms/step - loss: 0.0030\n",
            "Epoch 22/100\n",
            "32/32 [==============================] - 2s 55ms/step - loss: 0.0028\n",
            "Epoch 23/100\n",
            "32/32 [==============================] - 2s 57ms/step - loss: 0.0028\n",
            "Epoch 24/100\n",
            "32/32 [==============================] - 2s 59ms/step - loss: 0.0030\n",
            "Epoch 25/100\n",
            "32/32 [==============================] - 2s 57ms/step - loss: 0.0029\n",
            "Epoch 26/100\n",
            "32/32 [==============================] - 2s 57ms/step - loss: 0.0028\n",
            "Epoch 27/100\n",
            "32/32 [==============================] - 2s 58ms/step - loss: 0.0028\n",
            "Epoch 28/100\n",
            "32/32 [==============================] - 2s 54ms/step - loss: 0.0027\n",
            "Epoch 29/100\n",
            "32/32 [==============================] - 2s 57ms/step - loss: 0.0025\n",
            "Epoch 30/100\n",
            "32/32 [==============================] - 2s 58ms/step - loss: 0.0025\n",
            "Epoch 31/100\n",
            "32/32 [==============================] - 2s 57ms/step - loss: 0.0024\n",
            "Epoch 32/100\n",
            "32/32 [==============================] - 2s 56ms/step - loss: 0.0025\n",
            "Epoch 33/100\n",
            "32/32 [==============================] - 2s 56ms/step - loss: 0.0026\n",
            "Epoch 34/100\n",
            "32/32 [==============================] - 2s 57ms/step - loss: 0.0026\n",
            "Epoch 35/100\n",
            "32/32 [==============================] - 2s 56ms/step - loss: 0.0026\n",
            "Epoch 36/100\n",
            "32/32 [==============================] - 2s 57ms/step - loss: 0.0023\n",
            "Epoch 37/100\n",
            "32/32 [==============================] - 2s 57ms/step - loss: 0.0024\n",
            "Epoch 38/100\n",
            "32/32 [==============================] - 2s 56ms/step - loss: 0.0022\n",
            "Epoch 39/100\n",
            "32/32 [==============================] - 2s 57ms/step - loss: 0.0025\n",
            "Epoch 40/100\n",
            "32/32 [==============================] - 2s 59ms/step - loss: 0.0022\n",
            "Epoch 41/100\n",
            "32/32 [==============================] - 2s 56ms/step - loss: 0.0022\n",
            "Epoch 42/100\n",
            "32/32 [==============================] - 2s 55ms/step - loss: 0.0020\n",
            "Epoch 43/100\n",
            "32/32 [==============================] - 2s 57ms/step - loss: 0.0023\n",
            "Epoch 44/100\n",
            "32/32 [==============================] - 2s 57ms/step - loss: 0.0021\n",
            "Epoch 45/100\n",
            "32/32 [==============================] - 2s 59ms/step - loss: 0.0021\n",
            "Epoch 46/100\n",
            "32/32 [==============================] - 2s 57ms/step - loss: 0.0020\n",
            "Epoch 47/100\n",
            "32/32 [==============================] - 2s 58ms/step - loss: 0.0019\n",
            "Epoch 48/100\n",
            "32/32 [==============================] - 2s 58ms/step - loss: 0.0019\n",
            "Epoch 49/100\n",
            "32/32 [==============================] - 2s 56ms/step - loss: 0.0020\n",
            "Epoch 50/100\n",
            "32/32 [==============================] - 2s 55ms/step - loss: 0.0021\n",
            "Epoch 51/100\n",
            "32/32 [==============================] - 2s 57ms/step - loss: 0.0020\n",
            "Epoch 52/100\n",
            "32/32 [==============================] - 2s 57ms/step - loss: 0.0019\n",
            "Epoch 53/100\n",
            "32/32 [==============================] - 2s 56ms/step - loss: 0.0019\n",
            "Epoch 54/100\n",
            "32/32 [==============================] - 2s 56ms/step - loss: 0.0018\n",
            "Epoch 55/100\n",
            "32/32 [==============================] - 2s 57ms/step - loss: 0.0019\n",
            "Epoch 56/100\n",
            "32/32 [==============================] - 2s 57ms/step - loss: 0.0019\n",
            "Epoch 57/100\n",
            "32/32 [==============================] - 2s 56ms/step - loss: 0.0019\n",
            "Epoch 58/100\n",
            "32/32 [==============================] - 2s 57ms/step - loss: 0.0019\n",
            "Epoch 59/100\n",
            "32/32 [==============================] - 2s 57ms/step - loss: 0.0017\n",
            "Epoch 60/100\n",
            "32/32 [==============================] - 2s 56ms/step - loss: 0.0018\n",
            "Epoch 61/100\n",
            "32/32 [==============================] - 2s 55ms/step - loss: 0.0018\n",
            "Epoch 62/100\n",
            "32/32 [==============================] - 2s 58ms/step - loss: 0.0019\n",
            "Epoch 63/100\n",
            "32/32 [==============================] - 2s 55ms/step - loss: 0.0017\n",
            "Epoch 64/100\n",
            "32/32 [==============================] - 2s 57ms/step - loss: 0.0017\n",
            "Epoch 65/100\n",
            "32/32 [==============================] - 2s 56ms/step - loss: 0.0017\n",
            "Epoch 66/100\n",
            "32/32 [==============================] - 2s 58ms/step - loss: 0.0016\n",
            "Epoch 67/100\n",
            "32/32 [==============================] - 2s 57ms/step - loss: 0.0017\n",
            "Epoch 68/100\n",
            "32/32 [==============================] - 2s 59ms/step - loss: 0.0017\n",
            "Epoch 69/100\n",
            "32/32 [==============================] - 2s 56ms/step - loss: 0.0019\n",
            "Epoch 70/100\n",
            "32/32 [==============================] - 2s 56ms/step - loss: 0.0017\n",
            "Epoch 71/100\n",
            "32/32 [==============================] - 2s 57ms/step - loss: 0.0016\n",
            "Epoch 72/100\n",
            "32/32 [==============================] - 2s 56ms/step - loss: 0.0016\n",
            "Epoch 73/100\n",
            "32/32 [==============================] - 2s 59ms/step - loss: 0.0016\n",
            "Epoch 74/100\n",
            "32/32 [==============================] - 2s 56ms/step - loss: 0.0018\n",
            "Epoch 75/100\n",
            "32/32 [==============================] - 2s 57ms/step - loss: 0.0015\n",
            "Epoch 76/100\n",
            "32/32 [==============================] - 2s 57ms/step - loss: 0.0016\n",
            "Epoch 77/100\n",
            "32/32 [==============================] - 2s 56ms/step - loss: 0.0016\n",
            "Epoch 78/100\n",
            "32/32 [==============================] - 2s 57ms/step - loss: 0.0016\n",
            "Epoch 79/100\n",
            "32/32 [==============================] - 2s 57ms/step - loss: 0.0016\n",
            "Epoch 80/100\n",
            "32/32 [==============================] - 2s 56ms/step - loss: 0.0015\n",
            "Epoch 81/100\n",
            "32/32 [==============================] - 2s 55ms/step - loss: 0.0018\n",
            "Epoch 82/100\n",
            "32/32 [==============================] - 2s 59ms/step - loss: 0.0016\n",
            "Epoch 83/100\n",
            "32/32 [==============================] - 2s 59ms/step - loss: 0.0015\n",
            "Epoch 84/100\n",
            "32/32 [==============================] - 2s 58ms/step - loss: 0.0014\n",
            "Epoch 85/100\n",
            "32/32 [==============================] - 2s 59ms/step - loss: 0.0013\n",
            "Epoch 86/100\n",
            "32/32 [==============================] - 2s 58ms/step - loss: 0.0016\n",
            "Epoch 87/100\n",
            "32/32 [==============================] - 2s 58ms/step - loss: 0.0014\n",
            "Epoch 88/100\n",
            "32/32 [==============================] - 2s 57ms/step - loss: 0.0014\n",
            "Epoch 89/100\n",
            "32/32 [==============================] - 2s 60ms/step - loss: 0.0014\n",
            "Epoch 90/100\n",
            "32/32 [==============================] - 2s 59ms/step - loss: 0.0015\n",
            "Epoch 91/100\n",
            "32/32 [==============================] - 2s 56ms/step - loss: 0.0015\n",
            "Epoch 92/100\n",
            "32/32 [==============================] - 2s 59ms/step - loss: 0.0013\n",
            "Epoch 93/100\n",
            "32/32 [==============================] - 2s 56ms/step - loss: 0.0013\n",
            "Epoch 94/100\n",
            "32/32 [==============================] - 2s 59ms/step - loss: 0.0013\n",
            "Epoch 95/100\n",
            "32/32 [==============================] - 2s 57ms/step - loss: 0.0013\n",
            "Epoch 96/100\n",
            "32/32 [==============================] - 2s 56ms/step - loss: 0.0013\n",
            "Epoch 97/100\n",
            "32/32 [==============================] - 2s 58ms/step - loss: 0.0012\n",
            "Epoch 98/100\n",
            "32/32 [==============================] - 2s 57ms/step - loss: 0.0012\n",
            "Epoch 99/100\n",
            "32/32 [==============================] - 2s 56ms/step - loss: 0.0014\n",
            "Epoch 100/100\n",
            "32/32 [==============================] - 2s 57ms/step - loss: 0.0013\n"
          ],
          "name": "stdout"
        },
        {
          "output_type": "execute_result",
          "data": {
            "text/plain": [
              "<tensorflow.python.keras.callbacks.History at 0x7f0d4d244160>"
            ]
          },
          "metadata": {
            "tags": []
          },
          "execution_count": 138
        }
      ]
    },
    {
      "cell_type": "code",
      "metadata": {
        "id": "KiEpTH7MHvOQ",
        "colab_type": "code",
        "colab": {
          "base_uri": "https://localhost:8080/",
          "height": 71
        },
        "outputId": "0a3ad96e-35be-4191-9dd2-334c1b9c2fab"
      },
      "source": [
        "x_test_data = scaled_open_prices[train_data_len - 60:, :]\n",
        "y_test_data = scaled_close_prices[train_data_len - 60:, :]\n",
        "print(len(scaled_open_prices))\n",
        "print(train_data_len)\n",
        "# print(train_data_len)\n",
        "# print(len(x_test_data))\n",
        "x_test2 = []\n",
        "y_test2 = []\n",
        "for i in range(60, len(x_test_data)):\n",
        "  x_test2.append(x_test_data[i-60:i, :])\n",
        "  y_test2.append(y_test_data[i:i+1,:][0].tolist())\n",
        "print(len(x_test2))"
      ],
      "execution_count": 155,
      "outputs": [
        {
          "output_type": "stream",
          "text": [
            "713\n",
            "571\n",
            "142\n"
          ],
          "name": "stdout"
        }
      ]
    },
    {
      "cell_type": "code",
      "metadata": {
        "id": "t4n2owTSJ4LM",
        "colab_type": "code",
        "colab": {}
      },
      "source": [
        "x_test2 = np.array(x_test2)"
      ],
      "execution_count": 0,
      "outputs": []
    },
    {
      "cell_type": "code",
      "metadata": {
        "id": "yOkonKz3K90T",
        "colab_type": "code",
        "colab": {}
      },
      "source": [
        "x_test2 = np.reshape(x_test2, (x_test2.shape[0], x_test2.shape[1], 5))"
      ],
      "execution_count": 0,
      "outputs": []
    },
    {
      "cell_type": "code",
      "metadata": {
        "id": "lq3alJAILFJ1",
        "colab_type": "code",
        "colab": {}
      },
      "source": [
        "# Get the models predicted price values \n",
        "predictions2 = model2.predict(x_test2)\n",
        "\n",
        "# Inverse transform \n",
        "predictions2 = closeScaler.inverse_transform(predictions2)"
      ],
      "execution_count": 0,
      "outputs": []
    },
    {
      "cell_type": "code",
      "metadata": {
        "id": "X5DZ7yM9LK3b",
        "colab_type": "code",
        "colab": {
          "base_uri": "https://localhost:8080/",
          "height": 35
        },
        "outputId": "1dd9ca87-9d2b-4990-9f81-b2c243c2ef12"
      },
      "source": [
        "# Evaluate model with root mean square error (RMSE)\n",
        "rmse2 = np.sqrt(np.mean((predictions2-y_test2)**2))\n",
        "rmse2"
      ],
      "execution_count": 159,
      "outputs": [
        {
          "output_type": "execute_result",
          "data": {
            "text/plain": [
              "859.9505340314873"
            ]
          },
          "metadata": {
            "tags": []
          },
          "execution_count": 159
        }
      ]
    },
    {
      "cell_type": "code",
      "metadata": {
        "id": "fOvweIEXLQu7",
        "colab_type": "code",
        "colab": {
          "base_uri": "https://localhost:8080/",
          "height": 595
        },
        "outputId": "4116cabb-feee-483c-b8c5-874503dba023"
      },
      "source": [
        "\n",
        "print(len(appleValid), len(predictions2))\n",
        "appleValid['Predictions2'] = predictions2[:,:1]\n",
        "amazonValid[\"Predictions2\"] = predictions2[:,1:2]\n",
        "boeValid['Predictions2'] = predictions2[:, 2:3]\n",
        "spyValid[\"Predictions2\"] = predictions2[:, 3:4]\n",
        "teslaValid[\"Predictions2\"] = predictions2[:, 4:5]"
      ],
      "execution_count": 161,
      "outputs": [
        {
          "output_type": "stream",
          "text": [
            "142 142\n"
          ],
          "name": "stdout"
        },
        {
          "output_type": "stream",
          "text": [
            "/usr/local/lib/python3.6/dist-packages/ipykernel_launcher.py:3: SettingWithCopyWarning: \n",
            "A value is trying to be set on a copy of a slice from a DataFrame.\n",
            "Try using .loc[row_indexer,col_indexer] = value instead\n",
            "\n",
            "See the caveats in the documentation: https://pandas.pydata.org/pandas-docs/stable/user_guide/indexing.html#returning-a-view-versus-a-copy\n",
            "  This is separate from the ipykernel package so we can avoid doing imports until\n",
            "/usr/local/lib/python3.6/dist-packages/ipykernel_launcher.py:4: SettingWithCopyWarning: \n",
            "A value is trying to be set on a copy of a slice from a DataFrame.\n",
            "Try using .loc[row_indexer,col_indexer] = value instead\n",
            "\n",
            "See the caveats in the documentation: https://pandas.pydata.org/pandas-docs/stable/user_guide/indexing.html#returning-a-view-versus-a-copy\n",
            "  after removing the cwd from sys.path.\n",
            "/usr/local/lib/python3.6/dist-packages/ipykernel_launcher.py:5: SettingWithCopyWarning: \n",
            "A value is trying to be set on a copy of a slice from a DataFrame.\n",
            "Try using .loc[row_indexer,col_indexer] = value instead\n",
            "\n",
            "See the caveats in the documentation: https://pandas.pydata.org/pandas-docs/stable/user_guide/indexing.html#returning-a-view-versus-a-copy\n",
            "  \"\"\"\n",
            "/usr/local/lib/python3.6/dist-packages/ipykernel_launcher.py:6: SettingWithCopyWarning: \n",
            "A value is trying to be set on a copy of a slice from a DataFrame.\n",
            "Try using .loc[row_indexer,col_indexer] = value instead\n",
            "\n",
            "See the caveats in the documentation: https://pandas.pydata.org/pandas-docs/stable/user_guide/indexing.html#returning-a-view-versus-a-copy\n",
            "  \n",
            "/usr/local/lib/python3.6/dist-packages/ipykernel_launcher.py:7: SettingWithCopyWarning: \n",
            "A value is trying to be set on a copy of a slice from a DataFrame.\n",
            "Try using .loc[row_indexer,col_indexer] = value instead\n",
            "\n",
            "See the caveats in the documentation: https://pandas.pydata.org/pandas-docs/stable/user_guide/indexing.html#returning-a-view-versus-a-copy\n",
            "  import sys\n"
          ],
          "name": "stderr"
        }
      ]
    },
    {
      "cell_type": "code",
      "metadata": {
        "id": "ZNUeklyYLSkz",
        "colab_type": "code",
        "colab": {
          "base_uri": "https://localhost:8080/",
          "height": 536
        },
        "outputId": "42a7a929-8a9e-45fc-e638-35e3fba2e5b6"
      },
      "source": [
        "# Visualize data\n",
        "plt.figure(figsize=(16,8))\n",
        "plt.title('Stock Prediction with and without Reddit word vector data \\n (TSLA)')\n",
        "plt.xlabel('Date', fontsize=18)\n",
        "plt.ylabel('Close Price USD ($)', fontsize=18)\n",
        "# plt.plot(appleTest)\n",
        "# plt.plot(appleValid)\n",
        "# plt.plot(appleValid['Predictions'], color='red')\n",
        "# plt.plot(appleValid['Predictions2'], color='green')\n",
        "# plt.plot(amazonTest)\n",
        "# plt.plot(amazonValid)\n",
        "# plt.plot(amazonValid['Predictions'], color='red')\n",
        "# plt.plot(amazonValid['Predictions2'], color='green')\n",
        "# plt.plot(boeTest)\n",
        "# plt.plot(boeValid)\n",
        "# plt.plot(boeValid['Predictions'], color='red')\n",
        "# plt.plot(boeValid['Predictions2'], color='green')\n",
        "# plt.plot(spyTest, label='Train')\n",
        "# plt.plot(spyValid, label='Actual')\n",
        "# plt.plot(spyValid['Predictions'], label='Prediction with vector', color='red')\n",
        "# plt.plot(spyValid['Predictions2'], label='Prediction without vector', color='green')\n",
        "\n",
        "plt.plot(teslaTest, label='Train')\n",
        "plt.plot(teslaValid, label=\"Actual\")\n",
        "plt.plot(teslaValid['Predictions'], label=\"vector prediction\", color='red')\n",
        "plt.plot(teslaValid['Predictions2'], label=\"without vector prediction\", color=\"green\")\n",
        "plt.legend(('Train', 'Validation', 'Prediction with vector', 'Prediction without'), title=\"Legend\",)\n",
        "plt.show()"
      ],
      "execution_count": 193,
      "outputs": [
        {
          "output_type": "display_data",
          "data": {
            "image/png": "[encoded data removed]",
            "text/plain": [
              "<Figure size 1152x576 with 1 Axes>"
            ]
          },
          "metadata": {
            "tags": [],
            "needs_background": "light"
          }
        }
      ]
    },
    {
      "cell_type": "code",
      "metadata": {
        "id": "SlhPAN6yPPI2",
        "colab_type": "code",
        "colab": {}
      },
      "source": [
        ""
      ],
      "execution_count": 0,
      "outputs": []
    }
  ]
}