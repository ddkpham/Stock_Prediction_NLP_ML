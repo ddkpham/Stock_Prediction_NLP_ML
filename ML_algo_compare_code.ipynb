{
  "nbformat": 4,
  "nbformat_minor": 0,
  "metadata": {
    "colab": {
      "name": "ML algo compare - code",
      "provenance": [],
      "collapsed_sections": [],
      "toc_visible": true,
      "include_colab_link": true
    },
    "kernelspec": {
      "name": "python3",
      "display_name": "Python 3"
    },
    "accelerator": "GPU"
  },
  "cells": [
    {
      "cell_type": "markdown",
      "metadata": {
        "id": "view-in-github",
        "colab_type": "text"
      },
      "source": [
        "<a href=\"https://colab.research.google.com/github/alik604/CMPT-419/blob/master/ML_algo_compare_code.ipynb\" target=\"_parent\"><img src=\"https://colab.research.google.com/assets/colab-badge.svg\" alt=\"Open In Colab\"/></a>"
      ]
    },
    {
      "cell_type": "code",
      "metadata": {
        "id": "G8bFiuchPYim",
        "colab_type": "code",
        "colab": {
          "base_uri": "https://localhost:8080/",
          "height": 425
        },
        "outputId": "8f477d43-9ebf-44df-e266-d2265230bbf4"
      },
      "source": [
        "# Importing the libraries\n",
        "import math\n",
        "import datetime\n",
        "import numpy as np\n",
        "import pandas as pd\n",
        "from sklearn.preprocessing import MinMaxScaler\n",
        "from sklearn.metrics import mean_squared_error\n",
        "from tensorflow.keras.models import Sequential \n",
        "from tensorflow.keras.layers import Dense, LSTM\n",
        "\n",
        "import matplotlib.pyplot as plt   # Import matplotlib\n",
        "\n",
        "%matplotlib inline\n",
        "\n",
        "from IPython.core.interactiveshell import InteractiveShell\n",
        "InteractiveShell.ast_node_interactivity = \"all\"\n",
        "\n",
        "\n",
        "!pip install fastparquet\n"
      ],
      "execution_count": 1,
      "outputs": [
        {
          "output_type": "stream",
          "text": [
            "Collecting fastparquet\n",
            "\u001b[?25l  Downloading https://files.pythonhosted.org/packages/5f/92/8135e08d0fd97b219e00a258c31ca95cf3cc1e654dff0a2859acf4c34d2b/fastparquet-0.3.3.tar.gz (152kB)\n",
            "\r\u001b[K     |██▏                             | 10kB 16.5MB/s eta 0:00:01\r\u001b[K     |████▎                           | 20kB 1.8MB/s eta 0:00:01\r\u001b[K     |██████▌                         | 30kB 2.6MB/s eta 0:00:01\r\u001b[K     |████████▋                       | 40kB 3.4MB/s eta 0:00:01\r\u001b[K     |██████████▊                     | 51kB 2.1MB/s eta 0:00:01\r\u001b[K     |█████████████                   | 61kB 2.5MB/s eta 0:00:01\r\u001b[K     |███████████████                 | 71kB 2.9MB/s eta 0:00:01\r\u001b[K     |█████████████████▏              | 81kB 3.3MB/s eta 0:00:01\r\u001b[K     |███████████████████▍            | 92kB 2.5MB/s eta 0:00:01\r\u001b[K     |█████████████████████▌          | 102kB 2.8MB/s eta 0:00:01\r\u001b[K     |███████████████████████▋        | 112kB 2.8MB/s eta 0:00:01\r\u001b[K     |█████████████████████████▉      | 122kB 2.8MB/s eta 0:00:01\r\u001b[K     |████████████████████████████    | 133kB 2.8MB/s eta 0:00:01\r\u001b[K     |██████████████████████████████  | 143kB 2.8MB/s eta 0:00:01\r\u001b[K     |████████████████████████████████| 153kB 2.8MB/s \n",
            "\u001b[?25hRequirement already satisfied: pandas>=0.19 in /usr/local/lib/python3.6/dist-packages (from fastparquet) (1.0.3)\n",
            "Requirement already satisfied: numba>=0.28 in /usr/local/lib/python3.6/dist-packages (from fastparquet) (0.48.0)\n",
            "Requirement already satisfied: numpy>=1.11 in /usr/local/lib/python3.6/dist-packages (from fastparquet) (1.18.2)\n",
            "Collecting thrift>=0.11.0\n",
            "\u001b[?25l  Downloading https://files.pythonhosted.org/packages/97/1e/3284d19d7be99305eda145b8aa46b0c33244e4a496ec66440dac19f8274d/thrift-0.13.0.tar.gz (59kB)\n",
            "\u001b[K     |████████████████████████████████| 61kB 7.8MB/s \n",
            "\u001b[?25hRequirement already satisfied: six in /usr/local/lib/python3.6/dist-packages (from fastparquet) (1.12.0)\n",
            "Requirement already satisfied: python-dateutil>=2.6.1 in /usr/local/lib/python3.6/dist-packages (from pandas>=0.19->fastparquet) (2.8.1)\n",
            "Requirement already satisfied: pytz>=2017.2 in /usr/local/lib/python3.6/dist-packages (from pandas>=0.19->fastparquet) (2018.9)\n",
            "Requirement already satisfied: llvmlite<0.32.0,>=0.31.0dev0 in /usr/local/lib/python3.6/dist-packages (from numba>=0.28->fastparquet) (0.31.0)\n",
            "Requirement already satisfied: setuptools in /usr/local/lib/python3.6/dist-packages (from numba>=0.28->fastparquet) (46.1.3)\n",
            "Building wheels for collected packages: fastparquet, thrift\n",
            "  Building wheel for fastparquet (setup.py) ... \u001b[?25l\u001b[?25hdone\n",
            "  Created wheel for fastparquet: filename=fastparquet-0.3.3-cp36-cp36m-linux_x86_64.whl size=253672 sha256=04f7db02fe3d295838b3242c6c9ed9fe0d2295188c84abe0a8c2dbbc20440985\n",
            "  Stored in directory: /root/.cache/pip/wheels/a0/27/9f/d8066bbbbb77e97d8ad3daf4de155ead73693bc4aa2f52098c\n",
            "  Building wheel for thrift (setup.py) ... \u001b[?25l\u001b[?25hdone\n",
            "  Created wheel for thrift: filename=thrift-0.13.0-cp36-cp36m-linux_x86_64.whl size=345228 sha256=aaae5b5abd0d6812e05ebd268980adef3b7b4d7dccd4000868522fb9e1fbf1e1\n",
            "  Stored in directory: /root/.cache/pip/wheels/02/a2/46/689ccfcf40155c23edc7cdbd9de488611c8fdf49ff34b1706e\n",
            "Successfully built fastparquet thrift\n",
            "Installing collected packages: thrift, fastparquet\n",
            "Successfully installed fastparquet-0.3.3 thrift-0.13.0\n"
          ],
          "name": "stdout"
        }
      ]
    },
    {
      "cell_type": "code",
      "metadata": {
        "id": "xPWTBBefIaxi",
        "colab_type": "code",
        "outputId": "14e46286-e63a-4159-ead9-6bba7630bcb7",
        "colab": {
          "base_uri": "https://localhost:8080/",
          "height": 419
        }
      },
      "source": [
        "dataset = pd.read_parquet('https://github.com/ddkpham/Stock_Prediction_NLP_ML/blob/master/wsb.hourly.joined.parquet.gz?raw=true', engine=\"fastparquet\")\n",
        "# dataset = data.set_index('created_utc')\n",
        "dataset = dataset.iloc[:,29:]\n",
        "\n",
        "dataset"
      ],
      "execution_count": 87,
      "outputs": [
        {
          "output_type": "execute_result",
          "data": {
            "text/html": [
              "<div>\n",
              "<style scoped>\n",
              "    .dataframe tbody tr th:only-of-type {\n",
              "        vertical-align: middle;\n",
              "    }\n",
              "\n",
              "    .dataframe tbody tr th {\n",
              "        vertical-align: top;\n",
              "    }\n",
              "\n",
              "    .dataframe thead th {\n",
              "        text-align: right;\n",
              "    }\n",
              "</style>\n",
              "<table border=\"1\" class=\"dataframe\">\n",
              "  <thead>\n",
              "    <tr style=\"text-align: right;\">\n",
              "      <th></th>\n",
              "      <th>AAPL_StockPrice</th>\n",
              "      <th>AMZN_StockPrice</th>\n",
              "      <th>BA_StockPrice</th>\n",
              "      <th>SPY_StockPrice</th>\n",
              "      <th>TSLA_StockPrice</th>\n",
              "    </tr>\n",
              "  </thead>\n",
              "  <tbody>\n",
              "    <tr>\n",
              "      <th>0</th>\n",
              "      <td>116.01</td>\n",
              "      <td>757.76</td>\n",
              "      <td>155.68</td>\n",
              "      <td>224.86</td>\n",
              "      <td>214.3</td>\n",
              "    </tr>\n",
              "    <tr>\n",
              "      <th>1</th>\n",
              "      <td>116.01</td>\n",
              "      <td>757.76</td>\n",
              "      <td>155.68</td>\n",
              "      <td>224.86</td>\n",
              "      <td>214.3</td>\n",
              "    </tr>\n",
              "    <tr>\n",
              "      <th>2</th>\n",
              "      <td>116.01</td>\n",
              "      <td>757.76</td>\n",
              "      <td>155.68</td>\n",
              "      <td>224.86</td>\n",
              "      <td>214.3</td>\n",
              "    </tr>\n",
              "    <tr>\n",
              "      <th>3</th>\n",
              "      <td>116.01</td>\n",
              "      <td>757.76</td>\n",
              "      <td>155.68</td>\n",
              "      <td>224.86</td>\n",
              "      <td>214.3</td>\n",
              "    </tr>\n",
              "    <tr>\n",
              "      <th>4</th>\n",
              "      <td>116.01</td>\n",
              "      <td>757.76</td>\n",
              "      <td>155.68</td>\n",
              "      <td>224.86</td>\n",
              "      <td>214.3</td>\n",
              "    </tr>\n",
              "    <tr>\n",
              "      <th>...</th>\n",
              "      <td>...</td>\n",
              "      <td>...</td>\n",
              "      <td>...</td>\n",
              "      <td>...</td>\n",
              "      <td>...</td>\n",
              "    </tr>\n",
              "    <tr>\n",
              "      <th>17017</th>\n",
              "      <td>248.56</td>\n",
              "      <td>1776.99</td>\n",
              "      <td>340.09</td>\n",
              "      <td>303.20</td>\n",
              "      <td>314.6</td>\n",
              "    </tr>\n",
              "    <tr>\n",
              "      <th>17018</th>\n",
              "      <td>248.56</td>\n",
              "      <td>1776.99</td>\n",
              "      <td>340.09</td>\n",
              "      <td>303.33</td>\n",
              "      <td>314.6</td>\n",
              "    </tr>\n",
              "    <tr>\n",
              "      <th>17019</th>\n",
              "      <td>248.56</td>\n",
              "      <td>1776.99</td>\n",
              "      <td>340.09</td>\n",
              "      <td>303.33</td>\n",
              "      <td>314.6</td>\n",
              "    </tr>\n",
              "    <tr>\n",
              "      <th>17020</th>\n",
              "      <td>248.56</td>\n",
              "      <td>1776.99</td>\n",
              "      <td>340.09</td>\n",
              "      <td>303.33</td>\n",
              "      <td>314.6</td>\n",
              "    </tr>\n",
              "    <tr>\n",
              "      <th>17021</th>\n",
              "      <td>248.56</td>\n",
              "      <td>1776.99</td>\n",
              "      <td>340.09</td>\n",
              "      <td>303.33</td>\n",
              "      <td>314.6</td>\n",
              "    </tr>\n",
              "  </tbody>\n",
              "</table>\n",
              "<p>17022 rows × 5 columns</p>\n",
              "</div>"
            ],
            "text/plain": [
              "       AAPL_StockPrice  AMZN_StockPrice  ...  SPY_StockPrice  TSLA_StockPrice\n",
              "0               116.01           757.76  ...          224.86            214.3\n",
              "1               116.01           757.76  ...          224.86            214.3\n",
              "2               116.01           757.76  ...          224.86            214.3\n",
              "3               116.01           757.76  ...          224.86            214.3\n",
              "4               116.01           757.76  ...          224.86            214.3\n",
              "...                ...              ...  ...             ...              ...\n",
              "17017           248.56          1776.99  ...          303.20            314.6\n",
              "17018           248.56          1776.99  ...          303.33            314.6\n",
              "17019           248.56          1776.99  ...          303.33            314.6\n",
              "17020           248.56          1776.99  ...          303.33            314.6\n",
              "17021           248.56          1776.99  ...          303.33            314.6\n",
              "\n",
              "[17022 rows x 5 columns]"
            ]
          },
          "metadata": {
            "tags": []
          },
          "execution_count": 87
        }
      ]
    },
    {
      "cell_type": "code",
      "metadata": {
        "id": "fO0G7gxnQA5l",
        "colab_type": "code",
        "outputId": "2fdcdd3b-f527-4d91-edcd-a192a00907a5",
        "colab": {
          "base_uri": "https://localhost:8080/",
          "height": 419
        }
      },
      "source": [
        "opening_dataset = dataset.SPY_StockPrice\n",
        "dataset = dataset.drop([\"SPY_StockPrice\"],axis=1)\n",
        "dataset"
      ],
      "execution_count": 88,
      "outputs": [
        {
          "output_type": "execute_result",
          "data": {
            "text/html": [
              "<div>\n",
              "<style scoped>\n",
              "    .dataframe tbody tr th:only-of-type {\n",
              "        vertical-align: middle;\n",
              "    }\n",
              "\n",
              "    .dataframe tbody tr th {\n",
              "        vertical-align: top;\n",
              "    }\n",
              "\n",
              "    .dataframe thead th {\n",
              "        text-align: right;\n",
              "    }\n",
              "</style>\n",
              "<table border=\"1\" class=\"dataframe\">\n",
              "  <thead>\n",
              "    <tr style=\"text-align: right;\">\n",
              "      <th></th>\n",
              "      <th>AAPL_StockPrice</th>\n",
              "      <th>AMZN_StockPrice</th>\n",
              "      <th>BA_StockPrice</th>\n",
              "      <th>TSLA_StockPrice</th>\n",
              "    </tr>\n",
              "  </thead>\n",
              "  <tbody>\n",
              "    <tr>\n",
              "      <th>0</th>\n",
              "      <td>116.01</td>\n",
              "      <td>757.76</td>\n",
              "      <td>155.68</td>\n",
              "      <td>214.3</td>\n",
              "    </tr>\n",
              "    <tr>\n",
              "      <th>1</th>\n",
              "      <td>116.01</td>\n",
              "      <td>757.76</td>\n",
              "      <td>155.68</td>\n",
              "      <td>214.3</td>\n",
              "    </tr>\n",
              "    <tr>\n",
              "      <th>2</th>\n",
              "      <td>116.01</td>\n",
              "      <td>757.76</td>\n",
              "      <td>155.68</td>\n",
              "      <td>214.3</td>\n",
              "    </tr>\n",
              "    <tr>\n",
              "      <th>3</th>\n",
              "      <td>116.01</td>\n",
              "      <td>757.76</td>\n",
              "      <td>155.68</td>\n",
              "      <td>214.3</td>\n",
              "    </tr>\n",
              "    <tr>\n",
              "      <th>4</th>\n",
              "      <td>116.01</td>\n",
              "      <td>757.76</td>\n",
              "      <td>155.68</td>\n",
              "      <td>214.3</td>\n",
              "    </tr>\n",
              "    <tr>\n",
              "      <th>...</th>\n",
              "      <td>...</td>\n",
              "      <td>...</td>\n",
              "      <td>...</td>\n",
              "      <td>...</td>\n",
              "    </tr>\n",
              "    <tr>\n",
              "      <th>17017</th>\n",
              "      <td>248.56</td>\n",
              "      <td>1776.99</td>\n",
              "      <td>340.09</td>\n",
              "      <td>314.6</td>\n",
              "    </tr>\n",
              "    <tr>\n",
              "      <th>17018</th>\n",
              "      <td>248.56</td>\n",
              "      <td>1776.99</td>\n",
              "      <td>340.09</td>\n",
              "      <td>314.6</td>\n",
              "    </tr>\n",
              "    <tr>\n",
              "      <th>17019</th>\n",
              "      <td>248.56</td>\n",
              "      <td>1776.99</td>\n",
              "      <td>340.09</td>\n",
              "      <td>314.6</td>\n",
              "    </tr>\n",
              "    <tr>\n",
              "      <th>17020</th>\n",
              "      <td>248.56</td>\n",
              "      <td>1776.99</td>\n",
              "      <td>340.09</td>\n",
              "      <td>314.6</td>\n",
              "    </tr>\n",
              "    <tr>\n",
              "      <th>17021</th>\n",
              "      <td>248.56</td>\n",
              "      <td>1776.99</td>\n",
              "      <td>340.09</td>\n",
              "      <td>314.6</td>\n",
              "    </tr>\n",
              "  </tbody>\n",
              "</table>\n",
              "<p>17022 rows × 4 columns</p>\n",
              "</div>"
            ],
            "text/plain": [
              "       AAPL_StockPrice  AMZN_StockPrice  BA_StockPrice  TSLA_StockPrice\n",
              "0               116.01           757.76         155.68            214.3\n",
              "1               116.01           757.76         155.68            214.3\n",
              "2               116.01           757.76         155.68            214.3\n",
              "3               116.01           757.76         155.68            214.3\n",
              "4               116.01           757.76         155.68            214.3\n",
              "...                ...              ...            ...              ...\n",
              "17017           248.56          1776.99         340.09            314.6\n",
              "17018           248.56          1776.99         340.09            314.6\n",
              "17019           248.56          1776.99         340.09            314.6\n",
              "17020           248.56          1776.99         340.09            314.6\n",
              "17021           248.56          1776.99         340.09            314.6\n",
              "\n",
              "[17022 rows x 4 columns]"
            ]
          },
          "metadata": {
            "tags": []
          },
          "execution_count": 88
        }
      ]
    },
    {
      "cell_type": "code",
      "metadata": {
        "id": "Ml86n07VeS77",
        "colab_type": "code",
        "outputId": "82eb61aa-3d08-4982-cbd3-80572cf53618",
        "colab": {
          "base_uri": "https://localhost:8080/",
          "height": 136
        }
      },
      "source": [
        "scaler = MinMaxScaler(feature_range=(0,1))\n",
        "openScaler = MinMaxScaler(feature_range=(0,1))\n",
        "\n",
        "scaled_dataset = scaler.fit_transform(dataset)\n",
        "\n",
        "scaled_open_prices = openScaler.fit_transform(opening_dataset.values.reshape(-1, 1))\n",
        "scaled_open_prices"
      ],
      "execution_count": 89,
      "outputs": [
        {
          "output_type": "execute_result",
          "data": {
            "text/plain": [
              "array([[0.01040628],\n",
              "       [0.01040628],\n",
              "       [0.01040628],\n",
              "       ...,\n",
              "       [0.98241053],\n",
              "       [0.98241053],\n",
              "       [0.98241053]])"
            ]
          },
          "metadata": {
            "tags": []
          },
          "execution_count": 89
        }
      ]
    },
    {
      "cell_type": "code",
      "metadata": {
        "id": "WYkKUoZ0KV_A",
        "colab_type": "code",
        "colab": {}
      },
      "source": [
        "training_data_len = math.ceil(len(dataset) * 0.8)\n",
        "train_xvals = scaled_dataset[0:training_data_len, :]\n",
        "train_yvals = scaled_open_prices[0:training_data_len, :]"
      ],
      "execution_count": 0,
      "outputs": []
    },
    {
      "cell_type": "code",
      "metadata": {
        "id": "qS6ZzUUYNwT0",
        "colab_type": "code",
        "colab": {}
      },
      "source": [
        "test_xvals = scaled_dataset[training_data_len:, :]\n",
        "test_yvals = scaled_open_prices[training_data_len:, :]"
      ],
      "execution_count": 0,
      "outputs": []
    },
    {
      "cell_type": "code",
      "metadata": {
        "id": "YndPC_STbn-f",
        "colab_type": "code",
        "colab": {}
      },
      "source": [
        "y_train = train_yvals\n",
        "x_train = train_xvals\n",
        "\n",
        "y_test = test_yvals\n",
        "x_test = test_xvals"
      ],
      "execution_count": 0,
      "outputs": []
    },
    {
      "cell_type": "code",
      "metadata": {
        "id": "o_sL6gWENwQM",
        "colab_type": "code",
        "outputId": "92fd2be1-6684-4917-840f-5b9db18c973c",
        "colab": {
          "base_uri": "https://localhost:8080/",
          "height": 34
        }
      },
      "source": [
        "train_xvals.shape\n",
        "test_xvals.shape\n",
        "scaled_dataset.shape"
      ],
      "execution_count": 93,
      "outputs": [
        {
          "output_type": "execute_result",
          "data": {
            "text/plain": [
              "(13618, 4)"
            ]
          },
          "metadata": {
            "tags": []
          },
          "execution_count": 93
        },
        {
          "output_type": "execute_result",
          "data": {
            "text/plain": [
              "(3404, 4)"
            ]
          },
          "metadata": {
            "tags": []
          },
          "execution_count": 93
        },
        {
          "output_type": "execute_result",
          "data": {
            "text/plain": [
              "(17022, 4)"
            ]
          },
          "metadata": {
            "tags": []
          },
          "execution_count": 93
        }
      ]
    },
    {
      "cell_type": "code",
      "metadata": {
        "id": "_wCo0iPFo8kC",
        "colab_type": "code",
        "colab": {
          "base_uri": "https://localhost:8080/",
          "height": 34
        },
        "outputId": "c0de7de9-fcfb-44e5-92c2-f126f4316331"
      },
      "source": [
        "x_train = []\n",
        "y_train = []\n",
        "\n",
        "maxlen = 20\n",
        "\n",
        "for i in range(maxlen, len(train_xvals)): #  len(X_scaled_train)+1) changed added +1; X_scaled_train and x_train[-1], have the same last elem; they are synced \n",
        "  x_train.append(train_xvals[i-maxlen: i, :])\n",
        "  y_train.append(train_yvals[i])\n",
        "\n",
        "np.array(x_train).shape"
      ],
      "execution_count": 61,
      "outputs": [
        {
          "output_type": "execute_result",
          "data": {
            "text/plain": [
              "(13598, 20, 4)"
            ]
          },
          "metadata": {
            "tags": []
          },
          "execution_count": 61
        }
      ]
    },
    {
      "cell_type": "code",
      "metadata": {
        "id": "9wBNEDvopKz0",
        "colab_type": "code",
        "colab": {
          "base_uri": "https://localhost:8080/",
          "height": 1000
        },
        "outputId": "e5a2972e-b934-471e-be9e-0dd2ae11c9c0"
      },
      "source": [
        "import tensorflow as tf\n",
        "from sklearn.preprocessing import MinMaxScaler\n",
        "from tensorflow.keras.models import Sequential \n",
        "from tensorflow.keras.layers import Dense, LSTM\n",
        "from tensorflow.compat.v1.keras.layers import CuDNNLSTM, CuDNNGRU\n",
        "from tensorflow.keras.callbacks import EarlyStopping, ModelCheckpoint, ReduceLROnPlateau\n",
        "\n",
        "x_train, y_train = np.array(x_train), np.array(y_train)\n",
        "\n",
        "model = Sequential()\n",
        "\n",
        "model.add(LSTM(100, return_sequences=True, input_shape=(x_train.shape[1], x_train.shape[2])))\n",
        "model.add(LSTM(135, return_sequences=True))   # recurrent_dropout=0.1 will prevent cuDNN, using TF2\n",
        "model.add(Dense(160))\n",
        "model.add(LSTM(160, return_sequences=False))  \n",
        "model.add(Dense(60))\n",
        "model.add(Dense(1))\n",
        "\n",
        "# Compile Model \n",
        "model.compile(optimizer=tf.keras.optimizers.RMSprop(learning_rate=0.001), loss='mean_squared_error') # metrics=['mean_squared_error', 'mae']\n",
        "\n",
        "batch_size = 16\n",
        "callbacks=[]\n",
        "\n",
        "\n",
        "# callbacks.append(EarlyStopping(monitor='loss', patience=12, verbose=1, mode='min', restore_best_weights=False)) # end if loss converges \n",
        "stop = EarlyStopping(monitor='loss', patience=10, verbose=1, mode='min', restore_best_weights=True) # end if val_loss converges \n",
        "callbacks.append(stop)  \n",
        "callbacks.append(ModelCheckpoint('./my_model.hdf5', save_best_only=True, monitor='loss', mode='min'))\n",
        "callbacks.append(ReduceLROnPlateau(monitor='loss', factor=0.5, patience=6, verbose=1, mode='min'))\n",
        "\n",
        "history = model.fit(x_train, y_train, batch_size=batch_size, epochs=45,  callbacks=callbacks,shuffle=True) "
      ],
      "execution_count": 63,
      "outputs": [
        {
          "output_type": "stream",
          "text": [
            "Epoch 1/45\n",
            "850/850 [==============================] - 10s 11ms/step - loss: 0.0090 - lr: 0.0010\n",
            "Epoch 2/45\n",
            "850/850 [==============================] - 9s 11ms/step - loss: 0.0029 - lr: 0.0010\n",
            "Epoch 3/45\n",
            "850/850 [==============================] - 9s 11ms/step - loss: 0.0022 - lr: 0.0010\n",
            "Epoch 4/45\n",
            "850/850 [==============================] - 10s 11ms/step - loss: 0.0018 - lr: 0.0010\n",
            "Epoch 5/45\n",
            "850/850 [==============================] - 9s 11ms/step - loss: 0.0016 - lr: 0.0010\n",
            "Epoch 6/45\n",
            "850/850 [==============================] - 9s 11ms/step - loss: 0.0014 - lr: 0.0010\n",
            "Epoch 7/45\n",
            "850/850 [==============================] - 10s 11ms/step - loss: 0.0013 - lr: 0.0010\n",
            "Epoch 8/45\n",
            "850/850 [==============================] - 10s 12ms/step - loss: 0.0012 - lr: 0.0010\n",
            "Epoch 9/45\n",
            "850/850 [==============================] - 10s 11ms/step - loss: 0.0011 - lr: 0.0010\n",
            "Epoch 10/45\n",
            "850/850 [==============================] - 9s 11ms/step - loss: 0.0011 - lr: 0.0010\n",
            "Epoch 11/45\n",
            "850/850 [==============================] - 9s 11ms/step - loss: 9.6929e-04 - lr: 0.0010\n",
            "Epoch 12/45\n",
            "850/850 [==============================] - 9s 11ms/step - loss: 9.2306e-04 - lr: 0.0010\n",
            "Epoch 13/45\n",
            "850/850 [==============================] - 10s 11ms/step - loss: 8.5143e-04 - lr: 0.0010\n",
            "Epoch 14/45\n",
            "850/850 [==============================] - 10s 11ms/step - loss: 8.1741e-04 - lr: 0.0010\n",
            "Epoch 15/45\n",
            "850/850 [==============================] - 10s 12ms/step - loss: 7.4851e-04 - lr: 0.0010\n",
            "Epoch 16/45\n",
            "850/850 [==============================] - 10s 11ms/step - loss: 7.0700e-04 - lr: 0.0010\n",
            "Epoch 17/45\n",
            "850/850 [==============================] - 10s 11ms/step - loss: 6.6260e-04 - lr: 0.0010\n",
            "Epoch 18/45\n",
            "850/850 [==============================] - 10s 11ms/step - loss: 6.3504e-04 - lr: 0.0010\n",
            "Epoch 19/45\n",
            "850/850 [==============================] - 9s 11ms/step - loss: 5.9845e-04 - lr: 0.0010\n",
            "Epoch 20/45\n",
            "850/850 [==============================] - 10s 12ms/step - loss: 5.6772e-04 - lr: 0.0010\n",
            "Epoch 21/45\n",
            "850/850 [==============================] - 10s 11ms/step - loss: 5.4797e-04 - lr: 0.0010\n",
            "Epoch 22/45\n",
            "850/850 [==============================] - 10s 11ms/step - loss: 5.0981e-04 - lr: 0.0010\n",
            "Epoch 23/45\n",
            "850/850 [==============================] - 10s 12ms/step - loss: 4.9170e-04 - lr: 0.0010\n",
            "Epoch 24/45\n",
            "850/850 [==============================] - 10s 12ms/step - loss: 4.7403e-04 - lr: 0.0010\n",
            "Epoch 25/45\n",
            "850/850 [==============================] - 10s 11ms/step - loss: 4.4972e-04 - lr: 0.0010\n",
            "Epoch 26/45\n",
            "850/850 [==============================] - 10s 11ms/step - loss: 4.1880e-04 - lr: 0.0010\n",
            "Epoch 27/45\n",
            "850/850 [==============================] - 10s 11ms/step - loss: 4.1344e-04 - lr: 0.0010\n",
            "Epoch 28/45\n",
            "850/850 [==============================] - 10s 11ms/step - loss: 4.0440e-04 - lr: 0.0010\n",
            "Epoch 29/45\n",
            "850/850 [==============================] - 10s 11ms/step - loss: 3.8559e-04 - lr: 0.0010\n",
            "Epoch 30/45\n",
            "850/850 [==============================] - 10s 11ms/step - loss: 3.6751e-04 - lr: 0.0010\n",
            "Epoch 31/45\n",
            "850/850 [==============================] - 9s 11ms/step - loss: 3.6415e-04 - lr: 0.0010\n",
            "Epoch 32/45\n",
            "850/850 [==============================] - 9s 11ms/step - loss: 3.5061e-04 - lr: 0.0010\n",
            "Epoch 33/45\n",
            "850/850 [==============================] - 10s 11ms/step - loss: 3.3392e-04 - lr: 0.0010\n",
            "Epoch 34/45\n",
            "849/850 [============================>.] - ETA: 0s - loss: 3.2533e-04\n",
            "Epoch 00034: ReduceLROnPlateau reducing learning rate to 0.0005000000237487257.\n",
            "850/850 [==============================] - 10s 11ms/step - loss: 3.2508e-04 - lr: 0.0010\n",
            "Epoch 35/45\n",
            "850/850 [==============================] - 10s 11ms/step - loss: 1.9858e-04 - lr: 5.0000e-04\n",
            "Epoch 36/45\n",
            "850/850 [==============================] - 10s 11ms/step - loss: 1.9146e-04 - lr: 5.0000e-04\n",
            "Epoch 37/45\n",
            "850/850 [==============================] - 10s 12ms/step - loss: 1.8414e-04 - lr: 5.0000e-04\n",
            "Epoch 38/45\n",
            "850/850 [==============================] - 10s 11ms/step - loss: 1.7859e-04 - lr: 5.0000e-04\n",
            "Epoch 39/45\n",
            "850/850 [==============================] - 10s 11ms/step - loss: 1.7458e-04 - lr: 5.0000e-04\n",
            "Epoch 40/45\n",
            "850/850 [==============================] - 10s 12ms/step - loss: 1.7096e-04 - lr: 5.0000e-04\n",
            "Epoch 41/45\n",
            "846/850 [============================>.] - ETA: 0s - loss: 1.6768e-04\n",
            "Epoch 00041: ReduceLROnPlateau reducing learning rate to 0.0002500000118743628.\n",
            "850/850 [==============================] - 10s 11ms/step - loss: 1.6819e-04 - lr: 5.0000e-04\n",
            "Epoch 42/45\n",
            "850/850 [==============================] - 9s 11ms/step - loss: 1.2389e-04 - lr: 2.5000e-04\n",
            "Epoch 43/45\n",
            "850/850 [==============================] - 10s 12ms/step - loss: 1.1977e-04 - lr: 2.5000e-04\n",
            "Epoch 44/45\n",
            "850/850 [==============================] - 10s 11ms/step - loss: 1.1844e-04 - lr: 2.5000e-04\n",
            "Epoch 45/45\n",
            "850/850 [==============================] - 10s 12ms/step - loss: 1.1579e-04 - lr: 2.5000e-04\n"
          ],
          "name": "stdout"
        }
      ]
    },
    {
      "cell_type": "code",
      "metadata": {
        "id": "-z8j1-w3qeFi",
        "colab_type": "code",
        "colab": {
          "base_uri": "https://localhost:8080/",
          "height": 357
        },
        "outputId": "1a5c00ce-4498-46dd-c382-95d89cd2bab1"
      },
      "source": [
        "model.summary()"
      ],
      "execution_count": 64,
      "outputs": [
        {
          "output_type": "stream",
          "text": [
            "Model: \"sequential_9\"\n",
            "_________________________________________________________________\n",
            "Layer (type)                 Output Shape              Param #   \n",
            "=================================================================\n",
            "lstm_15 (LSTM)               (None, 20, 100)           42000     \n",
            "_________________________________________________________________\n",
            "lstm_16 (LSTM)               (None, 20, 135)           127440    \n",
            "_________________________________________________________________\n",
            "dense_24 (Dense)             (None, 20, 160)           21760     \n",
            "_________________________________________________________________\n",
            "lstm_17 (LSTM)               (None, 160)               205440    \n",
            "_________________________________________________________________\n",
            "dense_25 (Dense)             (None, 60)                9660      \n",
            "_________________________________________________________________\n",
            "dense_26 (Dense)             (None, 1)                 61        \n",
            "=================================================================\n",
            "Total params: 406,361\n",
            "Trainable params: 406,361\n",
            "Non-trainable params: 0\n",
            "_________________________________________________________________\n"
          ],
          "name": "stdout"
        }
      ]
    },
    {
      "cell_type": "code",
      "metadata": {
        "id": "ONPU_2Xfs28F",
        "colab_type": "code",
        "colab": {
          "base_uri": "https://localhost:8080/",
          "height": 661
        },
        "outputId": "3ed6b444-9e31-4061-fbb2-dead6bd052ee"
      },
      "source": [
        "from tensorflow.keras.utils import plot_model\n",
        "plot_model(model)"
      ],
      "execution_count": 65,
      "outputs": [
        {
          "output_type": "execute_result",
          "data": {
            "image/png": "[encoded data removed]",
            "text/plain": [
              "<IPython.core.display.Image object>"
            ]
          },
          "metadata": {
            "tags": []
          },
          "execution_count": 65
        }
      ]
    },
    {
      "cell_type": "code",
      "metadata": {
        "id": "R38uC5k0qeL-",
        "colab_type": "code",
        "colab": {
          "base_uri": "https://localhost:8080/",
          "height": 34
        },
        "outputId": "2654af14-76ba-49be-9133-102d7b1a3310"
      },
      "source": [
        "x_test = []\n",
        "y_test = test_yvals[:-20]\n",
        "\n",
        "for i in range(maxlen, len(test_xvals)): \n",
        "  x_test.append(test_xvals[i-maxlen:i, :]) \n",
        "\n",
        "x_test = np.array(x_test)\n",
        "\n",
        "\n",
        "predictions = model.predict(x_test, batch_size=batch_size)\n",
        "rmse_LSTM = np.sqrt(np.mean((openScaler.inverse_transform(predictions.reshape(-1, 1))- openScaler.inverse_transform(y_test.reshape(-1, 1)))**2))\n",
        "rmse_LSTM # 12.474914716503145\n"
      ],
      "execution_count": 74,
      "outputs": [
        {
          "output_type": "execute_result",
          "data": {
            "text/plain": [
              "12.474914716503145"
            ]
          },
          "metadata": {
            "tags": []
          },
          "execution_count": 74
        }
      ]
    },
    {
      "cell_type": "code",
      "metadata": {
        "id": "ZEHflymlrIO-",
        "colab_type": "code",
        "colab": {}
      },
      "source": [
        ""
      ],
      "execution_count": 0,
      "outputs": []
    },
    {
      "cell_type": "code",
      "metadata": {
        "id": "PrdanopLrIR_",
        "colab_type": "code",
        "colab": {
          "base_uri": "https://localhost:8080/",
          "height": 1000
        },
        "outputId": "24f0563b-adaf-4839-84dd-cf07968ad3b4"
      },
      "source": [
        "from tensorflow.keras.layers import Dense, LSTM,GRU \n",
        "model = Sequential()\n",
        "\n",
        "model.add(GRU(100, return_sequences=True, input_shape=(x_train.shape[1], x_train.shape[2])))\n",
        "model.add(GRU(135, return_sequences=True))   # recurrent_dropout=0.1 will prevent cuDNN, using TF2\n",
        "model.add(Dense(160))\n",
        "model.add(GRU(160, return_sequences=False))  \n",
        "model.add(Dense(60))\n",
        "model.add(Dense(1))\n",
        "\n",
        "# Compile Model \n",
        "model.compile(optimizer=tf.keras.optimizers.RMSprop(learning_rate=0.001), loss='mean_squared_error') \n",
        "\n",
        "batch_size = 16\n",
        "callbacks=[]\n",
        "\n",
        "stop = EarlyStopping(monitor='loss', patience=10, verbose=1, mode='min', restore_best_weights=True)\n",
        "callbacks.append(stop)  \n",
        "callbacks.append(ModelCheckpoint('./my_model.hdf5', save_best_only=True, monitor='loss', mode='min'))\n",
        "callbacks.append(ReduceLROnPlateau(monitor='loss', factor=0.5, patience=6, verbose=1, mode='min'))\n",
        "\n",
        "history = model.fit(x_train, y_train, batch_size=batch_size, epochs=45,  callbacks=callbacks,shuffle=True) \n",
        "\n",
        "predictions = model.predict(x_test, batch_size=batch_size)\n",
        "rmse_GRU = np.sqrt(np.mean((openScaler.inverse_transform(predictions.reshape(-1, 1))- openScaler.inverse_transform(y_test.reshape(-1, 1)))**2))\n",
        "rmse_GRU # 15.126561829394966\n"
      ],
      "execution_count": 75,
      "outputs": [
        {
          "output_type": "stream",
          "text": [
            "Epoch 1/45\n",
            "850/850 [==============================] - 9s 11ms/step - loss: 0.0102 - lr: 0.0010\n",
            "Epoch 2/45\n",
            "850/850 [==============================] - 9s 11ms/step - loss: 0.0040 - lr: 0.0010\n",
            "Epoch 3/45\n",
            "850/850 [==============================] - 9s 11ms/step - loss: 0.0025 - lr: 0.0010\n",
            "Epoch 4/45\n",
            "850/850 [==============================] - 9s 11ms/step - loss: 0.0019 - lr: 0.0010\n",
            "Epoch 5/45\n",
            "850/850 [==============================] - 9s 11ms/step - loss: 0.0016 - lr: 0.0010\n",
            "Epoch 6/45\n",
            "850/850 [==============================] - 9s 11ms/step - loss: 0.0014 - lr: 0.0010\n",
            "Epoch 7/45\n",
            "850/850 [==============================] - 9s 11ms/step - loss: 0.0013 - lr: 0.0010\n",
            "Epoch 8/45\n",
            "850/850 [==============================] - 9s 10ms/step - loss: 0.0012 - lr: 0.0010\n",
            "Epoch 9/45\n",
            "850/850 [==============================] - 9s 10ms/step - loss: 0.0011 - lr: 0.0010\n",
            "Epoch 10/45\n",
            "850/850 [==============================] - 9s 10ms/step - loss: 9.9556e-04 - lr: 0.0010\n",
            "Epoch 11/45\n",
            "850/850 [==============================] - 9s 11ms/step - loss: 9.0456e-04 - lr: 0.0010\n",
            "Epoch 12/45\n",
            "850/850 [==============================] - 9s 11ms/step - loss: 8.6657e-04 - lr: 0.0010\n",
            "Epoch 13/45\n",
            "850/850 [==============================] - 9s 10ms/step - loss: 8.0618e-04 - lr: 0.0010\n",
            "Epoch 14/45\n",
            "850/850 [==============================] - 9s 11ms/step - loss: 7.4239e-04 - lr: 0.0010\n",
            "Epoch 15/45\n",
            "850/850 [==============================] - 9s 11ms/step - loss: 6.9453e-04 - lr: 0.0010\n",
            "Epoch 16/45\n",
            "850/850 [==============================] - 9s 11ms/step - loss: 6.5061e-04 - lr: 0.0010\n",
            "Epoch 17/45\n",
            "850/850 [==============================] - 9s 11ms/step - loss: 6.1227e-04 - lr: 0.0010\n",
            "Epoch 18/45\n",
            "850/850 [==============================] - 9s 11ms/step - loss: 5.7524e-04 - lr: 0.0010\n",
            "Epoch 19/45\n",
            "850/850 [==============================] - 9s 11ms/step - loss: 5.4003e-04 - lr: 0.0010\n",
            "Epoch 20/45\n",
            "850/850 [==============================] - 9s 11ms/step - loss: 5.1339e-04 - lr: 0.0010\n",
            "Epoch 21/45\n",
            "850/850 [==============================] - 9s 11ms/step - loss: 4.8462e-04 - lr: 0.0010\n",
            "Epoch 22/45\n",
            "850/850 [==============================] - 9s 11ms/step - loss: 4.5292e-04 - lr: 0.0010\n",
            "Epoch 23/45\n",
            "850/850 [==============================] - 9s 11ms/step - loss: 4.3361e-04 - lr: 0.0010\n",
            "Epoch 24/45\n",
            "850/850 [==============================] - 9s 11ms/step - loss: 4.2313e-04 - lr: 0.0010\n",
            "Epoch 25/45\n",
            "850/850 [==============================] - 9s 10ms/step - loss: 3.9438e-04 - lr: 0.0010\n",
            "Epoch 26/45\n",
            "850/850 [==============================] - 9s 11ms/step - loss: 3.7445e-04 - lr: 0.0010\n",
            "Epoch 27/45\n",
            "850/850 [==============================] - 9s 11ms/step - loss: 3.7706e-04 - lr: 0.0010\n",
            "Epoch 28/45\n",
            "850/850 [==============================] - 9s 11ms/step - loss: 3.6090e-04 - lr: 0.0010\n",
            "Epoch 29/45\n",
            "850/850 [==============================] - 10s 11ms/step - loss: 3.5136e-04 - lr: 0.0010\n",
            "Epoch 30/45\n",
            "850/850 [==============================] - 9s 11ms/step - loss: 3.3676e-04 - lr: 0.0010\n",
            "Epoch 31/45\n",
            "850/850 [==============================] - 9s 11ms/step - loss: 3.1591e-04 - lr: 0.0010\n",
            "Epoch 32/45\n",
            "849/850 [============================>.] - ETA: 0s - loss: 3.1187e-04\n",
            "Epoch 00032: ReduceLROnPlateau reducing learning rate to 0.0005000000237487257.\n",
            "850/850 [==============================] - 9s 11ms/step - loss: 3.1185e-04 - lr: 0.0010\n",
            "Epoch 33/45\n",
            "850/850 [==============================] - 9s 11ms/step - loss: 1.7127e-04 - lr: 5.0000e-04\n",
            "Epoch 34/45\n",
            "850/850 [==============================] - 9s 11ms/step - loss: 1.6182e-04 - lr: 5.0000e-04\n",
            "Epoch 35/45\n",
            "850/850 [==============================] - 9s 11ms/step - loss: 1.5904e-04 - lr: 5.0000e-04\n",
            "Epoch 36/45\n",
            "850/850 [==============================] - 9s 11ms/step - loss: 1.5579e-04 - lr: 5.0000e-04\n",
            "Epoch 37/45\n",
            "850/850 [==============================] - 9s 11ms/step - loss: 1.5162e-04 - lr: 5.0000e-04\n",
            "Epoch 38/45\n",
            "850/850 [==============================] - 9s 11ms/step - loss: 1.4818e-04 - lr: 5.0000e-04\n",
            "Epoch 39/45\n",
            "846/850 [============================>.] - ETA: 0s - loss: 1.4550e-04\n",
            "Epoch 00039: ReduceLROnPlateau reducing learning rate to 0.0002500000118743628.\n",
            "850/850 [==============================] - 9s 11ms/step - loss: 1.4536e-04 - lr: 5.0000e-04\n",
            "Epoch 40/45\n",
            "850/850 [==============================] - 9s 11ms/step - loss: 1.0383e-04 - lr: 2.5000e-04\n",
            "Epoch 41/45\n",
            "850/850 [==============================] - 9s 11ms/step - loss: 9.9798e-05 - lr: 2.5000e-04\n",
            "Epoch 42/45\n",
            "850/850 [==============================] - 9s 11ms/step - loss: 9.7675e-05 - lr: 2.5000e-04\n",
            "Epoch 43/45\n",
            "850/850 [==============================] - 9s 11ms/step - loss: 9.4966e-05 - lr: 2.5000e-04\n",
            "Epoch 44/45\n",
            "850/850 [==============================] - 9s 11ms/step - loss: 9.3295e-05 - lr: 2.5000e-04\n",
            "Epoch 45/45\n",
            "848/850 [============================>.] - ETA: 0s - loss: 9.1149e-05\n",
            "Epoch 00045: ReduceLROnPlateau reducing learning rate to 0.0001250000059371814.\n",
            "850/850 [==============================] - 9s 11ms/step - loss: 9.1178e-05 - lr: 2.5000e-04\n"
          ],
          "name": "stdout"
        },
        {
          "output_type": "execute_result",
          "data": {
            "text/plain": [
              "15.126561829394966"
            ]
          },
          "metadata": {
            "tags": []
          },
          "execution_count": 75
        }
      ]
    },
    {
      "cell_type": "code",
      "metadata": {
        "id": "wMtsPjHJrIYD",
        "colab_type": "code",
        "colab": {
          "base_uri": "https://localhost:8080/",
          "height": 661
        },
        "outputId": "76baff8f-92b7-4d23-d13c-bad2a22f99c7"
      },
      "source": [
        "plot_model(model)"
      ],
      "execution_count": 76,
      "outputs": [
        {
          "output_type": "execute_result",
          "data": {
            "image/png": "[encoded data removed]",
            "text/plain": [
              "<IPython.core.display.Image object>"
            ]
          },
          "metadata": {
            "tags": []
          },
          "execution_count": 76
        }
      ]
    },
    {
      "cell_type": "code",
      "metadata": {
        "id": "dgMBXeHOw9tc",
        "colab_type": "code",
        "colab": {}
      },
      "source": [
        "y_train = train_yvals\n",
        "x_train = train_xvals\n",
        "\n",
        "y_test = test_yvals\n",
        "x_test = test_xvals"
      ],
      "execution_count": 0,
      "outputs": []
    },
    {
      "cell_type": "code",
      "metadata": {
        "id": "0RiLJLfBrIVm",
        "colab_type": "code",
        "colab": {}
      },
      "source": [
        "# from tensorflow.keras.layers import Dense, LSTM,GRU \n",
        "# model = Sequential()\n",
        "\n",
        "# model.add(Dense(160)) \n",
        "# model.add(Dense(60))\n",
        "# model.add(Dense(1))\n",
        "\n",
        "# # Compile Model \n",
        "# model.compile(optimizer='adam', loss='mean_squared_error') \n",
        "\n",
        "# batch_size = 16\n",
        "# callbacks=[]\n",
        "\n",
        "# stop = EarlyStopping(monitor='loss', patience=10, verbose=1, mode='min', restore_best_weights=True)\n",
        "# callbacks.append(stop)  \n",
        "# callbacks.append(ModelCheckpoint('./my_model.hdf5', save_best_only=True, monitor='loss', mode='min'))\n",
        "# callbacks.append(ReduceLROnPlateau(monitor='loss', factor=0.5, patience=6, verbose=1, mode='min'))\n",
        "\n",
        "# history = model.fit(x_train, y_train, batch_size=batch_size, epochs=150,  callbacks=callbacks,shuffle=True) "
      ],
      "execution_count": 0,
      "outputs": []
    },
    {
      "cell_type": "code",
      "metadata": {
        "id": "Zls9MhpLqeR7",
        "colab_type": "code",
        "colab": {
          "base_uri": "https://localhost:8080/",
          "height": 34
        },
        "outputId": "e6df4227-26bf-47ae-b289-c5e68f3f126c"
      },
      "source": [
        "# predictions = model.predict(x_test, batch_size=batch_size)\n",
        "# rmse_MLP = np.sqrt(np.mean((openScaler.inverse_transform(yhat.reshape(-1, 1))- openScaler.inverse_transform(y_test.reshape(-1, 1)))**2))\n",
        "# rmse_MLP #17.856727259041"
      ],
      "execution_count": 54,
      "outputs": [
        {
          "output_type": "execute_result",
          "data": {
            "text/plain": [
              "17.856727259041"
            ]
          },
          "metadata": {
            "tags": []
          },
          "execution_count": 54
        }
      ]
    },
    {
      "cell_type": "code",
      "metadata": {
        "id": "QzfUsxq9qeOy",
        "colab_type": "code",
        "colab": {
          "base_uri": "https://localhost:8080/",
          "height": 282
        },
        "outputId": "da720d95-0e69-4c99-acf6-f5dea42a39ee"
      },
      "source": [
        "plt.plot(predictions)\n",
        "plt.plot(y_test)"
      ],
      "execution_count": 55,
      "outputs": [
        {
          "output_type": "execute_result",
          "data": {
            "text/plain": [
              "[<matplotlib.lines.Line2D at 0x7f72b8d04e80>]"
            ]
          },
          "metadata": {
            "tags": []
          },
          "execution_count": 55
        },
        {
          "output_type": "execute_result",
          "data": {
            "text/plain": [
              "[<matplotlib.lines.Line2D at 0x7f72b8d101d0>]"
            ]
          },
          "metadata": {
            "tags": []
          },
          "execution_count": 55
        },
        {
          "output_type": "display_data",
          "data": {
            "image/png": "[encoded data removed]",
            "text/plain": [
              "<Figure size 432x288 with 1 Axes>"
            ]
          },
          "metadata": {
            "tags": [],
            "needs_background": "light"
          }
        }
      ]
    },
    {
      "cell_type": "code",
      "metadata": {
        "id": "o9GADjJaqeJW",
        "colab_type": "code",
        "colab": {}
      },
      "source": [
        ""
      ],
      "execution_count": 0,
      "outputs": []
    },
    {
      "cell_type": "code",
      "metadata": {
        "id": "npFiDGGSpK6V",
        "colab_type": "code",
        "colab": {}
      },
      "source": [
        "y_train = train_yvals\n",
        "x_train = train_xvals\n",
        "\n",
        "y_test = test_yvals\n",
        "x_test = test_xvals"
      ],
      "execution_count": 0,
      "outputs": []
    },
    {
      "cell_type": "markdown",
      "metadata": {
        "colab_type": "text",
        "id": "bSJeyHcZQzbc"
      },
      "source": [
        "## SVM & RandomForestRegressor & bayesian regression"
      ]
    },
    {
      "cell_type": "code",
      "metadata": {
        "colab_type": "code",
        "id": "S5miV8c_Qzbc",
        "colab": {}
      },
      "source": [
        "from sklearn.svm import SVR \n",
        "from sklearn.ensemble import RandomForestRegressor"
      ],
      "execution_count": 0,
      "outputs": []
    },
    {
      "cell_type": "code",
      "metadata": {
        "id": "JaPSwuSZbIZO",
        "colab_type": "code",
        "colab": {}
      },
      "source": [
        ""
      ],
      "execution_count": 0,
      "outputs": []
    },
    {
      "cell_type": "code",
      "metadata": {
        "colab_type": "code",
        "id": "bKXBfOfSQzbe",
        "outputId": "05ff8f3a-2948-4470-c1e8-fa430779c651",
        "colab": {
          "base_uri": "https://localhost:8080/",
          "height": 221
        }
      },
      "source": [
        "reg = RandomForestRegressor(n_jobs=-1,n_estimators=999,random_state=42,criterion='mse')\n",
        "reg.fit(x_train,y_train)\n",
        "\n",
        "yhat = reg.predict(x_test)\n",
        "MSE = mean_squared_error(openScaler.inverse_transform(yhat.reshape(-1, 1)), openScaler.inverse_transform(y_test.reshape(-1, 1)))\n",
        "print('\\nMSE: ',MSE)\n",
        "RMSE_RFR = np.sqrt(MSE)\n",
        "print('\\nRMSE: ',RMSE_RFR)"
      ],
      "execution_count": 97,
      "outputs": [
        {
          "output_type": "stream",
          "text": [
            "/usr/local/lib/python3.6/dist-packages/ipykernel_launcher.py:2: DataConversionWarning: A column-vector y was passed when a 1d array was expected. Please change the shape of y to (n_samples,), for example using ravel().\n",
            "  \n"
          ],
          "name": "stderr"
        },
        {
          "output_type": "execute_result",
          "data": {
            "text/plain": [
              "RandomForestRegressor(bootstrap=True, ccp_alpha=0.0, criterion='mse',\n",
              "                      max_depth=None, max_features='auto', max_leaf_nodes=None,\n",
              "                      max_samples=None, min_impurity_decrease=0.0,\n",
              "                      min_impurity_split=None, min_samples_leaf=1,\n",
              "                      min_samples_split=2, min_weight_fraction_leaf=0.0,\n",
              "                      n_estimators=999, n_jobs=-1, oob_score=False,\n",
              "                      random_state=42, verbose=0, warm_start=False)"
            ]
          },
          "metadata": {
            "tags": []
          },
          "execution_count": 97
        },
        {
          "output_type": "stream",
          "text": [
            "\n",
            "MSE:  155.3289314362092\n",
            "\n",
            "RMSE:  12.463102801317543\n"
          ],
          "name": "stdout"
        }
      ]
    },
    {
      "cell_type": "code",
      "metadata": {
        "colab_type": "code",
        "id": "G3Yiln0eQzbg",
        "colab": {}
      },
      "source": [
        "# plt.title(\"RandomForestRegressor\")\n",
        "# plt.plot(y,label ='obs');\n",
        "# plt.plot(yhat,c='r',label = \"pred\");\n",
        "# plt.legend();\n",
        "# plt.show()"
      ],
      "execution_count": 0,
      "outputs": []
    },
    {
      "cell_type": "code",
      "metadata": {
        "colab_type": "code",
        "id": "OG3KhnbMQzbh",
        "outputId": "9ecc863b-2217-4505-e4d8-523e777f956e",
        "colab": {
          "base_uri": "https://localhost:8080/",
          "height": 136
        }
      },
      "source": [
        "reg = SVR(kernel='rbf')\n",
        "reg.fit(x_train,y_train)\n",
        "\n",
        "\n",
        "yhat = reg.predict(x_test)\n",
        "\n",
        "MSE = mean_squared_error(openScaler.inverse_transform(yhat.reshape(-1, 1)), openScaler.inverse_transform(y_test.reshape(-1, 1)))\n",
        "print('\\nMSE: ',MSE)\n",
        "RMSE_SVM = np.sqrt(MSE)\n",
        "print('\\nRMSE: ',RMSE_SVM)"
      ],
      "execution_count": 98,
      "outputs": [
        {
          "output_type": "stream",
          "text": [
            "/usr/local/lib/python3.6/dist-packages/sklearn/utils/validation.py:760: DataConversionWarning: A column-vector y was passed when a 1d array was expected. Please change the shape of y to (n_samples, ), for example using ravel().\n",
            "  y = column_or_1d(y, warn=True)\n"
          ],
          "name": "stderr"
        },
        {
          "output_type": "execute_result",
          "data": {
            "text/plain": [
              "SVR(C=1.0, cache_size=200, coef0=0.0, degree=3, epsilon=0.1, gamma='scale',\n",
              "    kernel='rbf', max_iter=-1, shrinking=True, tol=0.001, verbose=False)"
            ]
          },
          "metadata": {
            "tags": []
          },
          "execution_count": 98
        },
        {
          "output_type": "stream",
          "text": [
            "\n",
            "MSE:  318.862708403778\n",
            "\n",
            "RMSE:  17.856727259041\n"
          ],
          "name": "stdout"
        }
      ]
    },
    {
      "cell_type": "code",
      "metadata": {
        "id": "DHQNRPC8WPZc",
        "colab_type": "code",
        "colab": {}
      },
      "source": [
        "y_train = y_train.reshape(1,-1)[0]\n",
        "y_test = y_test.reshape(1,-1)[0]"
      ],
      "execution_count": 0,
      "outputs": []
    },
    {
      "cell_type": "code",
      "metadata": {
        "id": "9L6Uyv6tZxNv",
        "colab_type": "code",
        "colab": {}
      },
      "source": [
        "x_train = x_train.tolist()\n",
        "x_test = x_test.tolist()\n",
        "y_test = y_test.tolist()\n",
        "y_train = y_train.tolist()\n"
      ],
      "execution_count": 0,
      "outputs": []
    },
    {
      "cell_type": "code",
      "metadata": {
        "id": "wM7xud6ybW0G",
        "colab_type": "code",
        "colab": {
          "base_uri": "https://localhost:8080/",
          "height": 255
        },
        "outputId": "63ee2b2a-400d-43c2-a620-7f69057f07b7"
      },
      "source": [
        "reg = GradientBoostingRegressor(n_estimators=200,max_depth=4)\n",
        "reg.fit(x_train,y_train)\n",
        "\n",
        "\n",
        "yhat = reg.predict(x_test)\n",
        "\n",
        "MSE = mean_squared_error(openScaler.inverse_transform(yhat.reshape(-1, 1)), openScaler.inverse_transform(y_test.reshape(-1, 1)))\n",
        "print('\\nMSE: ',MSE)\n",
        "RMSE_RGB = np.sqrt(MSE)\n",
        "print('\\nRMSE: ',RMSE_RGB)"
      ],
      "execution_count": 99,
      "outputs": [
        {
          "output_type": "stream",
          "text": [
            "/usr/local/lib/python3.6/dist-packages/sklearn/ensemble/_gb.py:1454: DataConversionWarning: A column-vector y was passed when a 1d array was expected. Please change the shape of y to (n_samples, ), for example using ravel().\n",
            "  y = column_or_1d(y, warn=True)\n"
          ],
          "name": "stderr"
        },
        {
          "output_type": "execute_result",
          "data": {
            "text/plain": [
              "GradientBoostingRegressor(alpha=0.9, ccp_alpha=0.0, criterion='friedman_mse',\n",
              "                          init=None, learning_rate=0.1, loss='ls', max_depth=4,\n",
              "                          max_features=None, max_leaf_nodes=None,\n",
              "                          min_impurity_decrease=0.0, min_impurity_split=None,\n",
              "                          min_samples_leaf=1, min_samples_split=2,\n",
              "                          min_weight_fraction_leaf=0.0, n_estimators=200,\n",
              "                          n_iter_no_change=None, presort='deprecated',\n",
              "                          random_state=None, subsample=1.0, tol=0.0001,\n",
              "                          validation_fraction=0.1, verbose=0, warm_start=False)"
            ]
          },
          "metadata": {
            "tags": []
          },
          "execution_count": 99
        },
        {
          "output_type": "stream",
          "text": [
            "\n",
            "MSE:  174.72981956398246\n",
            "\n",
            "RMSE:  13.218540750172934\n"
          ],
          "name": "stdout"
        }
      ]
    },
    {
      "cell_type": "code",
      "metadata": {
        "id": "ZoLBoUzxWNaf",
        "colab_type": "code",
        "colab": {}
      },
      "source": [
        "# from sklearn.linear_model import ARDRegression # https://scikit-learn.org/stable/modules/generated/sklearn.linear_model.BayesianRidge.html#sklearn.linear_model.BayesianRidge\n",
        "\n",
        "# reg = ARDRegression(n_iter=300,tol = 0.001,compute_score=False)\n",
        "# reg.fit(x_train,y_train)\n",
        "\n",
        "# yhat = reg.predict(X_test)\n",
        "# MSE = mean_squared_error(yhat,y_test)\n",
        "# print('\\nMSE - ARDRegression: ',MSE)\n",
        "# RMSE_ARDRegression = np.sqrt(MSE)\n",
        "# print('\\nRMSE: ',RMSE_ARDRegression)"
      ],
      "execution_count": 0,
      "outputs": []
    },
    {
      "cell_type": "code",
      "metadata": {
        "id": "vLi6Tknyaq6W",
        "colab_type": "code",
        "colab": {}
      },
      "source": [
        "# from sklearn.linear_model import BayesianRidge\n",
        "# reg = BayesianRidge(n_iter=300, tol = 0.001,compute_score=False)\n",
        "# reg.fit(x,y)\n",
        "\n",
        "# yhat = reg.predict(x_train)\n",
        "# MSE = mean_squared_error(yhat,y_train)\n",
        "# print('\\nMSE - BayesianRidge : ',MSE) \n",
        "# RMSE_BayesianRidge = np.sqrt(MSE)\n",
        "# print('\\RMSE_BayesianRidge: ',RMSE_BayesianRidge)"
      ],
      "execution_count": 0,
      "outputs": []
    },
    {
      "cell_type": "code",
      "metadata": {
        "id": "EgMD9UPraq9c",
        "colab_type": "code",
        "colab": {}
      },
      "source": [
        ""
      ],
      "execution_count": 0,
      "outputs": []
    },
    {
      "cell_type": "code",
      "metadata": {
        "id": "czn2OLjPPN8P",
        "colab_type": "code",
        "colab": {}
      },
      "source": [
        "from sklearn.linear_model import * # https://scikit-learn.org/stable/modules/generated/sklearn.linear_model.BayesianRidge.html#sklearn.linear_model.BayesianRidge\n"
      ],
      "execution_count": 0,
      "outputs": []
    },
    {
      "cell_type": "code",
      "metadata": {
        "id": "qaPSeaPZPN_u",
        "colab_type": "code",
        "colab": {
          "base_uri": "https://localhost:8080/",
          "height": 119
        },
        "outputId": "bb652e4c-d49f-4abb-d889-e694a00f9e32"
      },
      "source": [
        "scores"
      ],
      "execution_count": 124,
      "outputs": [
        {
          "output_type": "execute_result",
          "data": {
            "text/plain": [
              "[13.218540750172934,\n",
              " 12.463102801317543,\n",
              " 17.856727259041,\n",
              " 12.474914716503145,\n",
              " 15.126561829394966,\n",
              " 17.856727259041]"
            ]
          },
          "metadata": {
            "tags": []
          },
          "execution_count": 124
        }
      ]
    },
    {
      "cell_type": "code",
      "metadata": {
        "id": "CYiV8QSQPOCW",
        "colab_type": "code",
        "colab": {
          "base_uri": "https://localhost:8080/",
          "height": 366
        },
        "outputId": "69599d03-658b-44da-d9b6-2333ba6fbcb7"
      },
      "source": [
        "import matplotlib\n",
        "import matplotlib.pyplot as plt\n",
        "import numpy as np\n",
        "\n",
        "scores = [RMSE_RGB,       RMSE_RFR,       RMSE_SVM,rmse_LSTM, rmse_GRU,rmse_MLP ] #, RMSE_ARDRegression, RMSE_BayesianRidge\n",
        "labels = ['Grad. boosting','Random Forest', 'SVM','LSTM', 'GRU','Mltilayer perceptron'] # 'Bayesian ARD regression', 'Bayesian ridge regression'\n",
        "y_pos = np.arange(len(labels))\n",
        "fig, ax = plt.subplots()\n",
        "plt.bar(y_pos, scores,width=0.7, align='center', alpha=0.7)\n",
        "\n",
        "ls = [ls.append(str(round(i,2))) for i in scores]\n",
        "plt.legend(ls, labels)\n",
        "ax.set_ylabel('RMSE')\n",
        "ax.set_title('Comparison')\n",
        "# ax.set_xticks(y_pos,labels)\n",
        "# ax.set_xticklabels(labels, rotation = 45, ha=\"left\")\n"
      ],
      "execution_count": 146,
      "outputs": [
        {
          "output_type": "execute_result",
          "data": {
            "text/plain": [
              "<BarContainer object of 6 artists>"
            ]
          },
          "metadata": {
            "tags": []
          },
          "execution_count": 146
        },
        {
          "output_type": "stream",
          "text": [
            "/usr/local/lib/python3.6/dist-packages/ipykernel_launcher.py:12: UserWarning: Legend does not support None instances.\n",
            "A proxy artist may be used instead.\n",
            "See: http://matplotlib.org/users/legend_guide.html#creating-artists-specifically-for-adding-to-the-legend-aka-proxy-artists\n",
            "  if sys.path[0] == '':\n"
          ],
          "name": "stderr"
        },
        {
          "output_type": "execute_result",
          "data": {
            "text/plain": [
              "<matplotlib.legend.Legend at 0x7f72d67415c0>"
            ]
          },
          "metadata": {
            "tags": []
          },
          "execution_count": 146
        },
        {
          "output_type": "execute_result",
          "data": {
            "text/plain": [
              "Text(0, 0.5, 'RMSE')"
            ]
          },
          "metadata": {
            "tags": []
          },
          "execution_count": 146
        },
        {
          "output_type": "execute_result",
          "data": {
            "text/plain": [
              "Text(0.5, 1.0, 'Comparison')"
            ]
          },
          "metadata": {
            "tags": []
          },
          "execution_count": 146
        },
        {
          "output_type": "display_data",
          "data": {
            "image/png": "[encoded data removed]",
            "text/plain": [
              "<Figure size 432x288 with 1 Axes>"
            ]
          },
          "metadata": {
            "tags": [],
            "needs_background": "light"
          }
        }
      ]
    },
    {
      "cell_type": "markdown",
      "metadata": {
        "id": "TTyQeJjK6fd3",
        "colab_type": "text"
      },
      "source": [
        "# candle stick ploting "
      ]
    },
    {
      "cell_type": "code",
      "metadata": {
        "id": "fYEZzw4QKWC4",
        "colab_type": "code",
        "colab": {}
      },
      "source": [
        "# !pip install https://github.com/matplotlib/mpl_finance/archive/master.zip\n"
      ],
      "execution_count": 0,
      "outputs": []
    },
    {
      "cell_type": "code",
      "metadata": {
        "id": "cf2VjlRSSVwh",
        "colab_type": "code",
        "colab": {}
      },
      "source": [
        "#  from matplotlib.dates import DateFormatter, WeekdayLocator,    DayLocator, MONDAY\n",
        "# from mpl_finance import candlestick_ohlc\n",
        " \n",
        "# def pandas_candlestick_ohlc(dat, stick = \"day\", otherseries = None):\n",
        "#     \"\"\"\n",
        "#     :param dat: pandas DataFrame object with datetime64 index, and float columns \"Open\", \"High\", \"Low\", and \"Close\", likely created via DataReader from \"yahoo\"\n",
        "#     :param stick: A string or number indicating the period of time covered by a single candlestick. Valid string inputs include \"day\", \"week\", \"month\", and \"year\", (\"day\" default), and any numeric input indicates the number of trading days included in a period\n",
        "#     :param otherseries: An iterable that will be coerced into a list, containing the columns of dat that hold other series to be plotted as lines\n",
        " \n",
        "#     This will show a Japanese candlestick plot for stock data stored in dat, also plotting other series if passed.\n",
        "#     \"\"\"\n",
        "#     mondays = WeekdayLocator(MONDAY)        # major ticks on the mondays\n",
        "#     alldays = DayLocator()              # minor ticks on the days\n",
        "#     dayFormatter = DateFormatter('%d')      # e.g., 12\n",
        " \n",
        "#     # Create a new DataFrame which includes OHLC data for each period specified by stick input\n",
        "#     transdat = dat.loc[:,[\"Open\", \"High\", \"Low\", \"Close\"]]\n",
        "#     if (type(stick) == str):\n",
        "#         if stick == \"day\":\n",
        "#             plotdat = transdat\n",
        "#             stick = 1 # Used for plotting\n",
        "#         elif stick in [\"week\", \"month\", \"year\"]:\n",
        "#             if stick == \"week\":\n",
        "#                 transdat[\"week\"] = pd.to_datetime(transdat.index).map(lambda x: x.isocalendar()[1]) # Identify weeks\n",
        "#             elif stick == \"month\":\n",
        "#                 transdat[\"month\"] = pd.to_datetime(transdat.index).map(lambda x: x.month) # Identify months\n",
        "#             transdat[\"year\"] = pd.to_datetime(transdat.index).map(lambda x: x.isocalendar()[0]) # Identify years\n",
        "#             grouped = transdat.groupby(list(set([\"year\",stick]))) # Group by year and other appropriate variable\n",
        "#             plotdat = pd.DataFrame({\"Open\": [], \"High\": [], \"Low\": [], \"Close\": []}) # Create empty data frame containing what will be plotted\n",
        "#             for name, group in grouped:\n",
        "#                 plotdat = plotdat.append(pd.DataFrame({\"Open\": group.iloc[0,0],\n",
        "#                                             \"High\": max(group.High),\n",
        "#                                             \"Low\": min(group.Low),\n",
        "#                                             \"Close\": group.iloc[-1,3]},\n",
        "#                                            index = [group.index[0]]))\n",
        "#             if stick == \"week\": stick = 5\n",
        "#             elif stick == \"month\": stick = 30\n",
        "#             elif stick == \"year\": stick = 365\n",
        " \n",
        "#     elif (type(stick) == int and stick >= 1):\n",
        "#         transdat[\"stick\"] = [np.floor(i / stick) for i in range(len(transdat.index))]\n",
        "#         grouped = transdat.groupby(\"stick\")\n",
        "#         plotdat = pd.DataFrame({\"Open\": [], \"High\": [], \"Low\": [], \"Close\": []}) # Create empty data frame containing what will be plotted\n",
        "#         for name, group in grouped:\n",
        "#             plotdat = plotdat.append(pd.DataFrame({\"Open\": group.iloc[0,0],\n",
        "#                                         \"High\": max(group.High),\n",
        "#                                         \"Low\": min(group.Low),\n",
        "#                                         \"Close\": group.iloc[-1,3]},\n",
        "#                                        index = [group.index[0]]))\n",
        " \n",
        "#     else:\n",
        "#         raise ValueError('Valid inputs to argument \"stick\" include the strings \"day\", \"week\", \"month\", \"year\", or a positive integer')\n",
        " \n",
        " \n",
        "#     # Set plot parameters, including the axis object ax used for plotting\n",
        "#     fig, ax = plt.subplots()\n",
        "#     fig.subplots_adjust(bottom=0.2)\n",
        "#     if plotdat.index[-1] - plotdat.index[0] < pd.Timedelta('730 days'):\n",
        "#         weekFormatter = DateFormatter('%b %d')  # e.g., Jan 12\n",
        "#         ax.xaxis.set_major_locator(mondays)\n",
        "#         ax.xaxis.set_minor_locator(alldays)\n",
        "#     else:\n",
        "#         weekFormatter = DateFormatter('%b %d, %Y')\n",
        "#     ax.xaxis.set_major_formatter(weekFormatter)\n",
        " \n",
        "#     ax.grid(True)\n",
        " \n",
        "#     # Create the candelstick chart\n",
        "#     candlestick_ohlc(ax, list(zip(list(date2num(plotdat.index.tolist())), plotdat[\"Open\"].tolist(), plotdat[\"High\"].tolist(),\n",
        "#                       plotdat[\"Low\"].tolist(), plotdat[\"Close\"].tolist())),\n",
        "#                       colorup = \"black\", colordown = \"red\", width = stick * .4)\n",
        " \n",
        "#     # Plot other series (such as moving averages) as lines\n",
        "#     if otherseries != None:\n",
        "#         if type(otherseries) != list:\n",
        "#             otherseries = [otherseries]\n",
        "#         dat.loc[:,otherseries].plot(ax = ax, lw = 1.3, grid = True)\n",
        " \n",
        "#     ax.xaxis_date()\n",
        "#     ax.autoscale_view()\n",
        "#     plt.setp(plt.gca().get_xticklabels(), rotation=90, horizontalalignment='right')\n",
        " \n",
        "#     plt.show()\n",
        " \n",
        "# #pandas_candlestick_ohlc(apple)\n",
        "# FNGU = web.DataReader(\"FNGU\", \"yahoo\", start, end)\n",
        "\n",
        "# FNGU[\"14d\"] = np.round(FNGU[\"Close\"].rolling(window = 20, center = False).mean(), 2)\n",
        "# pandas_candlestick_ohlc(FNGU.loc['2019-01-04':], otherseries = \"14d\") # FNGU.loc['201-01-04':'2016-08-07',:]"
      ],
      "execution_count": 0,
      "outputs": []
    },
    {
      "cell_type": "code",
      "metadata": {
        "id": "Hpzvy5HvZV1q",
        "colab_type": "code",
        "colab": {}
      },
      "source": [
        ""
      ],
      "execution_count": 0,
      "outputs": []
    },
    {
      "cell_type": "code",
      "metadata": {
        "id": "Z7idjOg9ZV5D",
        "colab_type": "code",
        "colab": {}
      },
      "source": [
        ""
      ],
      "execution_count": 0,
      "outputs": []
    },
    {
      "cell_type": "code",
      "metadata": {
        "id": "PZKOvn_PZV8d",
        "colab_type": "code",
        "colab": {}
      },
      "source": [
        ""
      ],
      "execution_count": 0,
      "outputs": []
    },
    {
      "cell_type": "code",
      "metadata": {
        "id": "Uwa5QLbq6f3P",
        "colab_type": "code",
        "colab": {}
      },
      "source": [
        ""
      ],
      "execution_count": 0,
      "outputs": []
    }
  ]
}